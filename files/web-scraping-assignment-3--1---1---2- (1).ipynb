{
 "cells": [
  {
   "cell_type": "markdown",
   "id": "aa076077",
   "metadata": {},
   "source": [
    "Answer 1"
   ]
  },
  {
   "cell_type": "code",
   "execution_count": 2,
   "id": "865f7556",
   "metadata": {},
   "outputs": [],
   "source": [
    "import selenium\n",
    "import pandas as pd\n",
    "from selenium import webdriver\n",
    "import warnings\n",
    "warnings.filterwarnings('ignore')\n",
    "from selenium.webdriver.common.by import By\n",
    "from selenium.webdriver.support.ui import WebDriverWait\n",
    "from selenium.webdriver.support import expected_conditions as EC"
   ]
  },
  {
   "cell_type": "code",
   "execution_count": 3,
   "id": "0053ca1f",
   "metadata": {},
   "outputs": [],
   "source": [
    "driver = webdriver.Chrome()"
   ]
  },
  {
   "cell_type": "code",
   "execution_count": 4,
   "id": "d3af0145",
   "metadata": {},
   "outputs": [],
   "source": [
    "driver.get(\"https://www.amazon.in/\")"
   ]
  },
  {
   "cell_type": "code",
   "execution_count": 5,
   "id": "f0168b9c",
   "metadata": {},
   "outputs": [
    {
     "name": "stdout",
     "output_type": "stream",
     "text": [
      "Press ENTER after product name: Guitar\n"
     ]
    }
   ],
   "source": [
    "user_input = input(\"Press ENTER after product name: \")       #press enter after typing product name"
   ]
  },
  {
   "cell_type": "code",
   "execution_count": 12,
   "id": "7db3bad4",
   "metadata": {},
   "outputs": [],
   "source": [
    "input_field = driver.find_element(By.ID, \"twotabsearchtextbox\")\n",
    "input_field.send_keys(user_input)"
   ]
  },
  {
   "cell_type": "code",
   "execution_count": 13,
   "id": "50cbe649",
   "metadata": {},
   "outputs": [],
   "source": [
    "press=driver.find_element(By.XPATH, \"/html/body/div[1]/header/div/div[1]/div[2]/div/form/div[3]/div/span/input\")\n",
    "press.click()"
   ]
  },
  {
   "cell_type": "markdown",
   "id": "1d93434c",
   "metadata": {},
   "source": [
    "Answer 2"
   ]
  },
  {
   "cell_type": "code",
   "execution_count": 59,
   "id": "f951eeec",
   "metadata": {},
   "outputs": [],
   "source": [
    "Name9=[]\n",
    "Name_of_productf=[]    \n",
    "Price9=[]\n",
    "Return_exchangee=[]\n",
    "Expected_deliverym=[]\n",
    "Availabilityl=[]\n",
    "Product_urlf=[]"
   ]
  },
  {
   "cell_type": "code",
   "execution_count": 80,
   "id": "99a0d677",
   "metadata": {},
   "outputs": [],
   "source": [
    "start = 0            #name\n",
    "end = 3\n",
    "for page in range(start,end):\n",
    "    named=driver.find_elements(By.XPATH, '//h2[@class=\"a-size-mini a-spacing-none a-color-base s-line-clamp-4\"]')\n",
    "    for i in named:\n",
    "        title=user_input\n",
    "        Name9.append(title)\n",
    "next_button = driver.find_element(By.XPATH, '/html/body/div[1]/div[1]/div[1]/div[1]/div/span[1]/div[1]/div[67]/div/div/span/a[3]')\n",
    "next_button.click()\n",
    "driver.back()"
   ]
  },
  {
   "cell_type": "code",
   "execution_count": 64,
   "id": "ef268ecc",
   "metadata": {},
   "outputs": [],
   "source": [
    "start = 0                 #name of product\n",
    "end = 3\n",
    "for page in range(start,end):\n",
    "    names=driver.find_elements(By.XPATH, '//h2[@class=\"a-size-mini a-spacing-none a-color-base s-line-clamp-4\"]')\n",
    "    for i in names:\n",
    "        title=i.text\n",
    "        Name_of_productf.append(title)\n",
    "next_button = driver.find_element(By.XPATH, '/html/body/div[1]/div[1]/div[1]/div[1]/div/span[1]/div[1]/div[67]/div/div/span/a[3]')\n",
    "next_button.click()\n",
    "driver.back()"
   ]
  },
  {
   "cell_type": "code",
   "execution_count": 65,
   "id": "1d810e53",
   "metadata": {},
   "outputs": [],
   "source": [
    "start = 0                 #price\n",
    "end = 3\n",
    "for page in range(start,end):\n",
    "    prize6=driver.find_elements(By.XPATH, '//span[@class=\"a-price-whole\"]')\n",
    "    Prizes6 = prize6\n",
    "    for i in Prizes6:\n",
    "        title=i.text\n",
    "        Price9.append(title)\n",
    "next_button = driver.find_element(By.XPATH, '/html/body/div[1]/div[1]/div[1]/div[1]/div/span[1]/div[1]/div[67]/div/div/span/a[3]')\n",
    "next_button.click()\n",
    "driver.back()"
   ]
  },
  {
   "cell_type": "code",
   "execution_count": 66,
   "id": "b8aba67d",
   "metadata": {},
   "outputs": [
    {
     "data": {
      "text/plain": [
       "198"
      ]
     },
     "execution_count": 66,
     "metadata": {},
     "output_type": "execute_result"
    }
   ],
   "source": [
    "len(Price9)"
   ]
  },
  {
   "cell_type": "code",
   "execution_count": 67,
   "id": "98d1b63a",
   "metadata": {},
   "outputs": [],
   "source": [
    "default_policy = ('-')\n",
    "\n",
    "start = 0            #return exchange\n",
    "end = 3\n",
    "for page in range(start,end):\n",
    "    nums=driver.find_elements(By.XPATH, '//h2[@class=\"a-size-mini a-spacing-none a-color-base s-line-clamp-4\"]')\n",
    "    for i in nums:\n",
    "        title=default_policy\n",
    "        Return_exchangee.append(title)\n",
    "next_button = driver.find_element(By.XPATH, '/html/body/div[1]/div[1]/div[1]/div[1]/div/span[1]/div[1]/div[67]/div/div/span/a[3]')\n",
    "next_button.click()\n",
    "driver.back()"
   ]
  },
  {
   "cell_type": "code",
   "execution_count": 68,
   "id": "7327ed83",
   "metadata": {},
   "outputs": [
    {
     "data": {
      "text/plain": [
       "195"
      ]
     },
     "execution_count": 68,
     "metadata": {},
     "output_type": "execute_result"
    }
   ],
   "source": [
    "len(Return_exchangee)"
   ]
  },
  {
   "cell_type": "code",
   "execution_count": 77,
   "id": "40808adb",
   "metadata": {},
   "outputs": [],
   "source": [
    "start = 0                 #delivery date   \n",
    "end = 3\n",
    "for page in range(start,end):\n",
    "    datessz=driver.find_elements(By.XPATH, '//span[@class=\"a-color-base a-text-bold\"]')\n",
    "    for i in datessz:\n",
    "        title=i.text\n",
    "        Expected_deliverym.append(title)\n",
    "next_button = driver.find_element(By.XPATH, '/html/body/div[1]/div[1]/div[1]/div[1]/div/span[1]/div[1]/div[67]/div/div/span/a[3]')\n",
    "next_button.click()\n",
    "driver.back()"
   ]
  },
  {
   "cell_type": "code",
   "execution_count": 78,
   "id": "18e96867",
   "metadata": {},
   "outputs": [
    {
     "data": {
      "text/plain": [
       "354"
      ]
     },
     "execution_count": 78,
     "metadata": {},
     "output_type": "execute_result"
    }
   ],
   "source": [
    "len(Expected_deliverym)"
   ]
  },
  {
   "cell_type": "code",
   "execution_count": 73,
   "id": "b6a64514",
   "metadata": {},
   "outputs": [],
   "source": [
    "Availability =('-')\n",
    "\n",
    "start = 0                 #availability  \n",
    "end = 3\n",
    "for page in range(start,end):\n",
    "    wezl=driver.find_elements(By.XPATH, '//h2[@class=\"a-size-mini a-spacing-none a-color-base s-line-clamp-4\"]')\n",
    "    for i in wezl:\n",
    "        title=Availability\n",
    "        Availabilityl.append(title)\n",
    "next_button = driver.find_element(By.XPATH, '/html/body/div[1]/div[1]/div[1]/div[1]/div/span[1]/div[1]/div[67]/div/div/span/a[3]')\n",
    "next_button.click()\n",
    "driver.back()"
   ]
  },
  {
   "cell_type": "code",
   "execution_count": 74,
   "id": "d541a909",
   "metadata": {},
   "outputs": [
    {
     "data": {
      "text/plain": [
       "195"
      ]
     },
     "execution_count": 74,
     "metadata": {},
     "output_type": "execute_result"
    }
   ],
   "source": [
    "len(Availabilityl)"
   ]
  },
  {
   "cell_type": "code",
   "execution_count": 17,
   "id": "7eed5ef3",
   "metadata": {},
   "outputs": [],
   "source": [
    "start = 0                 #url\n",
    "end = 3\n",
    "for page in range(start,end):\n",
    "    RAY=driver.find_elements(By.XPATH, '//a[@class=\"a-link-normal s-underline-text s-underline-link-text s-link-style a-text-normal\"]')\n",
    "    for i in RAY:\n",
    "        f = i.get_attribute('href')\n",
    "        n = f[:180]\n",
    "    \n",
    "next_button = driver.find_element(By.XPATH, '/html/body/div[1]/div[1]/div[1]/div[1]/div/span[1]/div[1]/div[67]/div/div/span/a[3]')\n",
    "next_button.click()\n",
    "driver.back()"
   ]
  },
  {
   "cell_type": "code",
   "execution_count": 83,
   "id": "ff0a0bf5",
   "metadata": {},
   "outputs": [
    {
     "data": {
      "text/html": [
       "<div>\n",
       "<style scoped>\n",
       "    .dataframe tbody tr th:only-of-type {\n",
       "        vertical-align: middle;\n",
       "    }\n",
       "\n",
       "    .dataframe tbody tr th {\n",
       "        vertical-align: top;\n",
       "    }\n",
       "\n",
       "    .dataframe thead th {\n",
       "        text-align: right;\n",
       "    }\n",
       "</style>\n",
       "<table border=\"1\" class=\"dataframe\">\n",
       "  <thead>\n",
       "    <tr style=\"text-align: right;\">\n",
       "      <th></th>\n",
       "      <th>Name</th>\n",
       "      <th>Name_of_product</th>\n",
       "      <th>Price</th>\n",
       "      <th>Return_exchange</th>\n",
       "      <th>Expected_delivery</th>\n",
       "      <th>Availability</th>\n",
       "      <th>Product_url</th>\n",
       "    </tr>\n",
       "  </thead>\n",
       "  <tbody>\n",
       "    <tr>\n",
       "      <th>0</th>\n",
       "      <td>Guitar</td>\n",
       "      <td>Kadence rosewood Guitar Frontier Series, Elect...</td>\n",
       "      <td>5,499</td>\n",
       "      <td>-</td>\n",
       "      <td>Wednesday, 14 February</td>\n",
       "      <td>-</td>\n",
       "      <td>https://aax-eu.amazon.in/x/c/RJblrI8gMs2nG4YA5...</td>\n",
       "    </tr>\n",
       "    <tr>\n",
       "      <th>1</th>\n",
       "      <td>Guitar</td>\n",
       "      <td>Kadence Frontier guitar with Online Guitar lea...</td>\n",
       "      <td>4,999</td>\n",
       "      <td>-</td>\n",
       "      <td>Wednesday, 14 February</td>\n",
       "      <td>-</td>\n",
       "      <td>https://aax-eu.amazon.in/x/c/RJblrI8gMs2nG4YA5...</td>\n",
       "    </tr>\n",
       "    <tr>\n",
       "      <th>2</th>\n",
       "      <td>Guitar</td>\n",
       "      <td>Henrix 38C 38 Inch Cutaway Acoustic Guitar Wit...</td>\n",
       "      <td>3,099</td>\n",
       "      <td>-</td>\n",
       "      <td>Tuesday, 13 February</td>\n",
       "      <td>-</td>\n",
       "      <td>https://aax-eu.amazon.in/x/c/RJblrI8gMs2nG4YA5...</td>\n",
       "    </tr>\n",
       "    <tr>\n",
       "      <th>3</th>\n",
       "      <td>Guitar</td>\n",
       "      <td>MOCKING BIRD 38c Acoustic Guitar for Beginners...</td>\n",
       "      <td>3,299</td>\n",
       "      <td>-</td>\n",
       "      <td>Wednesday, 14 February</td>\n",
       "      <td>-</td>\n",
       "      <td>https://aax-eu.amazon.in/x/c/RJblrI8gMs2nG4YA5...</td>\n",
       "    </tr>\n",
       "    <tr>\n",
       "      <th>4</th>\n",
       "      <td>Guitar</td>\n",
       "      <td>Juarez Lindenwood Acoustic Guitar, 38 Inches C...</td>\n",
       "      <td>1,709</td>\n",
       "      <td>-</td>\n",
       "      <td>Wednesday, 14 February</td>\n",
       "      <td>-</td>\n",
       "      <td>https://aax-eu.amazon.in/x/c/RJblrI8gMs2nG4YA5...</td>\n",
       "    </tr>\n",
       "    <tr>\n",
       "      <th>...</th>\n",
       "      <td>...</td>\n",
       "      <td>...</td>\n",
       "      <td>...</td>\n",
       "      <td>...</td>\n",
       "      <td>...</td>\n",
       "      <td>...</td>\n",
       "      <td>...</td>\n",
       "    </tr>\n",
       "    <tr>\n",
       "      <th>175</th>\n",
       "      <td>Guitar</td>\n",
       "      <td>Kadence A281 Professional Acoustic Rosewood gu...</td>\n",
       "      <td>9,299</td>\n",
       "      <td>-</td>\n",
       "      <td>Monday, 12 February</td>\n",
       "      <td>-</td>\n",
       "      <td>https://aax-eu.amazon.in/x/c/RJblrI8gMs2nG4YA5...</td>\n",
       "    </tr>\n",
       "    <tr>\n",
       "      <th>176</th>\n",
       "      <td>Guitar</td>\n",
       "      <td>Yamaha F280 Acoustic wood Guitar, Tobacco own ...</td>\n",
       "      <td>2,499</td>\n",
       "      <td>-</td>\n",
       "      <td>Thu, 15 Feb</td>\n",
       "      <td>-</td>\n",
       "      <td>https://aax-eu.amazon.in/x/c/RJblrI8gMs2nG4YA5...</td>\n",
       "    </tr>\n",
       "    <tr>\n",
       "      <th>177</th>\n",
       "      <td>Guitar</td>\n",
       "      <td>Intern INT-38C-BK-G Cutaway Right Handed Acous...</td>\n",
       "      <td>6,499</td>\n",
       "      <td>-</td>\n",
       "      <td>Wednesday, 14 February</td>\n",
       "      <td>-</td>\n",
       "      <td>https://aax-eu.amazon.in/x/c/RJblrI8gMs2nG4YA5...</td>\n",
       "    </tr>\n",
       "    <tr>\n",
       "      <th>178</th>\n",
       "      <td>Guitar</td>\n",
       "      <td>Fender Dreadnought Acoustic Guitar FA-125 Blac...</td>\n",
       "      <td>8,499</td>\n",
       "      <td>-</td>\n",
       "      <td>Wednesday, 14 February</td>\n",
       "      <td>-</td>\n",
       "      <td>https://aax-eu.amazon.in/x/c/RJblrI8gMs2nG4YA5...</td>\n",
       "    </tr>\n",
       "    <tr>\n",
       "      <th>179</th>\n",
       "      <td>Guitar</td>\n",
       "      <td>Yamaha F280 Acoustic Guitar, Tobacco Brown Sun...</td>\n",
       "      <td>1,995</td>\n",
       "      <td>-</td>\n",
       "      <td>Tuesday, 13 February</td>\n",
       "      <td>-</td>\n",
       "      <td>https://aax-eu.amazon.in/x/c/RJblrI8gMs2nG4YA5...</td>\n",
       "    </tr>\n",
       "  </tbody>\n",
       "</table>\n",
       "<p>180 rows × 7 columns</p>\n",
       "</div>"
      ],
      "text/plain": [
       "       Name                                    Name_of_product  Price  \\\n",
       "0    Guitar  Kadence rosewood Guitar Frontier Series, Elect...  5,499   \n",
       "1    Guitar  Kadence Frontier guitar with Online Guitar lea...  4,999   \n",
       "2    Guitar  Henrix 38C 38 Inch Cutaway Acoustic Guitar Wit...  3,099   \n",
       "3    Guitar  MOCKING BIRD 38c Acoustic Guitar for Beginners...  3,299   \n",
       "4    Guitar  Juarez Lindenwood Acoustic Guitar, 38 Inches C...  1,709   \n",
       "..      ...                                                ...    ...   \n",
       "175  Guitar  Kadence A281 Professional Acoustic Rosewood gu...  9,299   \n",
       "176  Guitar  Yamaha F280 Acoustic wood Guitar, Tobacco own ...  2,499   \n",
       "177  Guitar  Intern INT-38C-BK-G Cutaway Right Handed Acous...  6,499   \n",
       "178  Guitar  Fender Dreadnought Acoustic Guitar FA-125 Blac...  8,499   \n",
       "179  Guitar  Yamaha F280 Acoustic Guitar, Tobacco Brown Sun...  1,995   \n",
       "\n",
       "    Return_exchange       Expected_delivery Availability  \\\n",
       "0                 -  Wednesday, 14 February            -   \n",
       "1                 -  Wednesday, 14 February            -   \n",
       "2                 -    Tuesday, 13 February            -   \n",
       "3                 -  Wednesday, 14 February            -   \n",
       "4                 -  Wednesday, 14 February            -   \n",
       "..              ...                     ...          ...   \n",
       "175               -     Monday, 12 February            -   \n",
       "176               -             Thu, 15 Feb            -   \n",
       "177               -  Wednesday, 14 February            -   \n",
       "178               -  Wednesday, 14 February            -   \n",
       "179               -    Tuesday, 13 February            -   \n",
       "\n",
       "                                           Product_url  \n",
       "0    https://aax-eu.amazon.in/x/c/RJblrI8gMs2nG4YA5...  \n",
       "1    https://aax-eu.amazon.in/x/c/RJblrI8gMs2nG4YA5...  \n",
       "2    https://aax-eu.amazon.in/x/c/RJblrI8gMs2nG4YA5...  \n",
       "3    https://aax-eu.amazon.in/x/c/RJblrI8gMs2nG4YA5...  \n",
       "4    https://aax-eu.amazon.in/x/c/RJblrI8gMs2nG4YA5...  \n",
       "..                                                 ...  \n",
       "175  https://aax-eu.amazon.in/x/c/RJblrI8gMs2nG4YA5...  \n",
       "176  https://aax-eu.amazon.in/x/c/RJblrI8gMs2nG4YA5...  \n",
       "177  https://aax-eu.amazon.in/x/c/RJblrI8gMs2nG4YA5...  \n",
       "178  https://aax-eu.amazon.in/x/c/RJblrI8gMs2nG4YA5...  \n",
       "179  https://aax-eu.amazon.in/x/c/RJblrI8gMs2nG4YA5...  \n",
       "\n",
       "[180 rows x 7 columns]"
      ]
     },
     "execution_count": 83,
     "metadata": {},
     "output_type": "execute_result"
    }
   ],
   "source": [
    "a_data=pd.DataFrame({})\n",
    "a_data['Name']=Name9[:180]\n",
    "a_data['Name_of_product']=Name_of_productf[:180]\n",
    "a_data['Price']=Price9[:180]\n",
    "a_data['Return_exchange']=Return_exchangee[:180]\n",
    "a_data['Expected_delivery']=Expected_deliverym[:180]\n",
    "a_data['Availability']=Availabilityl[:180]\n",
    "a_data['Product_url']=n[:180]\n",
    "a_data"
   ]
  },
  {
   "cell_type": "markdown",
   "id": "d08f60d1",
   "metadata": {},
   "source": [
    "QUESTION 3"
   ]
  },
  {
   "cell_type": "code",
   "execution_count": 19,
   "id": "ad373146",
   "metadata": {},
   "outputs": [],
   "source": [
    "import bs4 as BeautifulSoup\n",
    "import requests\n",
    "import selenium\n",
    "import pandas as pd\n",
    "from selenium import webdriver\n",
    "import warnings\n",
    "warnings.filterwarnings('ignore')\n",
    "from selenium.webdriver.common.by import By\n",
    "from bs4 import BeautifulSoup"
   ]
  },
  {
   "cell_type": "code",
   "execution_count": 8,
   "id": "cc5ad1f7",
   "metadata": {},
   "outputs": [],
   "source": [
    "driver = webdriver.Chrome()"
   ]
  },
  {
   "cell_type": "code",
   "execution_count": 9,
   "id": "cfe78b4f",
   "metadata": {},
   "outputs": [],
   "source": [
    "driver.get(\"https://images.google.com/\")"
   ]
  },
  {
   "cell_type": "code",
   "execution_count": 10,
   "id": "60619f5b",
   "metadata": {},
   "outputs": [],
   "source": [
    "typing=driver.find_element(By.XPATH, \"/html/body/div[1]/div[3]/form/div[1]/div[1]/div[1]/div/div[2]/textarea \")\n",
    "typing.send_keys('fruits')"
   ]
  },
  {
   "cell_type": "code",
   "execution_count": 11,
   "id": "87494e38",
   "metadata": {},
   "outputs": [],
   "source": [
    "press=driver.find_element(By.XPATH, \"/html/body/div[1]/div[3]/form/div[1]/div[1]/div[1]/button/div/span\")\n",
    "press.click()"
   ]
  },
  {
   "cell_type": "code",
   "execution_count": 27,
   "id": "12a50eee",
   "metadata": {},
   "outputs": [],
   "source": [
    "page = requests.get('https://www.google.com/search?q=fruits&sca_esv=989459b10be17b82&tbm=isch&source=hp&biw=1036&bih=668&ei=StnEZdrTF7XAvr0PvoKguAI&iflsig=ANes7DEAAAAAZcTnWqOJk2r1hCC5wz1HtXxBS8egcau9&ved=0ahUKEwjaoN3k7puEAxU1oK8BHT4BCCcQ4dUDCAc&oq=fruits&gs_lp=EgNpbWciBmZydWl0czIIEAAYgAQYsQMyCBAAGIAEGLEDMggQABiABBixAzIIEAAYgAQYsQMyCBAAGIAEGLEDMggQABiABBixAzIIEAAYgAQYsQMyCBAAGIAEGLEDMggQABiABBixAzILEAAYgAQYsQMYgwFI86qmAVDzloABWO_-hAFwBXgAkAEHmAHeAaABgQuqAQUzLjUuM7gBDMgBAPgBAYoCC2d3cy13aXotaW1nqAIAwgIOEAAYgAQYigUYsQMYgwHCAgUQABiABMICBBAAGAM&sclient=img')"
   ]
  },
  {
   "cell_type": "code",
   "execution_count": 28,
   "id": "88653e0f",
   "metadata": {},
   "outputs": [
    {
     "data": {
      "text/plain": [
       "<Response [200]>"
      ]
     },
     "execution_count": 28,
     "metadata": {},
     "output_type": "execute_result"
    }
   ],
   "source": [
    "page"
   ]
  },
  {
   "cell_type": "code",
   "execution_count": 29,
   "id": "1a4d7ced",
   "metadata": {},
   "outputs": [
    {
     "data": {
      "text/plain": [
       "<!DOCTYPE html PUBLIC \"-//WAPFORUM//DTD XHTML Mobile 1.0//EN\" \"http://www.wapforum.org/DTD/xhtml-mobile10.dtd\">\n",
       "<html lang=\"en-IN\" xmlns=\"http://www.w3.org/1999/xhtml\"><head><meta content=\"application/xhtml+xml; charset=utf-8\" http-equiv=\"Content-Type\"/><meta content=\"no-cache\" name=\"Cache-Control\"/><title>fruits - Google Search</title><style>a{text-decoration:none;color:inherit}a:hover{text-decoration:underline}a img{border:0}body{font-family:arial,sans-serif;padding:8px;margin:0 auto;max-width:700px;min-width:240px;}.FbhRzb{border-left:thin solid #dadce0;border-right:thin solid #dadce0;border-top:thin solid #dadce0;height:40px;overflow:hidden}.n692Zd{margin-bottom:10px}.cvifge{height:40px;border-spacing:0}.QvGUP{height:40px;padding:0 8px 0 8px;vertical-align:top}.O4cRJf{height:40px;width:100%;padding:0;padding-right:16px}.O1ePr{height:40px;padding:0;vertical-align:top}.kgJEQe{height:36px;width:98px;vertical-align:top;margin-top:4px}.lXLRf{vertical-align:top}.MhzMZd{border:0;vertical-align:middle;font-size:14px;height:40px;padding:0;width:100%;padding-left:16px}.xB0fq{height:40px;border:none;font-size:14px;background-color:#1a73e8;color:#fff;padding:0 16px;margin:0;vertical-align:top;cursor:pointer}.xB0fq:focus{border:1px solid #1a73e8}.M7pB2{border:thin solid #dadce0;margin:0 0 3px 0;font-size:13px;font-weight:500;height:40px}.euZec{width:100%;height:40px;text-align:center;border-spacing:0}table.euZec td{padding:0;width:25%}.QIqI7{display:inline-block;padding-top:4px;font-weight:bold;color:#4285f4}.EY24We{border-bottom:2px solid #4285f4}.CsQyDc{display:inline-block;color:#70757a}.TuS8Ad{font-size:14px}.HddGcc{padding:8px;color:#70757a}.dzp8ae{font-weight:bold;color:#3c4043}.rEM8G{color:#70757a}.bookcf{table-layout:fixed;width:100%;border-spacing:0}.InWNIe{text-align:center}.uZgmoc{border:thin solid #dadce0;color:#70757a;font-size:14px;text-align:center;table-layout:fixed;width:100%}.frGj1b{display:block;padding:12px 0 12px 0;width:100%}.BnJWBc{text-align:center;padding:6px 0 13px 0;height:35px}.e3goi{vertical-align:top;padding:0;height:180px}.GpQGbf{margin:auto;border-collapse:collapse;border-spacing:0;width:100%}</style></head><body><style>.X6ZCif{color:#202124;font-size:11px;line-height:16px;display:inline-block;padding-top:2px;overflow:hidden;padding-bottom:4px;width:100%}.TwVfHd{border-radius:16px;border:thin solid #dadce0;display:inline-block;padding:8px 8px;margin-right:8px;margin-bottom:4px}.yekiAe{background-color:#dadce0}.jjVJ4e{width:100%}.ezO2md{border:thin solid #dadce0;padding:12px 16px 12px 16px;margin-bottom:10px;font-family:arial,sans-serif}.lIMUZd{font-family:arial,sans-serif}.RntSmf{border-spacing:0}.lgD2Tc{width:100%}.SpelHe{text-align:center}.SpelHe{position:relative}.deHqpb{bottom:0;left:0;margin:auto;position:absolute;right:0;top:0}.kCmkOe{position:relative}.ID6Z3b{background-image:url(https://www.gstatic.com/search_trustx/visibility_off_icon_p0-7d897bf44bafe5436baa9009e8716337.png);background-repeat:no-repeat;background-position:center;background-size:20px}.kCmkOe{width:162px;height:140px;line-height:140px;overflow:'hidden';text-align:center}.DS1iW{text-align:center;margin:auto;vertical-align:middle;max-width:162px;max-height:140px}.AlD19d{padding-top:2px;padding-bottom:8px;}.fYyStc{word-break:break-word}.ynsChf{display:block;white-space:nowrap;overflow:hidden;text-overflow:ellipsis}.Fj3V3b{color:#1967d2;font-size:14px;line-height:20px}.FrIlee{color:#202124;font-size:11px;line-height:16px}.F9iS2e{color:#70757a;font-size:11px;line-height:16px}.WMQ2Le{color:#70757a;font-size:12px;line-height:16px}.x3G5ab{color:#202124;font-size:12px;line-height:16px}.fuLhoc{color:#1967d2;font-size:16px;line-height:20px}.epoveb{font-size:24px;line-height:28px;font-weight:400;color:#202124}.dXDvrc{color:#0d652d;font-size:14px;line-height:20px;word-wrap:break-word}.dloBPe{font-weight:bold}.YVIcad{color:#70757a}.JkVVdd{color:#ea4335}.oXZRFd{color:#ea4335}.MQHtg{color:#fbbc04}.pyMRrb{color:#1e8e3e}.EtTZid{color:#1e8e3e}.M3vVJe{color:#1967d2}.qXLe6d{display:block}.NHQNef{font-style:italic}.Cb8Z7c{white-space:pre}a.ZWRArf{text-decoration:none}a .CVA68e:hover{text-decoration:underline}</style><div class=\"n692Zd\"><div class=\"BnJWBc\"><a class=\"lXLRf\" href=\"/?sca_esv=989459b10be17b82&amp;biw=1036&amp;bih=668&amp;output=images&amp;ie=UTF-8&amp;tbm=isch&amp;sa=X&amp;ved=0ahUKEwi-7JXqhJ6EAxVI1jgGHUAKDWUQPAgC\"><img alt=\"Google\" class=\"kgJEQe\" src=\"/images/branding/searchlogo/1x/googlelogo_desk_heirloom_color_150x55dp.gif\"/></a></div><div class=\"FbhRzb\"><form action=\"/search\"><input name=\"sca_esv\" type=\"hidden\" value=\"989459b10be17b82\"/><input name=\"biw\" type=\"hidden\" value=\"1036\"/><input name=\"bih\" type=\"hidden\" value=\"668\"/><input name=\"ie\" type=\"hidden\" value=\"ISO-8859-1\"/><input name=\"tbm\" type=\"hidden\" value=\"isch\"/><input name=\"oq\" type=\"hidden\"/><input name=\"aqs\" type=\"hidden\"/><table class=\"cvifge\"><tr><td class=\"O4cRJf\"><input class=\"MhzMZd\" name=\"q\" type=\"text\" value=\"fruits\"/></td><td class=\"O1ePr\"><input class=\"xB0fq\" type=\"submit\" value=\"Search\"/></td></tr></table></form></div><div class=\"M7pB2\"><table class=\"euZec\"><tbody><tr><td><a class=\"CsQyDc\" href=\"/search?q=fruits&amp;sca_esv=989459b10be17b82&amp;biw=1036&amp;bih=668&amp;ie=UTF-8&amp;source=lnms&amp;sa=X&amp;ved=0ahUKEwi-7JXqhJ6EAxVI1jgGHUAKDWUQ_AUIBCgA\">ALL</a></td><td class=\"EY24We\"><span class=\"QIqI7\">IMAGES</span></td><td><a class=\"CsQyDc\" href=\"/search?q=fruits&amp;sca_esv=989459b10be17b82&amp;biw=1036&amp;bih=668&amp;ie=UTF-8&amp;tbm=nws&amp;source=lnms&amp;sa=X&amp;ved=0ahUKEwi-7JXqhJ6EAxVI1jgGHUAKDWUQ_AUIBigC\">NEWS</a></td><td><a class=\"CsQyDc\" href=\"/search?q=fruits&amp;sca_esv=989459b10be17b82&amp;biw=1036&amp;bih=668&amp;ie=UTF-8&amp;tbm=vid&amp;source=lnms&amp;sa=X&amp;ved=0ahUKEwi-7JXqhJ6EAxVI1jgGHUAKDWUQ_AUIBygD\">VIDEOS</a></td></tr></tbody></table></div></div><div class=\"X6ZCif\"><a class=\"TwVfHd\" href=\"/search?sca_esv=989459b10be17b82&amp;biw=1036&amp;bih=668&amp;ie=UTF-8&amp;tbm=isch&amp;q=fruits&amp;chips=q:fruits,g_1:drawing&amp;sa=X&amp;ved=0ahUKEwi-7JXqhJ6EAxVI1jgGHUAKDWUQ4lYICygA\">drawing</a><a class=\"TwVfHd\" href=\"/search?sca_esv=989459b10be17b82&amp;biw=1036&amp;bih=668&amp;ie=UTF-8&amp;tbm=isch&amp;q=fruits&amp;chips=q:fruits,g_1:clipart&amp;sa=X&amp;ved=0ahUKEwi-7JXqhJ6EAxVI1jgGHUAKDWUQ4lYIDCgB\">clipart</a><a class=\"TwVfHd\" href=\"/search?sca_esv=989459b10be17b82&amp;biw=1036&amp;bih=668&amp;ie=UTF-8&amp;tbm=isch&amp;q=fruits&amp;chips=q:fruits,g_1:orange&amp;sa=X&amp;ved=0ahUKEwi-7JXqhJ6EAxVI1jgGHUAKDWUQ4lYIDSgC\">orange</a><a class=\"TwVfHd\" href=\"/search?sca_esv=989459b10be17b82&amp;biw=1036&amp;bih=668&amp;ie=UTF-8&amp;tbm=isch&amp;q=fruits&amp;chips=q:fruits,g_1:single&amp;sa=X&amp;ved=0ahUKEwi-7JXqhJ6EAxVI1jgGHUAKDWUQ4lYIDigD\">single</a><a class=\"TwVfHd\" href=\"/search?sca_esv=989459b10be17b82&amp;biw=1036&amp;bih=668&amp;ie=UTF-8&amp;tbm=isch&amp;q=fruits&amp;chips=q:fruits,g_1:apple&amp;sa=X&amp;ved=0ahUKEwi-7JXqhJ6EAxVI1jgGHUAKDWUQ4lYIDygE\">apple</a><a class=\"TwVfHd\" href=\"/search?sca_esv=989459b10be17b82&amp;biw=1036&amp;bih=668&amp;ie=UTF-8&amp;tbm=isch&amp;q=fruits&amp;chips=q:fruits,g_1:mango&amp;sa=X&amp;ved=0ahUKEwi-7JXqhJ6EAxVI1jgGHUAKDWUQ4lYIECgF\">mango</a><a class=\"TwVfHd\" href=\"/search?sca_esv=989459b10be17b82&amp;biw=1036&amp;bih=668&amp;ie=UTF-8&amp;tbm=isch&amp;q=fruits&amp;chips=q:fruits,g_1:banana&amp;sa=X&amp;ved=0ahUKEwi-7JXqhJ6EAxVI1jgGHUAKDWUQ4lYIESgG\">banana</a><a class=\"TwVfHd\" href=\"/search?sca_esv=989459b10be17b82&amp;biw=1036&amp;bih=668&amp;ie=UTF-8&amp;tbm=isch&amp;q=fruits&amp;chips=q:fruits,g_1:vegetable&amp;sa=X&amp;ved=0ahUKEwi-7JXqhJ6EAxVI1jgGHUAKDWUQ4lYIEigH\">vegetable</a><a class=\"TwVfHd\" href=\"/search?sca_esv=989459b10be17b82&amp;biw=1036&amp;bih=668&amp;ie=UTF-8&amp;tbm=isch&amp;q=fruits&amp;chips=q:fruits,g_1:watermelon&amp;sa=X&amp;ved=0ahUKEwi-7JXqhJ6EAxVI1jgGHUAKDWUQ4lYIEygI\">watermelon</a><a class=\"TwVfHd\" href=\"/search?sca_esv=989459b10be17b82&amp;biw=1036&amp;bih=668&amp;ie=UTF-8&amp;tbm=isch&amp;q=fruits&amp;chips=q:fruits,g_1:wallpaper&amp;sa=X&amp;ved=0ahUKEwi-7JXqhJ6EAxVI1jgGHUAKDWUQ4lYIFCgJ\">wallpaper</a></div><div><table class=\"GpQGbf\"><tr><td align=\"center\" class=\"e3goi\"><div class=\"jjVJ4e\"> <div> <div class=\"lIMUZd\"><div><table class=\"RntSmf\"><tr><td><a href=\"/url?q=https://www.pinterest.com/pin/list-of-fruits-list-of-40-popular-fruit-names-with--700169073325521435/&amp;sa=U&amp;ved=2ahUKEwi-7JXqhJ6EAxVI1jgGHUAKDWUQqoUBegQIABAB&amp;usg=AOvVaw3rbwHHa7WQimOD_iaI4oGK\"><div class=\"kCmkOe\"><img alt=\"\" class=\"DS1iW\" src=\"https://encrypted-tbn0.gstatic.com/images?q=tbn:ANd9GcQym11TH7dW2Yhyvpx-izb8igCC6_l-23JMhRAij1psDPNsZ-OfzGTDjXtnljU&amp;s\"/></div></a></td></tr><tr><td><a href=\"/url?q=https://www.pinterest.com/pin/list-of-fruits-list-of-40-popular-fruit-names-with--700169073325521435/&amp;sa=U&amp;ved=2ahUKEwi-7JXqhJ6EAxVI1jgGHUAKDWUQr4kDegQIABAC&amp;usg=AOvVaw0mkOWj36xy0BakFMGYE8fP\"><div class=\"AlD19d\"> <span class=\"qXLe6d x3G5ab\"> <span class=\"fYyStc\">List Of Fruits: List Of 40+...</span> </span> <span class=\"qXLe6d F9iS2e\"> <span class=\"fYyStc\">www.pinterest.com</span> </span> </div></a></td></tr></table></div></div> </div> </div></td><td align=\"center\" class=\"e3goi\"><div class=\"jjVJ4e\"> <div> <div class=\"lIMUZd\"><div><table class=\"RntSmf\"><tr><td><a href=\"/url?q=https://www.geeksforgeeks.org/list-of-all-fruits-names-in-english/&amp;sa=U&amp;ved=2ahUKEwi-7JXqhJ6EAxVI1jgGHUAKDWUQqoUBegQIEhAB&amp;usg=AOvVaw33lyS5dSrusCcdU--Z4PpG\"><div class=\"kCmkOe\"><img alt=\"\" class=\"DS1iW\" src=\"https://encrypted-tbn0.gstatic.com/images?q=tbn:ANd9GcQnqaJidY3yxsv_D47D1Erbglu4o0qTm4dnfwykp-77BwGrOz-M9DKSpJIF3g&amp;s\"/></div></a></td></tr><tr><td><a href=\"/url?q=https://www.geeksforgeeks.org/list-of-all-fruits-names-in-english/&amp;sa=U&amp;ved=2ahUKEwi-7JXqhJ6EAxVI1jgGHUAKDWUQr4kDegQIEhAC&amp;usg=AOvVaw1bDl_naL3gUlliAm9_B_5d\"><div class=\"AlD19d\"> <span class=\"qXLe6d x3G5ab\"> <span class=\"fYyStc\">Fruits Name in English -...</span> </span> <span class=\"qXLe6d F9iS2e\"> <span class=\"fYyStc\">www.geeksforgeeks.org</span> </span> </div></a></td></tr></table></div></div> </div> </div></td><td align=\"center\" class=\"e3goi\"><div class=\"jjVJ4e\"> <div> <div class=\"lIMUZd\"><div><table class=\"RntSmf\"><tr><td><a href=\"/url?q=https://www.healthyeating.org/nutrition-topics/general/food-groups/fruits&amp;sa=U&amp;ved=2ahUKEwi-7JXqhJ6EAxVI1jgGHUAKDWUQqoUBegQIExAB&amp;usg=AOvVaw1WfnqTZ5xuITj57lBIZX8r\"><div class=\"kCmkOe\"><img alt=\"\" class=\"DS1iW\" src=\"https://encrypted-tbn0.gstatic.com/images?q=tbn:ANd9GcQ86pCpQFnZQzJlSUCJ-i04qECrYBku6HdYZj-wObv4baRAki2NSYnimmzNpw&amp;s\"/></div></a></td></tr><tr><td><a href=\"/url?q=https://www.healthyeating.org/nutrition-topics/general/food-groups/fruits&amp;sa=U&amp;ved=2ahUKEwi-7JXqhJ6EAxVI1jgGHUAKDWUQr4kDegQIExAC&amp;usg=AOvVaw2HxebBr_dI3f7GJWQovooI\"><div class=\"AlD19d\"> <span class=\"qXLe6d x3G5ab\"> <span class=\"fYyStc\">Fruits</span> </span> <span class=\"qXLe6d F9iS2e\"> <span class=\"fYyStc\">www.healthyeating.org</span> </span> </div></a></td></tr></table></div></div> </div> </div></td><td align=\"center\" class=\"e3goi\"><div class=\"jjVJ4e\"> <div> <div class=\"lIMUZd\"><div><table class=\"RntSmf\"><tr><td><a href=\"/url?q=https://www.pinterest.com/pin/649081365039047796/&amp;sa=U&amp;ved=2ahUKEwi-7JXqhJ6EAxVI1jgGHUAKDWUQqoUBegQIEBAB&amp;usg=AOvVaw38v5j6u1vfLPdaB8wGVsBh\"><div class=\"kCmkOe\"><img alt=\"\" class=\"DS1iW\" src=\"https://encrypted-tbn0.gstatic.com/images?q=tbn:ANd9GcQ1c1DAfgF3XONwSuKO3OrytUnolbKyE9ZoLSuQQCGb8udf05FY2C3bUobXqg&amp;s\"/></div></a></td></tr><tr><td><a href=\"/url?q=https://www.pinterest.com/pin/649081365039047796/&amp;sa=U&amp;ved=2ahUKEwi-7JXqhJ6EAxVI1jgGHUAKDWUQr4kDegQIEBAC&amp;usg=AOvVaw0B_fYSwom2oIQZS_ZHTKwZ\"><div class=\"AlD19d\"> <span class=\"qXLe6d x3G5ab\"> <span class=\"fYyStc\">Tropical Fruits: List of...</span> </span> <span class=\"qXLe6d F9iS2e\"> <span class=\"fYyStc\">www.pinterest.com</span> </span> </div></a></td></tr></table></div></div> </div> </div></td></tr><tr><td align=\"center\" class=\"e3goi\"><div class=\"jjVJ4e\"> <div> <div class=\"lIMUZd\"><div><table class=\"RntSmf\"><tr><td><a href=\"/url?q=https://www.amazon.in/Fruits-All-One-Dreamland-Publications/dp/8184510594&amp;sa=U&amp;ved=2ahUKEwi-7JXqhJ6EAxVI1jgGHUAKDWUQqoUBegQICRAB&amp;usg=AOvVaw1zAx4gcYYDpIdLcZLMP0bG\"><div class=\"kCmkOe\"><img alt=\"\" class=\"DS1iW\" src=\"https://encrypted-tbn0.gstatic.com/images?q=tbn:ANd9GcSyrOzaqjoA24sux59y27btgjCQ5S6LOW4olSJZpCJ9xIlGf-eNPGVXgp1LrIg&amp;s\"/></div></a></td></tr><tr><td><a href=\"/url?q=https://www.amazon.in/Fruits-All-One-Dreamland-Publications/dp/8184510594&amp;sa=U&amp;ved=2ahUKEwi-7JXqhJ6EAxVI1jgGHUAKDWUQr4kDegQICRAC&amp;usg=AOvVaw1p6Z6vUactxISqJPrG4tUP\"><div class=\"AlD19d\"> <span class=\"qXLe6d x3G5ab\"> <span class=\"fYyStc\">Fruits (All in One)...</span> </span> <span class=\"qXLe6d F9iS2e\"> <span class=\"fYyStc\">www.amazon.in</span> </span> </div></a></td></tr></table></div></div> </div> </div></td><td align=\"center\" class=\"e3goi\"><div class=\"jjVJ4e\"> <div> <div class=\"lIMUZd\"><div><table class=\"RntSmf\"><tr><td><a href=\"/url?q=https://fruitguys.com/almanac/infographics/field-guide-fruit-colors/&amp;sa=U&amp;ved=2ahUKEwi-7JXqhJ6EAxVI1jgGHUAKDWUQqoUBegQICxAB&amp;usg=AOvVaw1W55nTE25S-TPUwtb7U2o4\"><div class=\"kCmkOe\"><img alt=\"\" class=\"DS1iW\" src=\"https://encrypted-tbn0.gstatic.com/images?q=tbn:ANd9GcQnhiRXTRbrmyAmnrCWAyMS2wH-AwjFvt6zApscwSsn9XiFIbFjQVkGgy56DWo&amp;s\"/></div></a></td></tr><tr><td><a href=\"/url?q=https://fruitguys.com/almanac/infographics/field-guide-fruit-colors/&amp;sa=U&amp;ved=2ahUKEwi-7JXqhJ6EAxVI1jgGHUAKDWUQr4kDegQICxAC&amp;usg=AOvVaw1T_fvrohzvyKvOSXVoAmrx\"><div class=\"AlD19d\"> <span class=\"qXLe6d x3G5ab\"> <span class=\"fYyStc\">Field Guide to Fruit Colors...</span> </span> <span class=\"qXLe6d F9iS2e\"> <span class=\"fYyStc\">fruitguys.com</span> </span> </div></a></td></tr></table></div></div> </div> </div></td><td align=\"center\" class=\"e3goi\"><div class=\"jjVJ4e\"> <div> <div class=\"lIMUZd\"><div><table class=\"RntSmf\"><tr><td><a href=\"/url?q=https://www.onlyfoods.net/category/fruits&amp;sa=U&amp;ved=2ahUKEwi-7JXqhJ6EAxVI1jgGHUAKDWUQqoUBegQIDhAB&amp;usg=AOvVaw3xAmpwXfEywiOjga6QG94v\"><div class=\"kCmkOe\"><img alt=\"\" class=\"DS1iW\" src=\"https://encrypted-tbn0.gstatic.com/images?q=tbn:ANd9GcTY-mlSWC0cAH0cqukdmKr1tTgF8aW1IId4hE-mZ6OeiggEVyFNsjqaU0_Dvg&amp;s\"/></div></a></td></tr><tr><td><a href=\"/url?q=https://www.onlyfoods.net/category/fruits&amp;sa=U&amp;ved=2ahUKEwi-7JXqhJ6EAxVI1jgGHUAKDWUQr4kDegQIDhAC&amp;usg=AOvVaw3b4FIwiH6OLMtCc2D7isQQ\"><div class=\"AlD19d\"> <span class=\"qXLe6d x3G5ab\"> <span class=\"fYyStc\">List of the Different Types...</span> </span> <span class=\"qXLe6d F9iS2e\"> <span class=\"fYyStc\">www.onlyfoods.net</span> </span> </div></a></td></tr></table></div></div> </div> </div></td><td align=\"center\" class=\"e3goi\"><div class=\"jjVJ4e\"> <div> <div class=\"lIMUZd\"><div><table class=\"RntSmf\"><tr><td><a href=\"/url?q=https://www.livemint.com/news/business-of-life/time-to-eat-fruit-1541783904822.html&amp;sa=U&amp;ved=2ahUKEwi-7JXqhJ6EAxVI1jgGHUAKDWUQqoUBegQIDBAB&amp;usg=AOvVaw1AHbNHi48u9Rl82dyQu3ET\"><div class=\"kCmkOe\"><img alt=\"\" class=\"DS1iW\" src=\"https://encrypted-tbn0.gstatic.com/images?q=tbn:ANd9GcRfkZ7iFh1RHawbKmGC96HTVCei-X6o93ZXMPCCaRQ72o7SON93_zqPZuvlvA&amp;s\"/></div></a></td></tr><tr><td><a href=\"/url?q=https://www.livemint.com/news/business-of-life/time-to-eat-fruit-1541783904822.html&amp;sa=U&amp;ved=2ahUKEwi-7JXqhJ6EAxVI1jgGHUAKDWUQr4kDegQIDBAC&amp;usg=AOvVaw0KliEjy3cQu6hTXsJtdgZ3\"><div class=\"AlD19d\"> <span class=\"qXLe6d x3G5ab\"> <span class=\"fYyStc\">Time to eat fruit | Mint</span> </span> <span class=\"qXLe6d F9iS2e\"> <span class=\"fYyStc\">www.livemint.com</span> </span> </div></a></td></tr></table></div></div> </div> </div></td></tr><tr><td align=\"center\" class=\"e3goi\"><div class=\"jjVJ4e\"> <div> <div class=\"lIMUZd\"><div><table class=\"RntSmf\"><tr><td><a href=\"/url?q=https://www.medicalnewstoday.com/articles/325253&amp;sa=U&amp;ved=2ahUKEwi-7JXqhJ6EAxVI1jgGHUAKDWUQqoUBegQIDxAB&amp;usg=AOvVaw3p5w3QMQwVYx0q0ajd5BVq\"><div class=\"kCmkOe\"><img alt=\"\" class=\"DS1iW\" src=\"https://encrypted-tbn0.gstatic.com/images?q=tbn:ANd9GcQXTGtzT6SAXMXwnKGn6ZWMlgHQ7G1slqVXb-kIAw5Lgdv316RxwEMWNGVXYw&amp;s\"/></div></a></td></tr><tr><td><a href=\"/url?q=https://www.medicalnewstoday.com/articles/325253&amp;sa=U&amp;ved=2ahUKEwi-7JXqhJ6EAxVI1jgGHUAKDWUQr4kDegQIDxAC&amp;usg=AOvVaw0t6N_q1aQVBNFviiHPI8mw\"><div class=\"AlD19d\"> <span class=\"qXLe6d x3G5ab\"> <span class=\"fYyStc\">Is there a best time to eat...</span> </span> <span class=\"qXLe6d F9iS2e\"> <span class=\"fYyStc\">www.medicalnewstoday.com</span> </span> </div></a></td></tr></table></div></div> </div> </div></td><td align=\"center\" class=\"e3goi\"><div class=\"jjVJ4e\"> <div> <div class=\"lIMUZd\"><div><table class=\"RntSmf\"><tr><td><a href=\"/url?q=https://promova.com/english-vocabulary/list-of-fruits&amp;sa=U&amp;ved=2ahUKEwi-7JXqhJ6EAxVI1jgGHUAKDWUQqoUBegQIERAB&amp;usg=AOvVaw0hFYwYbYEDES0yctXMp3D6\"><div class=\"kCmkOe\"><img alt=\"\" class=\"DS1iW\" src=\"https://encrypted-tbn0.gstatic.com/images?q=tbn:ANd9GcQrIJ5QOTz9xyzGvU7vuCqn4z3LPnHpfxf0kfQF1QiVKopNVHA3ih5CyXCdmdU&amp;s\"/></div></a></td></tr><tr><td><a href=\"/url?q=https://promova.com/english-vocabulary/list-of-fruits&amp;sa=U&amp;ved=2ahUKEwi-7JXqhJ6EAxVI1jgGHUAKDWUQr4kDegQIERAC&amp;usg=AOvVaw0qMWt9q6XyjyTPp_g6JPEx\"><div class=\"AlD19d\"> <span class=\"qXLe6d x3G5ab\"> <span class=\"fYyStc\">Exploring the Spectrum of...</span> </span> <span class=\"qXLe6d F9iS2e\"> <span class=\"fYyStc\">promova.com</span> </span> </div></a></td></tr></table></div></div> </div> </div></td><td align=\"center\" class=\"e3goi\"><div class=\"jjVJ4e\"> <div> <div class=\"lIMUZd\"><div><table class=\"RntSmf\"><tr><td><a href=\"/url?q=https://www.health.harvard.edu/blog/are-certain-fruits-healthier-than-others-202201312677&amp;sa=U&amp;ved=2ahUKEwi-7JXqhJ6EAxVI1jgGHUAKDWUQqoUBegQIDRAB&amp;usg=AOvVaw0vvoXP00nLmFuUvk35cFKQ\"><div class=\"kCmkOe\"><img alt=\"\" class=\"DS1iW\" src=\"https://encrypted-tbn0.gstatic.com/images?q=tbn:ANd9GcQoi6_cCy3SvVA6LHGSuQVaoHPuRjqyEJP0UFTXY7n6rK_SYVRdcr4aCOr4uqM&amp;s\"/></div></a></td></tr><tr><td><a href=\"/url?q=https://www.health.harvard.edu/blog/are-certain-fruits-healthier-than-others-202201312677&amp;sa=U&amp;ved=2ahUKEwi-7JXqhJ6EAxVI1jgGHUAKDWUQr4kDegQIDRAC&amp;usg=AOvVaw0rRT3-UlPDa8dGnpY-TEYw\"><div class=\"AlD19d\"> <span class=\"qXLe6d x3G5ab\"> <span class=\"fYyStc\">Are certain fruits...</span> </span> <span class=\"qXLe6d F9iS2e\"> <span class=\"fYyStc\">www.health.harvard.edu</span> </span> </div></a></td></tr></table></div></div> </div> </div></td><td align=\"center\" class=\"e3goi\"><div class=\"jjVJ4e\"> <div> <div class=\"lIMUZd\"><div><table class=\"RntSmf\"><tr><td><a href=\"/url?q=https://byjus.com/english/fruits-names/&amp;sa=U&amp;ved=2ahUKEwi-7JXqhJ6EAxVI1jgGHUAKDWUQqoUBegQIChAB&amp;usg=AOvVaw3SUZMlBgE7s--RvYt_i2UF\"><div class=\"kCmkOe\"><img alt=\"\" class=\"DS1iW\" src=\"https://encrypted-tbn0.gstatic.com/images?q=tbn:ANd9GcTOmBaVSRKnhVrbqiHUJItPswgMFuUrnbiOABjoI8WOWnFHzi1d-wlvuMORAm0&amp;s\"/></div></a></td></tr><tr><td><a href=\"/url?q=https://byjus.com/english/fruits-names/&amp;sa=U&amp;ved=2ahUKEwi-7JXqhJ6EAxVI1jgGHUAKDWUQr4kDegQIChAC&amp;usg=AOvVaw1UM5SlnyAUyLQqPUBGJXgR\"><div class=\"AlD19d\"> <span class=\"qXLe6d x3G5ab\"> <span class=\"fYyStc\">Fruit Names in English -...</span> </span> <span class=\"qXLe6d F9iS2e\"> <span class=\"fYyStc\">byjus.com</span> </span> </div></a></td></tr></table></div></div> </div> </div></td></tr><tr><td align=\"center\" class=\"e3goi\"><div class=\"jjVJ4e\"> <div> <div class=\"lIMUZd\"><div><table class=\"RntSmf\"><tr><td><a href=\"/url?q=https://www.fruitsmith.com/blog/post/one-seed-fruits-to-include-in-diet&amp;sa=U&amp;ved=2ahUKEwi-7JXqhJ6EAxVI1jgGHUAKDWUQqoUBegQIBRAB&amp;usg=AOvVaw0TaLkuRxbasEUVADFxhLpH\"><div class=\"kCmkOe\"><img alt=\"\" class=\"DS1iW\" src=\"https://encrypted-tbn0.gstatic.com/images?q=tbn:ANd9GcTYAxdazh-s0LuZBOpR9-MKYAuqTcCUM_-8LIt04emwB4kuNKXcue7XJua3OQ&amp;s\"/></div></a></td></tr><tr><td><a href=\"/url?q=https://www.fruitsmith.com/blog/post/one-seed-fruits-to-include-in-diet&amp;sa=U&amp;ved=2ahUKEwi-7JXqhJ6EAxVI1jgGHUAKDWUQr4kDegQIBRAC&amp;usg=AOvVaw1hfsZsHs_sZOzv8dRLCfom\"><div class=\"AlD19d\"> <span class=\"qXLe6d x3G5ab\"> <span class=\"fYyStc\">15 One Seed Fruits To...</span> </span> <span class=\"qXLe6d F9iS2e\"> <span class=\"fYyStc\">www.fruitsmith.com</span> </span> </div></a></td></tr></table></div></div> </div> </div></td><td align=\"center\" class=\"e3goi\"><div class=\"jjVJ4e\"> <div> <div class=\"lIMUZd\"><div><table class=\"RntSmf\"><tr><td><a href=\"/url?q=https://www.libertyprim.com/en/lexique-familles/103/apple-lexique-des-fruits.htm&amp;sa=U&amp;ved=2ahUKEwi-7JXqhJ6EAxVI1jgGHUAKDWUQqoUBegQIARAB&amp;usg=AOvVaw03LVtPQddNgYvb7r9gLRBr\"><div class=\"kCmkOe\"><img alt=\"\" class=\"DS1iW\" src=\"https://encrypted-tbn0.gstatic.com/images?q=tbn:ANd9GcToLZpHvJGmHskP2fDC3q9vH8mtcgApC58xd68N0rnMITtUZ23SjYZzcUssqWo&amp;s\"/></div></a></td></tr><tr><td><a href=\"/url?q=https://www.libertyprim.com/en/lexique-familles/103/apple-lexique-des-fruits.htm&amp;sa=U&amp;ved=2ahUKEwi-7JXqhJ6EAxVI1jgGHUAKDWUQr4kDegQIARAC&amp;usg=AOvVaw0aS-iYV0gmzRzeSifiY5Lh\"><div class=\"AlD19d\"> <span class=\"qXLe6d x3G5ab\"> <span class=\"fYyStc\">Apple Fruits, varieties,...</span> </span> <span class=\"qXLe6d F9iS2e\"> <span class=\"fYyStc\">www.libertyprim.com</span> </span> </div></a></td></tr></table></div></div> </div> </div></td><td align=\"center\" class=\"e3goi\"><div class=\"jjVJ4e\"> <div> <div class=\"lIMUZd\"><div><table class=\"RntSmf\"><tr><td><a href=\"/url?q=https://www.memozor.com/memory-games/printable-memory-games/for-kids/fruits&amp;sa=U&amp;ved=2ahUKEwi-7JXqhJ6EAxVI1jgGHUAKDWUQqoUBegQIAhAB&amp;usg=AOvVaw1aoh4Ni-sY1cwfGrdp0g43\"><div class=\"kCmkOe\"><img alt=\"\" class=\"DS1iW\" src=\"https://encrypted-tbn0.gstatic.com/images?q=tbn:ANd9GcQaO2eg2dpMU2o9-6uXzxNj2g8mC_tcugEyRKzVs20RKVqHyA4mt02HntS4Ajk&amp;s\"/></div></a></td></tr><tr><td><a href=\"/url?q=https://www.memozor.com/memory-games/printable-memory-games/for-kids/fruits&amp;sa=U&amp;ved=2ahUKEwi-7JXqhJ6EAxVI1jgGHUAKDWUQr4kDegQIAhAC&amp;usg=AOvVaw0JW_tTz50E5ZC2VbeJM8HJ\"><div class=\"AlD19d\"> <span class=\"qXLe6d x3G5ab\"> <span class=\"fYyStc\">List of 50 Fruits with...</span> </span> <span class=\"qXLe6d F9iS2e\"> <span class=\"fYyStc\">www.memozor.com</span> </span> </div></a></td></tr></table></div></div> </div> </div></td><td align=\"center\" class=\"e3goi\"><div class=\"jjVJ4e\"> <div> <div class=\"lIMUZd\"><div><table class=\"RntSmf\"><tr><td><a href=\"/url?q=https://englishstudyonline.org/green-fruits/&amp;sa=U&amp;ved=2ahUKEwi-7JXqhJ6EAxVI1jgGHUAKDWUQqoUBegQIBhAB&amp;usg=AOvVaw2gySAjw3KmGtScYabKY4f9\"><div class=\"kCmkOe\"><img alt=\"\" class=\"DS1iW\" src=\"https://encrypted-tbn0.gstatic.com/images?q=tbn:ANd9GcSJMYqQmUuyWLcuFMNgIenXM8rnxlPrD95nnh7SBfuEDrdKz5ZlY3khH_QS2A&amp;s\"/></div></a></td></tr><tr><td><a href=\"/url?q=https://englishstudyonline.org/green-fruits/&amp;sa=U&amp;ved=2ahUKEwi-7JXqhJ6EAxVI1jgGHUAKDWUQr4kDegQIBhAC&amp;usg=AOvVaw10rUiYivZMMmbN1XOA7lu9\"><div class=\"AlD19d\"> <span class=\"qXLe6d x3G5ab\"> <span class=\"fYyStc\">53 Green Fruits: A Guide to...</span> </span> <span class=\"qXLe6d F9iS2e\"> <span class=\"fYyStc\">englishstudyonline.org</span> </span> </div></a></td></tr></table></div></div> </div> </div></td></tr><tr><td align=\"center\" class=\"e3goi\"><div class=\"jjVJ4e\"> <div> <div class=\"lIMUZd\"><div><table class=\"RntSmf\"><tr><td><a href=\"/url?q=https://www.amazon.in/Fruits-Educational-Chart-Pegasus-Team/dp/8131938883&amp;sa=U&amp;ved=2ahUKEwi-7JXqhJ6EAxVI1jgGHUAKDWUQqoUBegQIBxAB&amp;usg=AOvVaw3_gcUePE11-U8koZLLnV16\"><div class=\"kCmkOe\"><img alt=\"\" class=\"DS1iW\" src=\"https://encrypted-tbn0.gstatic.com/images?q=tbn:ANd9GcR-z27lQtwer_4GCiwPkxeiV0575jJq0Twywc3hMA6mk92V_7fGTcUwTEKVv2o&amp;s\"/></div></a></td></tr><tr><td><a href=\"/url?q=https://www.amazon.in/Fruits-Educational-Chart-Pegasus-Team/dp/8131938883&amp;sa=U&amp;ved=2ahUKEwi-7JXqhJ6EAxVI1jgGHUAKDWUQr4kDegQIBxAC&amp;usg=AOvVaw2ugUyiUKlfJZqshcqItXbb\"><div class=\"AlD19d\"> <span class=\"qXLe6d x3G5ab\"> <span class=\"fYyStc\">Fruits - Thick Laminated...</span> </span> <span class=\"qXLe6d F9iS2e\"> <span class=\"fYyStc\">www.amazon.in</span> </span> </div></a></td></tr></table></div></div> </div> </div></td><td align=\"center\" class=\"e3goi\"><div class=\"jjVJ4e\"> <div> <div class=\"lIMUZd\"><div><table class=\"RntSmf\"><tr><td><a href=\"/url?q=https://m.timesofindia.com/life-style/health-fitness/diet/the-power-of-eating-these-7-fruits-on-an-empty-stomach/photostory/105938661.cms&amp;sa=U&amp;ved=2ahUKEwi-7JXqhJ6EAxVI1jgGHUAKDWUQqoUBegQICBAB&amp;usg=AOvVaw0xzESuy6y3kyfzHPjvTygv\"><div class=\"kCmkOe\"><img alt=\"\" class=\"DS1iW\" src=\"https://encrypted-tbn0.gstatic.com/images?q=tbn:ANd9GcS70zWXpTuW4Z98mJT-zWlx-QeXJCOFeeh1DqJcePMEIpFyuZdis07PqGSAEw&amp;s\"/></div></a></td></tr><tr><td><a href=\"/url?q=https://m.timesofindia.com/life-style/health-fitness/diet/the-power-of-eating-these-7-fruits-on-an-empty-stomach/photostory/105938661.cms&amp;sa=U&amp;ved=2ahUKEwi-7JXqhJ6EAxVI1jgGHUAKDWUQr4kDegQICBAC&amp;usg=AOvVaw1u3l9sbk97exFJUYGLwskx\"><div class=\"AlD19d\"> <span class=\"qXLe6d x3G5ab\"> <span class=\"fYyStc\">The power of eating these 7...</span> </span> <span class=\"qXLe6d F9iS2e\"> <span class=\"fYyStc\">m.timesofindia.com</span> </span> </div></a></td></tr></table></div></div> </div> </div></td><td align=\"center\" class=\"e3goi\"><div class=\"jjVJ4e\"> <div> <div class=\"lIMUZd\"><div><table class=\"RntSmf\"><tr><td><a href=\"/url?q=https://www.careerpower.in/school/article/fruit-names&amp;sa=U&amp;ved=2ahUKEwi-7JXqhJ6EAxVI1jgGHUAKDWUQqoUBegQIAxAB&amp;usg=AOvVaw0xIoVfQk6xBRvSnUVuSv01\"><div class=\"kCmkOe\"><img alt=\"\" class=\"DS1iW\" src=\"https://encrypted-tbn0.gstatic.com/images?q=tbn:ANd9GcQH6dvHEhaJiTAPn8ANlJId4HHYKuL_s84Wtvn79r_QV4TKDaweIxWonv7nAO4&amp;s\"/></div></a></td></tr><tr><td><a href=\"/url?q=https://www.careerpower.in/school/article/fruit-names&amp;sa=U&amp;ved=2ahUKEwi-7JXqhJ6EAxVI1jgGHUAKDWUQr4kDegQIAxAC&amp;usg=AOvVaw2zJdODbudE9aiYv3-2iEcx\"><div class=\"AlD19d\"> <span class=\"qXLe6d x3G5ab\"> <span class=\"fYyStc\">Fruits Name, 50 Fruit Names...</span> </span> <span class=\"qXLe6d F9iS2e\"> <span class=\"fYyStc\">www.careerpower.in</span> </span> </div></a></td></tr></table></div></div> </div> </div></td><td align=\"center\" class=\"e3goi\"><div class=\"jjVJ4e\"> <div> <div class=\"lIMUZd\"><div><table class=\"RntSmf\"><tr><td><a href=\"/url?q=https://www.healthline.com/nutrition/list-of-fruits&amp;sa=U&amp;ved=2ahUKEwi-7JXqhJ6EAxVI1jgGHUAKDWUQqoUBegQIBBAB&amp;usg=AOvVaw2sLW1tF-0xgoX6J-D34Nc-\"><div class=\"kCmkOe\"><img alt=\"\" class=\"DS1iW\" src=\"https://encrypted-tbn0.gstatic.com/images?q=tbn:ANd9GcSLUElzYP4-pPhi94xs8ONigWr-nHCje5yYtn1eqJLxjmuwGnMuHHnRHdWjJcE&amp;s\"/></div></a></td></tr><tr><td><a href=\"/url?q=https://www.healthline.com/nutrition/list-of-fruits&amp;sa=U&amp;ved=2ahUKEwi-7JXqhJ6EAxVI1jgGHUAKDWUQr4kDegQIBBAC&amp;usg=AOvVaw1iZG8-dQtn0HC3hpQjkcOd\"><div class=\"AlD19d\"> <span class=\"qXLe6d x3G5ab\"> <span class=\"fYyStc\">17 Unique and Nutritious...</span> </span> <span class=\"qXLe6d F9iS2e\"> <span class=\"fYyStc\">www.healthline.com</span> </span> </div></a></td></tr></table></div></div> </div> </div></td></tr></table></div><table class=\"uZgmoc\"><tbody><td><a class=\"frGj1b\" href=\"/search?q=fruits&amp;sca_esv=989459b10be17b82&amp;biw=1036&amp;bih=668&amp;ie=UTF-8&amp;tbm=isch&amp;ei=1vzFZb6pNMis4-EPwJS0qAY&amp;start=20&amp;sa=N\">Next &gt;</a></td></tbody></table><br/><div class=\"TuS8Ad\" data-ved=\"0ahUKEwi-7JXqhJ6EAxVI1jgGHUAKDWUQpyoIUg\"><style>.VYM29{font-weight:bold}</style><div align=\"center\" class=\"HddGcc\"><span class=\"VYM29\">Ranchi, Jharkhand</span><span> - </span><span>From your IP address</span><span> - </span><a href=\"/url?q=https://support.google.com/websearch%3Fp%3Dws_settings_location%26hl%3Den-IN&amp;opi=89978449&amp;sa=U&amp;ved=0ahUKEwi-7JXqhJ6EAxVI1jgGHUAKDWUQty4IUw&amp;usg=AOvVaw3zg52hAwgmU2jlzO68LDEt\">Learn more</a></div><div align=\"center\"><a class=\"rEM8G\" href=\"/url?q=https://accounts.google.com/ServiceLogin%3Fcontinue%3Dhttps://www.google.com/search%253Fq%253Dfruits%2526sca_esv%253D989459b10be17b82%2526tbm%253Disch%2526source%253Dhp%2526biw%253D1036%2526bih%253D668%2526ei%253DStnEZdrTF7XAvr0PvoKguAI%2526iflsig%253DANes7DEAAAAAZcTnWqOJk2r1hCC5wz1HtXxBS8egcau9%2526ved%253D0ahUKEwjaoN3k7puEAxU1oK8BHT4BCCcQ4dUDCAc%2526oq%253Dfruits%2526gs_lp%253DEgNpbWciBmZydWl0czIIEAAYgAQYsQMyCBAAGIAEGLEDMggQABiABBixAzIIEAAYgAQYsQMyCBAAGIAEGLEDMggQABiABBixAzIIEAAYgAQYsQMyCBAAGIAEGLEDMggQABiABBixAzILEAAYgAQYsQMYgwFI86qmAVDzloABWO_-hAFwBXgAkAEHmAHeAaABgQuqAQUzLjUuM7gBDMgBAPgBAYoCC2d3cy13aXotaW1nqAIAwgIOEAAYgAQYigUYsQMYgwHCAgUQABiABMICBBAAGAM%2526sclient%253Dimg%26hl%3Den&amp;opi=89978449&amp;sa=U&amp;ved=0ahUKEwi-7JXqhJ6EAxVI1jgGHUAKDWUQxs8CCFQ&amp;usg=AOvVaw3SbQJplgcoWe8jKOsQkJd6\">Sign in</a></div><div><table class=\"bookcf\"><tbody class=\"InWNIe\"><tr><td><a class=\"rEM8G\" href=\"https://www.google.com/preferences?hl=en&amp;sa=X&amp;ved=0ahUKEwi-7JXqhJ6EAxVI1jgGHUAKDWUQv5YECFU\">Settings</a></td><td><a class=\"rEM8G\" href=\"https://www.google.com/intl/en_in/policies/privacy/\">Privacy</a></td><td><a class=\"rEM8G\" href=\"https://www.google.com/intl/en_in/policies/terms/\">Terms</a></td></tr></tbody></table></div></div><div> </div></body></html>"
      ]
     },
     "execution_count": 29,
     "metadata": {},
     "output_type": "execute_result"
    }
   ],
   "source": [
    "soup = BeautifulSoup(page.content)\n",
    "soup"
   ]
  },
  {
   "cell_type": "code",
   "execution_count": 32,
   "id": "cb062da2",
   "metadata": {},
   "outputs": [],
   "source": [
    "img_fruits = []\n",
    "images_t = soup.find_all('img', class_=\"rg_i Q4LuWd\")\n",
    "for i in images_t:\n",
    "    img_fruits.append(i['src'])"
   ]
  },
  {
   "cell_type": "code",
   "execution_count": 33,
   "id": "2a042f63",
   "metadata": {},
   "outputs": [
    {
     "data": {
      "text/plain": [
       "[]"
      ]
     },
     "execution_count": 33,
     "metadata": {},
     "output_type": "execute_result"
    }
   ],
   "source": [
    "img_fruits"
   ]
  },
  {
   "cell_type": "code",
   "execution_count": null,
   "id": "2be5d4e4",
   "metadata": {},
   "outputs": [],
   "source": []
  },
  {
   "cell_type": "code",
   "execution_count": null,
   "id": "43d50169",
   "metadata": {},
   "outputs": [],
   "source": []
  },
  {
   "cell_type": "code",
   "execution_count": null,
   "id": "d01b12cd",
   "metadata": {},
   "outputs": [],
   "source": []
  },
  {
   "cell_type": "code",
   "execution_count": null,
   "id": "d015f8aa",
   "metadata": {},
   "outputs": [],
   "source": []
  },
  {
   "cell_type": "markdown",
   "id": "f6b93bec",
   "metadata": {},
   "source": [
    "QUESTION 4"
   ]
  },
  {
   "cell_type": "code",
   "execution_count": 34,
   "id": "dafda3e6",
   "metadata": {},
   "outputs": [],
   "source": [
    "import selenium\n",
    "import pandas as pd\n",
    "from selenium import webdriver\n",
    "import warnings\n",
    "warnings.filterwarnings('ignore')\n",
    "from selenium.webdriver.common.by import By\n",
    "from selenium.webdriver.support.ui import WebDriverWait\n",
    "from selenium.webdriver.support import expected_conditions as EC"
   ]
  },
  {
   "cell_type": "code",
   "execution_count": 96,
   "id": "6d903bbc",
   "metadata": {},
   "outputs": [],
   "source": [
    "driver = webdriver.Chrome()"
   ]
  },
  {
   "cell_type": "code",
   "execution_count": 97,
   "id": "1159c37e",
   "metadata": {},
   "outputs": [],
   "source": [
    "driver.get(\"https://www.flipkart.com/\")"
   ]
  },
  {
   "cell_type": "code",
   "execution_count": 98,
   "id": "86b3f180",
   "metadata": {},
   "outputs": [],
   "source": [
    "typing=driver.find_element(By.CLASS_NAME, \"Pke_EE \")\n",
    "typing.send_keys('Oneplus Nord')"
   ]
  },
  {
   "cell_type": "code",
   "execution_count": 99,
   "id": "83806807",
   "metadata": {},
   "outputs": [],
   "source": [
    "press=driver.find_element(By.CLASS_NAME, \"_2iLD__\")\n",
    "press.click()"
   ]
  },
  {
   "cell_type": "code",
   "execution_count": 101,
   "id": "995fa99a",
   "metadata": {},
   "outputs": [],
   "source": [
    "Brand_Name1 = []\n",
    "Smartphone_name = []\n",
    "Colour = [] \n",
    "RAM_ROM =[] \n",
    "Primary_Camera = []\n",
    "Secondary_Camera = [] \n",
    "Display_Size =[] \n",
    "Battery_Capacity =[]\n",
    "Price = []\n",
    "Product_URL = []"
   ]
  },
  {
   "cell_type": "code",
   "execution_count": 135,
   "id": "6843fcde",
   "metadata": {},
   "outputs": [],
   "source": [
    "brand_na = ('-')\n",
    "m=driver.find_elements(By.XPATH,'//div[@class=\"_4rR01T\"]')\n",
    "for i in m:\n",
    "    org=brand_na\n",
    "    Brand_Name1.append(org)"
   ]
  },
  {
   "cell_type": "code",
   "execution_count": 56,
   "id": "3d16d6e9",
   "metadata": {
    "scrolled": true
   },
   "outputs": [
    {
     "data": {
      "text/plain": [
       "['-',\n",
       " '-',\n",
       " '-',\n",
       " '-',\n",
       " '-',\n",
       " '-',\n",
       " '-',\n",
       " '-',\n",
       " '-',\n",
       " '-',\n",
       " '-',\n",
       " '-',\n",
       " '-',\n",
       " '-',\n",
       " '-',\n",
       " '-',\n",
       " '-',\n",
       " '-',\n",
       " '-',\n",
       " '-',\n",
       " '-',\n",
       " '-',\n",
       " '-',\n",
       " '-']"
      ]
     },
     "execution_count": 56,
     "metadata": {},
     "output_type": "execute_result"
    }
   ],
   "source": [
    "Brand_Name1"
   ]
  },
  {
   "cell_type": "code",
   "execution_count": 136,
   "id": "bd40c72e",
   "metadata": {},
   "outputs": [],
   "source": [
    "n=driver.find_elements(By.XPATH,'//div[@class=\"_4rR01T\"]')\n",
    "for i in n:\n",
    "    org=i.text\n",
    "    Smartphone_name.append(org)"
   ]
  },
  {
   "cell_type": "code",
   "execution_count": 51,
   "id": "d1bd4907",
   "metadata": {
    "scrolled": true
   },
   "outputs": [
    {
     "data": {
      "text/plain": [
       "['OnePlus Nord CE 3 Lite 5G (Pastel Lime, 256 GB)',\n",
       " 'OnePlus Nord CE 3 Lite 5G (Pastel Lime, 128 GB)',\n",
       " 'OnePlus Nord CE 3 Lite 5G (Chromatic Gray, 128 GB)',\n",
       " 'OnePlus Nord CE 3 Lite 5G (Chromatic Gray, 256 GB)',\n",
       " 'OnePlus Nord CE 2 Lite 5G (Blue Tide, 128 GB)',\n",
       " 'OnePlus Nord CE 3 Lite 5G (Pastel lime, 256 GB)',\n",
       " 'OnePlus Nord CE 3 Lite 5G (Chromatic Gray, 256 GB)',\n",
       " 'OnePlus Nord CE 3 Lite 5G (Chromatic Gray, 128 GB)',\n",
       " 'OnePlus Nord CE 2 Lite 5G (Black Dusk, 128 GB)',\n",
       " 'OnePlus Nord CE3 5G (Aqua Surge, 128 GB)',\n",
       " 'OnePlus Nord CE 3 Lite 5G (Pastel Lime, 128 GB)',\n",
       " 'OnePlus Nord CE3 5G (Aqua Surge, 256 GB)',\n",
       " 'OnePlus Nord 3 5G (Misty Green, 128 GB)',\n",
       " 'OnePlus Nord CE 3 Lite 5G (Pastel Lime, 256 GB)',\n",
       " 'OnePlus Nord CE3 5G (Grey Shimmer, 128 GB)',\n",
       " 'OnePlus Nord CE 3 Lite 5G (Chromatic Gray, 256 GB)',\n",
       " 'OnePlus Nord 3 5G (Tempest Gray, 256 GB)',\n",
       " 'OnePlus Nord 3 5G (Misty Green, 256 GB)',\n",
       " 'OnePlus Nord 3 5G (Tempest Gray, 128 GB)',\n",
       " 'OnePlus Nord CE 3 Lite 5G (Chromatic Gray, 128 GB)',\n",
       " 'OnePlus Nord CE 2 5G (Bahama Blue, 128 GB)',\n",
       " 'OnePlus Nord CE 2 5G (Bahama Blue, 128 GB)',\n",
       " 'OnePlus Nord CE 2 5G (Bahama Blue, 128 GB)',\n",
       " 'OnePlus Nord 2T 5G (Jade Fog, 128 GB)']"
      ]
     },
     "execution_count": 51,
     "metadata": {},
     "output_type": "execute_result"
    }
   ],
   "source": [
    "Smartphone_name"
   ]
  },
  {
   "cell_type": "code",
   "execution_count": 137,
   "id": "e03a187c",
   "metadata": {},
   "outputs": [],
   "source": [
    "colour = ('-')\n",
    "xox=driver.find_elements(By.XPATH,'//div[@class=\"_4rR01T\"]')\n",
    "for i in xox:\n",
    "    title = colour\n",
    "    Colour.append(title)"
   ]
  },
  {
   "cell_type": "code",
   "execution_count": 85,
   "id": "0abb9549",
   "metadata": {},
   "outputs": [
    {
     "data": {
      "text/plain": [
       "['-',\n",
       " '-',\n",
       " '-',\n",
       " '-',\n",
       " '-',\n",
       " '-',\n",
       " '-',\n",
       " '-',\n",
       " '-',\n",
       " '-',\n",
       " '-',\n",
       " '-',\n",
       " '-',\n",
       " '-',\n",
       " '-',\n",
       " '-',\n",
       " '-',\n",
       " '-',\n",
       " '-',\n",
       " '-',\n",
       " '-',\n",
       " '-',\n",
       " '-',\n",
       " '-']"
      ]
     },
     "execution_count": 85,
     "metadata": {},
     "output_type": "execute_result"
    }
   ],
   "source": [
    "Colour"
   ]
  },
  {
   "cell_type": "code",
   "execution_count": 104,
   "id": "3644d680",
   "metadata": {},
   "outputs": [
    {
     "name": "stdout",
     "output_type": "stream",
     "text": [
      "24 ['8 GB RAM | 256 GB ROM', '8 GB RAM | 256 GB ROM', '8 GB RAM | 128 GB ROM', '8 GB RAM | 128 GB ROM', '8 GB RAM | 256 GB ROM', '6 GB RAM | 128 GB ROM', '8 GB RAM | 256 GB ROM', '8 GB RAM | 128 GB ROM', '6 GB RAM | 128 GB ROM', '8 GB RAM | 128 GB ROM', '8 GB RAM | 128 GB ROM', '12 GB RAM | 256 GB ROM', '8 GB RAM | 256 GB ROM', '8 GB RAM | 128 GB ROM', '8 GB RAM | 128 GB ROM', '8 GB RAM | 256 GB ROM', '16 GB RAM | 256 GB ROM', '8 GB RAM | 128 GB ROM', '8 GB RAM | 128 GB ROM', '16 GB RAM | 256 GB ROM', '8 GB RAM | 128 GB ROM', '8 GB RAM | 128 GB ROM', '8 GB RAM | 128 GB ROM', '8 GB RAM | 128 GB ROM']\n"
     ]
    }
   ],
   "source": [
    "ram=driver.find_elements(By.XPATH, \"//ul[@class='_1xgFaf']//li[1]\")\n",
    "for i in ram:\n",
    "    if i.text is None :\n",
    "        RAM_ROM.append(\"--\") \n",
    "    else:\n",
    "        RAM_ROM.append(i.text)\n",
    "print(len(RAM_ROM),RAM_ROM)"
   ]
  },
  {
   "cell_type": "code",
   "execution_count": 108,
   "id": "e440a1ad",
   "metadata": {},
   "outputs": [
    {
     "data": {
      "text/plain": [
       "['8 GB RAM | 256 GB ROM',\n",
       " '8 GB RAM | 256 GB ROM',\n",
       " '8 GB RAM | 128 GB ROM',\n",
       " '8 GB RAM | 128 GB ROM',\n",
       " '8 GB RAM | 256 GB ROM',\n",
       " '6 GB RAM | 128 GB ROM',\n",
       " '8 GB RAM | 256 GB ROM',\n",
       " '8 GB RAM | 128 GB ROM',\n",
       " '6 GB RAM | 128 GB ROM',\n",
       " '8 GB RAM | 128 GB ROM',\n",
       " '8 GB RAM | 128 GB ROM',\n",
       " '12 GB RAM | 256 GB ROM',\n",
       " '8 GB RAM | 256 GB ROM',\n",
       " '8 GB RAM | 128 GB ROM',\n",
       " '8 GB RAM | 128 GB ROM',\n",
       " '8 GB RAM | 256 GB ROM',\n",
       " '16 GB RAM | 256 GB ROM',\n",
       " '8 GB RAM | 128 GB ROM',\n",
       " '8 GB RAM | 128 GB ROM',\n",
       " '16 GB RAM | 256 GB ROM',\n",
       " '8 GB RAM | 128 GB ROM',\n",
       " '8 GB RAM | 128 GB ROM',\n",
       " '8 GB RAM | 128 GB ROM',\n",
       " '8 GB RAM | 128 GB ROM']"
      ]
     },
     "execution_count": 108,
     "metadata": {},
     "output_type": "execute_result"
    }
   ],
   "source": [
    "RAM_ROM"
   ]
  },
  {
   "cell_type": "code",
   "execution_count": 106,
   "id": "2b47ecb8",
   "metadata": {},
   "outputs": [
    {
     "name": "stdout",
     "output_type": "stream",
     "text": [
      "24 ['108MP Rear Camera', '108MP Rear Camera', '108MP Rear Camera', '108MP Rear Camera', '108MP Rear Camera', '64MP Rear Camera | 16MP Front Camera', '108MP Rear Camera', '108MP Rear Camera', '64MP Rear Camera | 16MP Front Camera', '108MP Rear Camera', '50MP Rear Camera | 50MP Front Camera', '50MP Rear Camera', '108MP Rear Camera', '50MP Rear Camera', '50MP Rear Camera', '108MP Rear Camera', '50MP Rear Camera', '108MP Rear Camera', '50MP Rear Camera', '50MP Rear Camera', '64MP Rear Camera', '64MP Rear Camera', '64MP Rear Camera', '50MP Rear Camera']\n"
     ]
    }
   ],
   "source": [
    "PC=driver.find_elements(By.XPATH,\"//ul[@class='_1xgFaf']//li[3]\")\n",
    "for i in PC:\n",
    "    if i.text is None :\n",
    "        Primary_Camera.append(\"--\") \n",
    "    else:\n",
    "        Primary_Camera.append(i.text)\n",
    "print(len(Primary_Camera),Primary_Camera)"
   ]
  },
  {
   "cell_type": "code",
   "execution_count": 107,
   "id": "349b1bf1",
   "metadata": {},
   "outputs": [],
   "source": [
    "Secondary_Camera1 = ('-')\n",
    "m=driver.find_elements(By.XPATH,'//div[@class=\"_4rR01T\"]')\n",
    "for i in m:\n",
    "    org=Secondary_Camera1\n",
    "    Secondary_Camera.append(org)"
   ]
  },
  {
   "cell_type": "code",
   "execution_count": 109,
   "id": "a1d85049",
   "metadata": {},
   "outputs": [
    {
     "data": {
      "text/plain": [
       "['-',\n",
       " '-',\n",
       " '-',\n",
       " '-',\n",
       " '-',\n",
       " '-',\n",
       " '-',\n",
       " '-',\n",
       " '-',\n",
       " '-',\n",
       " '-',\n",
       " '-',\n",
       " '-',\n",
       " '-',\n",
       " '-',\n",
       " '-',\n",
       " '-',\n",
       " '-',\n",
       " '-',\n",
       " '-',\n",
       " '-',\n",
       " '-',\n",
       " '-',\n",
       " '-']"
      ]
     },
     "execution_count": 109,
     "metadata": {},
     "output_type": "execute_result"
    }
   ],
   "source": [
    "Secondary_Camera"
   ]
  },
  {
   "cell_type": "code",
   "execution_count": 110,
   "id": "783ad0f3",
   "metadata": {
    "scrolled": true
   },
   "outputs": [
    {
     "name": "stdout",
     "output_type": "stream",
     "text": [
      "24 ['17.07 cm (6.72 inch) Display', '17.07 cm (6.72 inch) Display', '17.07 cm (6.72 inch) Display', '17.07 cm (6.72 inch) Display', '17.07 cm (6.72 inch) Display', '16.74 cm (6.59 inch) Display', '17.07 cm (6.72 inch) Display', '17.07 cm (6.72 inch) Display', '16.74 cm (6.59 inch) Display', '17.07 cm (6.72 inch) Display', '17.02 cm (6.7 inch) Display', '17.02 cm (6.7 inch) Display', '17.07 cm (6.72 inch) Display', '17.12 cm (6.74 inch) Display', '17.02 cm (6.7 inch) Display', '17.07 cm (6.72 inch) Display', '17.12 cm (6.74 inch) Display', '17.07 cm (6.72 inch) Display', '17.12 cm (6.74 inch) Full HD+ Display', '17.12 cm (6.74 inch) Display', '16.33 cm (6.43 inch) Display', '16.33 cm (6.43 inch) Display', '16.33 cm (6.43 inch) Display', '17.02 cm (6.7 inch) Display']\n"
     ]
    }
   ],
   "source": [
    "PC=driver.find_elements(By.XPATH,\"//ul[@class='_1xgFaf']//li[2]\")\n",
    "for i in PC:\n",
    "    if i.text is None :\n",
    "        Display_Size.append(\"--\") \n",
    "    else:\n",
    "        Display_Size.append(i.text)\n",
    "print(len(Display_Size),Display_Size)"
   ]
  },
  {
   "cell_type": "code",
   "execution_count": 111,
   "id": "8de074b0",
   "metadata": {},
   "outputs": [
    {
     "name": "stdout",
     "output_type": "stream",
     "text": [
      "24 ['5000 mAh Battery', '5000 mAh Battery', '5000 mAh Battery', '5000 mAh Battery', '5000 mAh Battery', '5000 mAh Battery', '5000 mAh Battery', '5000 mAh Battery', '5000 mAh Battery', '5000 mAh Battery', '5000 mAh Battery', '5000 mAh Battery', '5000 mAh Battery', '5000 mAh Battery', '5000 mAh Battery', '5000 mAh Battery', '5000 mAh Battery', '5000 mAh Battery', '5000 mAh Battery', '5000 mAh Battery', '4500 mAh Battery', '4500 mAh Battery', '4500 mAh Battery', '4500 mAh Battery']\n"
     ]
    }
   ],
   "source": [
    "PC=driver.find_elements(By.XPATH,\"//ul[@class='_1xgFaf']//li[4]\")\n",
    "for i in PC:\n",
    "    if i.text is None :\n",
    "        Battery_Capacity.append(\"--\") \n",
    "    else:\n",
    "        Battery_Capacity.append(i.text)\n",
    "print(len(Battery_Capacity),Battery_Capacity)"
   ]
  },
  {
   "cell_type": "code",
   "execution_count": 113,
   "id": "56940f48",
   "metadata": {},
   "outputs": [
    {
     "name": "stdout",
     "output_type": "stream",
     "text": [
      "24 ['₹20,875', '₹20,938', '₹19,449', '₹19,430', '₹21,285', '₹18,298', '₹21,240', '₹19,930', '₹17,808', '₹19,988', '₹24,590', '₹28,990', '₹21,335', '₹28,162', '₹24,398', '₹21,870', '₹36,000', '₹19,710', '₹29,097', '₹37,630', '₹22,495', '₹21,888', '₹21,395', '₹28,999']\n"
     ]
    }
   ],
   "source": [
    "     \n",
    "PC=driver.find_elements(By.XPATH,'//div[@class=\"_30jeq3 _1_WHN1\"]')\n",
    "for i in PC:\n",
    "    if i.text is None :\n",
    "        Price.append(\"--\") \n",
    "    else:\n",
    "        Price.append(i.text)\n",
    "print(len(Price),Price)   \n",
    "    "
   ]
  },
  {
   "cell_type": "code",
   "execution_count": 132,
   "id": "fbcc475d",
   "metadata": {},
   "outputs": [],
   "source": [
    "Product_URL = []\n",
    "Product=driver.find_elements(By.XPATH,'//a[@class=\"_1fQZEK\"]')\n",
    "for i in Product:\n",
    "    a = i.get_attribute('href')\n",
    "    Product_URL.append(a)"
   ]
  },
  {
   "cell_type": "code",
   "execution_count": 138,
   "id": "e4dd6578",
   "metadata": {},
   "outputs": [
    {
     "data": {
      "text/html": [
       "<div>\n",
       "<style scoped>\n",
       "    .dataframe tbody tr th:only-of-type {\n",
       "        vertical-align: middle;\n",
       "    }\n",
       "\n",
       "    .dataframe tbody tr th {\n",
       "        vertical-align: top;\n",
       "    }\n",
       "\n",
       "    .dataframe thead th {\n",
       "        text-align: right;\n",
       "    }\n",
       "</style>\n",
       "<table border=\"1\" class=\"dataframe\">\n",
       "  <thead>\n",
       "    <tr style=\"text-align: right;\">\n",
       "      <th></th>\n",
       "      <th>Brand_Name</th>\n",
       "      <th>Smartphone_name</th>\n",
       "      <th>Colour</th>\n",
       "      <th>RAM_ROM</th>\n",
       "      <th>Primary_Camera</th>\n",
       "      <th>Secondary_Camera</th>\n",
       "      <th>Display_Size</th>\n",
       "      <th>Battery_Capacity</th>\n",
       "      <th>Price</th>\n",
       "      <th>Product_URL</th>\n",
       "    </tr>\n",
       "  </thead>\n",
       "  <tbody>\n",
       "    <tr>\n",
       "      <th>0</th>\n",
       "      <td>-</td>\n",
       "      <td>OnePlus Nord CE 3 Lite 5G (Chromatic Gray, 256...</td>\n",
       "      <td>-</td>\n",
       "      <td>8 GB RAM | 256 GB ROM</td>\n",
       "      <td>108MP Rear Camera</td>\n",
       "      <td>-</td>\n",
       "      <td>17.07 cm (6.72 inch) Display</td>\n",
       "      <td>5000 mAh Battery</td>\n",
       "      <td>₹20,875</td>\n",
       "      <td>https://www.flipkart.com/oneplus-nord-ce-3-lit...</td>\n",
       "    </tr>\n",
       "    <tr>\n",
       "      <th>1</th>\n",
       "      <td>-</td>\n",
       "      <td>OnePlus Nord CE 3 Lite 5G (Pastel Lime, 256 GB)</td>\n",
       "      <td>-</td>\n",
       "      <td>8 GB RAM | 256 GB ROM</td>\n",
       "      <td>108MP Rear Camera</td>\n",
       "      <td>-</td>\n",
       "      <td>17.07 cm (6.72 inch) Display</td>\n",
       "      <td>5000 mAh Battery</td>\n",
       "      <td>₹20,938</td>\n",
       "      <td>https://www.flipkart.com/oneplus-nord-ce-3-lit...</td>\n",
       "    </tr>\n",
       "    <tr>\n",
       "      <th>2</th>\n",
       "      <td>-</td>\n",
       "      <td>OnePlus Nord CE 3 Lite 5G (Chromatic Gray, 128...</td>\n",
       "      <td>-</td>\n",
       "      <td>8 GB RAM | 128 GB ROM</td>\n",
       "      <td>108MP Rear Camera</td>\n",
       "      <td>-</td>\n",
       "      <td>17.07 cm (6.72 inch) Display</td>\n",
       "      <td>5000 mAh Battery</td>\n",
       "      <td>₹19,449</td>\n",
       "      <td>https://www.flipkart.com/oneplus-nord-ce-3-lit...</td>\n",
       "    </tr>\n",
       "    <tr>\n",
       "      <th>3</th>\n",
       "      <td>-</td>\n",
       "      <td>OnePlus Nord CE 3 Lite 5G (Pastel Lime, 128 GB)</td>\n",
       "      <td>-</td>\n",
       "      <td>8 GB RAM | 128 GB ROM</td>\n",
       "      <td>108MP Rear Camera</td>\n",
       "      <td>-</td>\n",
       "      <td>17.07 cm (6.72 inch) Display</td>\n",
       "      <td>5000 mAh Battery</td>\n",
       "      <td>₹19,430</td>\n",
       "      <td>https://www.flipkart.com/oneplus-nord-ce-3-lit...</td>\n",
       "    </tr>\n",
       "    <tr>\n",
       "      <th>4</th>\n",
       "      <td>-</td>\n",
       "      <td>OnePlus Nord CE 3 Lite 5G (Chromatic Gray, 256...</td>\n",
       "      <td>-</td>\n",
       "      <td>8 GB RAM | 256 GB ROM</td>\n",
       "      <td>108MP Rear Camera</td>\n",
       "      <td>-</td>\n",
       "      <td>17.07 cm (6.72 inch) Display</td>\n",
       "      <td>5000 mAh Battery</td>\n",
       "      <td>₹21,285</td>\n",
       "      <td>https://www.flipkart.com/oneplus-nord-ce-3-lit...</td>\n",
       "    </tr>\n",
       "    <tr>\n",
       "      <th>5</th>\n",
       "      <td>-</td>\n",
       "      <td>OnePlus Nord CE 2 Lite 5G (Blue Tide, 128 GB)</td>\n",
       "      <td>-</td>\n",
       "      <td>6 GB RAM | 128 GB ROM</td>\n",
       "      <td>64MP Rear Camera | 16MP Front Camera</td>\n",
       "      <td>-</td>\n",
       "      <td>16.74 cm (6.59 inch) Display</td>\n",
       "      <td>5000 mAh Battery</td>\n",
       "      <td>₹18,298</td>\n",
       "      <td>https://www.flipkart.com/oneplus-nord-ce-2-lit...</td>\n",
       "    </tr>\n",
       "    <tr>\n",
       "      <th>6</th>\n",
       "      <td>-</td>\n",
       "      <td>OnePlus Nord CE 3 Lite 5G (Pastel lime, 256 GB)</td>\n",
       "      <td>-</td>\n",
       "      <td>8 GB RAM | 256 GB ROM</td>\n",
       "      <td>108MP Rear Camera</td>\n",
       "      <td>-</td>\n",
       "      <td>17.07 cm (6.72 inch) Display</td>\n",
       "      <td>5000 mAh Battery</td>\n",
       "      <td>₹21,240</td>\n",
       "      <td>https://www.flipkart.com/oneplus-nord-ce-3-lit...</td>\n",
       "    </tr>\n",
       "    <tr>\n",
       "      <th>7</th>\n",
       "      <td>-</td>\n",
       "      <td>OnePlus Nord CE 3 Lite 5G (Chromatic Gray, 128...</td>\n",
       "      <td>-</td>\n",
       "      <td>8 GB RAM | 128 GB ROM</td>\n",
       "      <td>108MP Rear Camera</td>\n",
       "      <td>-</td>\n",
       "      <td>17.07 cm (6.72 inch) Display</td>\n",
       "      <td>5000 mAh Battery</td>\n",
       "      <td>₹19,930</td>\n",
       "      <td>https://www.flipkart.com/oneplus-nord-ce-3-lit...</td>\n",
       "    </tr>\n",
       "    <tr>\n",
       "      <th>8</th>\n",
       "      <td>-</td>\n",
       "      <td>OnePlus Nord CE 2 Lite 5G (Black Dusk, 128 GB)</td>\n",
       "      <td>-</td>\n",
       "      <td>6 GB RAM | 128 GB ROM</td>\n",
       "      <td>64MP Rear Camera | 16MP Front Camera</td>\n",
       "      <td>-</td>\n",
       "      <td>16.74 cm (6.59 inch) Display</td>\n",
       "      <td>5000 mAh Battery</td>\n",
       "      <td>₹17,808</td>\n",
       "      <td>https://www.flipkart.com/oneplus-nord-ce-2-lit...</td>\n",
       "    </tr>\n",
       "    <tr>\n",
       "      <th>9</th>\n",
       "      <td>-</td>\n",
       "      <td>OnePlus Nord CE 3 Lite 5G (Pastel Lime, 128 GB)</td>\n",
       "      <td>-</td>\n",
       "      <td>8 GB RAM | 128 GB ROM</td>\n",
       "      <td>108MP Rear Camera</td>\n",
       "      <td>-</td>\n",
       "      <td>17.07 cm (6.72 inch) Display</td>\n",
       "      <td>5000 mAh Battery</td>\n",
       "      <td>₹19,988</td>\n",
       "      <td>https://www.flipkart.com/oneplus-nord-ce-3-lit...</td>\n",
       "    </tr>\n",
       "    <tr>\n",
       "      <th>10</th>\n",
       "      <td>-</td>\n",
       "      <td>OnePlus Nord CE3 5G (Aqua Surge, 128 GB)</td>\n",
       "      <td>-</td>\n",
       "      <td>8 GB RAM | 128 GB ROM</td>\n",
       "      <td>50MP Rear Camera | 50MP Front Camera</td>\n",
       "      <td>-</td>\n",
       "      <td>17.02 cm (6.7 inch) Display</td>\n",
       "      <td>5000 mAh Battery</td>\n",
       "      <td>₹24,590</td>\n",
       "      <td>https://www.flipkart.com/oneplus-nord-ce3-5g-a...</td>\n",
       "    </tr>\n",
       "    <tr>\n",
       "      <th>11</th>\n",
       "      <td>-</td>\n",
       "      <td>OnePlus Nord CE3 5G (Aqua Surge, 256 GB)</td>\n",
       "      <td>-</td>\n",
       "      <td>12 GB RAM | 256 GB ROM</td>\n",
       "      <td>50MP Rear Camera</td>\n",
       "      <td>-</td>\n",
       "      <td>17.02 cm (6.7 inch) Display</td>\n",
       "      <td>5000 mAh Battery</td>\n",
       "      <td>₹28,990</td>\n",
       "      <td>https://www.flipkart.com/oneplus-nord-ce3-5g-a...</td>\n",
       "    </tr>\n",
       "    <tr>\n",
       "      <th>12</th>\n",
       "      <td>-</td>\n",
       "      <td>OnePlus Nord CE 3 Lite 5G (Pastel Lime, 256 GB)</td>\n",
       "      <td>-</td>\n",
       "      <td>8 GB RAM | 256 GB ROM</td>\n",
       "      <td>108MP Rear Camera</td>\n",
       "      <td>-</td>\n",
       "      <td>17.07 cm (6.72 inch) Display</td>\n",
       "      <td>5000 mAh Battery</td>\n",
       "      <td>₹21,335</td>\n",
       "      <td>https://www.flipkart.com/oneplus-nord-ce-3-lit...</td>\n",
       "    </tr>\n",
       "    <tr>\n",
       "      <th>13</th>\n",
       "      <td>-</td>\n",
       "      <td>OnePlus Nord 3 5G (Misty Green, 128 GB)</td>\n",
       "      <td>-</td>\n",
       "      <td>8 GB RAM | 128 GB ROM</td>\n",
       "      <td>50MP Rear Camera</td>\n",
       "      <td>-</td>\n",
       "      <td>17.12 cm (6.74 inch) Display</td>\n",
       "      <td>5000 mAh Battery</td>\n",
       "      <td>₹28,162</td>\n",
       "      <td>https://www.flipkart.com/oneplus-nord-3-5g-mis...</td>\n",
       "    </tr>\n",
       "    <tr>\n",
       "      <th>14</th>\n",
       "      <td>-</td>\n",
       "      <td>OnePlus Nord CE3 5G (Grey Shimmer, 128 GB)</td>\n",
       "      <td>-</td>\n",
       "      <td>8 GB RAM | 128 GB ROM</td>\n",
       "      <td>50MP Rear Camera</td>\n",
       "      <td>-</td>\n",
       "      <td>17.02 cm (6.7 inch) Display</td>\n",
       "      <td>5000 mAh Battery</td>\n",
       "      <td>₹24,398</td>\n",
       "      <td>https://www.flipkart.com/oneplus-nord-ce3-5g-g...</td>\n",
       "    </tr>\n",
       "    <tr>\n",
       "      <th>15</th>\n",
       "      <td>-</td>\n",
       "      <td>OnePlus Nord CE 3 Lite 5G (Chromatic Gray, 256...</td>\n",
       "      <td>-</td>\n",
       "      <td>8 GB RAM | 256 GB ROM</td>\n",
       "      <td>108MP Rear Camera</td>\n",
       "      <td>-</td>\n",
       "      <td>17.07 cm (6.72 inch) Display</td>\n",
       "      <td>5000 mAh Battery</td>\n",
       "      <td>₹21,870</td>\n",
       "      <td>https://www.flipkart.com/oneplus-nord-ce-3-lit...</td>\n",
       "    </tr>\n",
       "    <tr>\n",
       "      <th>16</th>\n",
       "      <td>-</td>\n",
       "      <td>OnePlus Nord 3 5G (Tempest Gray, 256 GB)</td>\n",
       "      <td>-</td>\n",
       "      <td>16 GB RAM | 256 GB ROM</td>\n",
       "      <td>50MP Rear Camera</td>\n",
       "      <td>-</td>\n",
       "      <td>17.12 cm (6.74 inch) Display</td>\n",
       "      <td>5000 mAh Battery</td>\n",
       "      <td>₹36,000</td>\n",
       "      <td>https://www.flipkart.com/oneplus-nord-3-5g-tem...</td>\n",
       "    </tr>\n",
       "    <tr>\n",
       "      <th>17</th>\n",
       "      <td>-</td>\n",
       "      <td>OnePlus Nord CE 3 Lite 5G (Chromatic Gray, 128...</td>\n",
       "      <td>-</td>\n",
       "      <td>8 GB RAM | 128 GB ROM</td>\n",
       "      <td>108MP Rear Camera</td>\n",
       "      <td>-</td>\n",
       "      <td>17.07 cm (6.72 inch) Display</td>\n",
       "      <td>5000 mAh Battery</td>\n",
       "      <td>₹19,710</td>\n",
       "      <td>https://www.flipkart.com/oneplus-nord-ce-3-lit...</td>\n",
       "    </tr>\n",
       "    <tr>\n",
       "      <th>18</th>\n",
       "      <td>-</td>\n",
       "      <td>OnePlus Nord 3 5G (Tempest Gray, 128 GB)</td>\n",
       "      <td>-</td>\n",
       "      <td>8 GB RAM | 128 GB ROM</td>\n",
       "      <td>50MP Rear Camera</td>\n",
       "      <td>-</td>\n",
       "      <td>17.12 cm (6.74 inch) Full HD+ Display</td>\n",
       "      <td>5000 mAh Battery</td>\n",
       "      <td>₹29,097</td>\n",
       "      <td>https://www.flipkart.com/oneplus-nord-3-5g-tem...</td>\n",
       "    </tr>\n",
       "    <tr>\n",
       "      <th>19</th>\n",
       "      <td>-</td>\n",
       "      <td>OnePlus Nord 3 5G (Misty Green, 256 GB)</td>\n",
       "      <td>-</td>\n",
       "      <td>16 GB RAM | 256 GB ROM</td>\n",
       "      <td>50MP Rear Camera</td>\n",
       "      <td>-</td>\n",
       "      <td>17.12 cm (6.74 inch) Display</td>\n",
       "      <td>5000 mAh Battery</td>\n",
       "      <td>₹37,630</td>\n",
       "      <td>https://www.flipkart.com/oneplus-nord-3-5g-mis...</td>\n",
       "    </tr>\n",
       "    <tr>\n",
       "      <th>20</th>\n",
       "      <td>-</td>\n",
       "      <td>OnePlus Nord CE 2 5G (Bahama Blue, 128 GB)</td>\n",
       "      <td>-</td>\n",
       "      <td>8 GB RAM | 128 GB ROM</td>\n",
       "      <td>64MP Rear Camera</td>\n",
       "      <td>-</td>\n",
       "      <td>16.33 cm (6.43 inch) Display</td>\n",
       "      <td>4500 mAh Battery</td>\n",
       "      <td>₹22,495</td>\n",
       "      <td>https://www.flipkart.com/oneplus-nord-ce-2-5g-...</td>\n",
       "    </tr>\n",
       "    <tr>\n",
       "      <th>21</th>\n",
       "      <td>-</td>\n",
       "      <td>OnePlus Nord CE 2 5G (Bahama Blue, 128 GB)</td>\n",
       "      <td>-</td>\n",
       "      <td>8 GB RAM | 128 GB ROM</td>\n",
       "      <td>64MP Rear Camera</td>\n",
       "      <td>-</td>\n",
       "      <td>16.33 cm (6.43 inch) Display</td>\n",
       "      <td>4500 mAh Battery</td>\n",
       "      <td>₹21,888</td>\n",
       "      <td>https://www.flipkart.com/oneplus-nord-ce-2-5g-...</td>\n",
       "    </tr>\n",
       "    <tr>\n",
       "      <th>22</th>\n",
       "      <td>-</td>\n",
       "      <td>OnePlus Nord CE 2 5G (Bahama Blue, 128 GB)</td>\n",
       "      <td>-</td>\n",
       "      <td>8 GB RAM | 128 GB ROM</td>\n",
       "      <td>64MP Rear Camera</td>\n",
       "      <td>-</td>\n",
       "      <td>16.33 cm (6.43 inch) Display</td>\n",
       "      <td>4500 mAh Battery</td>\n",
       "      <td>₹21,395</td>\n",
       "      <td>https://www.flipkart.com/oneplus-nord-ce-2-5g-...</td>\n",
       "    </tr>\n",
       "    <tr>\n",
       "      <th>23</th>\n",
       "      <td>-</td>\n",
       "      <td>OnePlus Nord 2T 5G (Gray Shadow, 128 GB)</td>\n",
       "      <td>-</td>\n",
       "      <td>8 GB RAM | 128 GB ROM</td>\n",
       "      <td>50MP Rear Camera</td>\n",
       "      <td>-</td>\n",
       "      <td>17.02 cm (6.7 inch) Display</td>\n",
       "      <td>4500 mAh Battery</td>\n",
       "      <td>₹28,999</td>\n",
       "      <td>https://www.flipkart.com/oneplus-nord-2t-5g-gr...</td>\n",
       "    </tr>\n",
       "  </tbody>\n",
       "</table>\n",
       "</div>"
      ],
      "text/plain": [
       "   Brand_Name                                    Smartphone_name Colour  \\\n",
       "0           -  OnePlus Nord CE 3 Lite 5G (Chromatic Gray, 256...      -   \n",
       "1           -    OnePlus Nord CE 3 Lite 5G (Pastel Lime, 256 GB)      -   \n",
       "2           -  OnePlus Nord CE 3 Lite 5G (Chromatic Gray, 128...      -   \n",
       "3           -    OnePlus Nord CE 3 Lite 5G (Pastel Lime, 128 GB)      -   \n",
       "4           -  OnePlus Nord CE 3 Lite 5G (Chromatic Gray, 256...      -   \n",
       "5           -      OnePlus Nord CE 2 Lite 5G (Blue Tide, 128 GB)      -   \n",
       "6           -    OnePlus Nord CE 3 Lite 5G (Pastel lime, 256 GB)      -   \n",
       "7           -  OnePlus Nord CE 3 Lite 5G (Chromatic Gray, 128...      -   \n",
       "8           -     OnePlus Nord CE 2 Lite 5G (Black Dusk, 128 GB)      -   \n",
       "9           -    OnePlus Nord CE 3 Lite 5G (Pastel Lime, 128 GB)      -   \n",
       "10          -           OnePlus Nord CE3 5G (Aqua Surge, 128 GB)      -   \n",
       "11          -           OnePlus Nord CE3 5G (Aqua Surge, 256 GB)      -   \n",
       "12          -    OnePlus Nord CE 3 Lite 5G (Pastel Lime, 256 GB)      -   \n",
       "13          -            OnePlus Nord 3 5G (Misty Green, 128 GB)      -   \n",
       "14          -         OnePlus Nord CE3 5G (Grey Shimmer, 128 GB)      -   \n",
       "15          -  OnePlus Nord CE 3 Lite 5G (Chromatic Gray, 256...      -   \n",
       "16          -           OnePlus Nord 3 5G (Tempest Gray, 256 GB)      -   \n",
       "17          -  OnePlus Nord CE 3 Lite 5G (Chromatic Gray, 128...      -   \n",
       "18          -           OnePlus Nord 3 5G (Tempest Gray, 128 GB)      -   \n",
       "19          -            OnePlus Nord 3 5G (Misty Green, 256 GB)      -   \n",
       "20          -         OnePlus Nord CE 2 5G (Bahama Blue, 128 GB)      -   \n",
       "21          -         OnePlus Nord CE 2 5G (Bahama Blue, 128 GB)      -   \n",
       "22          -         OnePlus Nord CE 2 5G (Bahama Blue, 128 GB)      -   \n",
       "23          -           OnePlus Nord 2T 5G (Gray Shadow, 128 GB)      -   \n",
       "\n",
       "                   RAM_ROM                        Primary_Camera  \\\n",
       "0    8 GB RAM | 256 GB ROM                     108MP Rear Camera   \n",
       "1    8 GB RAM | 256 GB ROM                     108MP Rear Camera   \n",
       "2    8 GB RAM | 128 GB ROM                     108MP Rear Camera   \n",
       "3    8 GB RAM | 128 GB ROM                     108MP Rear Camera   \n",
       "4    8 GB RAM | 256 GB ROM                     108MP Rear Camera   \n",
       "5    6 GB RAM | 128 GB ROM  64MP Rear Camera | 16MP Front Camera   \n",
       "6    8 GB RAM | 256 GB ROM                     108MP Rear Camera   \n",
       "7    8 GB RAM | 128 GB ROM                     108MP Rear Camera   \n",
       "8    6 GB RAM | 128 GB ROM  64MP Rear Camera | 16MP Front Camera   \n",
       "9    8 GB RAM | 128 GB ROM                     108MP Rear Camera   \n",
       "10   8 GB RAM | 128 GB ROM  50MP Rear Camera | 50MP Front Camera   \n",
       "11  12 GB RAM | 256 GB ROM                      50MP Rear Camera   \n",
       "12   8 GB RAM | 256 GB ROM                     108MP Rear Camera   \n",
       "13   8 GB RAM | 128 GB ROM                      50MP Rear Camera   \n",
       "14   8 GB RAM | 128 GB ROM                      50MP Rear Camera   \n",
       "15   8 GB RAM | 256 GB ROM                     108MP Rear Camera   \n",
       "16  16 GB RAM | 256 GB ROM                      50MP Rear Camera   \n",
       "17   8 GB RAM | 128 GB ROM                     108MP Rear Camera   \n",
       "18   8 GB RAM | 128 GB ROM                      50MP Rear Camera   \n",
       "19  16 GB RAM | 256 GB ROM                      50MP Rear Camera   \n",
       "20   8 GB RAM | 128 GB ROM                      64MP Rear Camera   \n",
       "21   8 GB RAM | 128 GB ROM                      64MP Rear Camera   \n",
       "22   8 GB RAM | 128 GB ROM                      64MP Rear Camera   \n",
       "23   8 GB RAM | 128 GB ROM                      50MP Rear Camera   \n",
       "\n",
       "   Secondary_Camera                           Display_Size  Battery_Capacity  \\\n",
       "0                 -           17.07 cm (6.72 inch) Display  5000 mAh Battery   \n",
       "1                 -           17.07 cm (6.72 inch) Display  5000 mAh Battery   \n",
       "2                 -           17.07 cm (6.72 inch) Display  5000 mAh Battery   \n",
       "3                 -           17.07 cm (6.72 inch) Display  5000 mAh Battery   \n",
       "4                 -           17.07 cm (6.72 inch) Display  5000 mAh Battery   \n",
       "5                 -           16.74 cm (6.59 inch) Display  5000 mAh Battery   \n",
       "6                 -           17.07 cm (6.72 inch) Display  5000 mAh Battery   \n",
       "7                 -           17.07 cm (6.72 inch) Display  5000 mAh Battery   \n",
       "8                 -           16.74 cm (6.59 inch) Display  5000 mAh Battery   \n",
       "9                 -           17.07 cm (6.72 inch) Display  5000 mAh Battery   \n",
       "10                -            17.02 cm (6.7 inch) Display  5000 mAh Battery   \n",
       "11                -            17.02 cm (6.7 inch) Display  5000 mAh Battery   \n",
       "12                -           17.07 cm (6.72 inch) Display  5000 mAh Battery   \n",
       "13                -           17.12 cm (6.74 inch) Display  5000 mAh Battery   \n",
       "14                -            17.02 cm (6.7 inch) Display  5000 mAh Battery   \n",
       "15                -           17.07 cm (6.72 inch) Display  5000 mAh Battery   \n",
       "16                -           17.12 cm (6.74 inch) Display  5000 mAh Battery   \n",
       "17                -           17.07 cm (6.72 inch) Display  5000 mAh Battery   \n",
       "18                -  17.12 cm (6.74 inch) Full HD+ Display  5000 mAh Battery   \n",
       "19                -           17.12 cm (6.74 inch) Display  5000 mAh Battery   \n",
       "20                -           16.33 cm (6.43 inch) Display  4500 mAh Battery   \n",
       "21                -           16.33 cm (6.43 inch) Display  4500 mAh Battery   \n",
       "22                -           16.33 cm (6.43 inch) Display  4500 mAh Battery   \n",
       "23                -            17.02 cm (6.7 inch) Display  4500 mAh Battery   \n",
       "\n",
       "      Price                                        Product_URL  \n",
       "0   ₹20,875  https://www.flipkart.com/oneplus-nord-ce-3-lit...  \n",
       "1   ₹20,938  https://www.flipkart.com/oneplus-nord-ce-3-lit...  \n",
       "2   ₹19,449  https://www.flipkart.com/oneplus-nord-ce-3-lit...  \n",
       "3   ₹19,430  https://www.flipkart.com/oneplus-nord-ce-3-lit...  \n",
       "4   ₹21,285  https://www.flipkart.com/oneplus-nord-ce-3-lit...  \n",
       "5   ₹18,298  https://www.flipkart.com/oneplus-nord-ce-2-lit...  \n",
       "6   ₹21,240  https://www.flipkart.com/oneplus-nord-ce-3-lit...  \n",
       "7   ₹19,930  https://www.flipkart.com/oneplus-nord-ce-3-lit...  \n",
       "8   ₹17,808  https://www.flipkart.com/oneplus-nord-ce-2-lit...  \n",
       "9   ₹19,988  https://www.flipkart.com/oneplus-nord-ce-3-lit...  \n",
       "10  ₹24,590  https://www.flipkart.com/oneplus-nord-ce3-5g-a...  \n",
       "11  ₹28,990  https://www.flipkart.com/oneplus-nord-ce3-5g-a...  \n",
       "12  ₹21,335  https://www.flipkart.com/oneplus-nord-ce-3-lit...  \n",
       "13  ₹28,162  https://www.flipkart.com/oneplus-nord-3-5g-mis...  \n",
       "14  ₹24,398  https://www.flipkart.com/oneplus-nord-ce3-5g-g...  \n",
       "15  ₹21,870  https://www.flipkart.com/oneplus-nord-ce-3-lit...  \n",
       "16  ₹36,000  https://www.flipkart.com/oneplus-nord-3-5g-tem...  \n",
       "17  ₹19,710  https://www.flipkart.com/oneplus-nord-ce-3-lit...  \n",
       "18  ₹29,097  https://www.flipkart.com/oneplus-nord-3-5g-tem...  \n",
       "19  ₹37,630  https://www.flipkart.com/oneplus-nord-3-5g-mis...  \n",
       "20  ₹22,495  https://www.flipkart.com/oneplus-nord-ce-2-5g-...  \n",
       "21  ₹21,888  https://www.flipkart.com/oneplus-nord-ce-2-5g-...  \n",
       "22  ₹21,395  https://www.flipkart.com/oneplus-nord-ce-2-5g-...  \n",
       "23  ₹28,999  https://www.flipkart.com/oneplus-nord-2t-5g-gr...  "
      ]
     },
     "execution_count": 138,
     "metadata": {},
     "output_type": "execute_result"
    }
   ],
   "source": [
    "data=pd.DataFrame([])\n",
    "data['Brand_Name']=Brand_Name1\n",
    "data['Smartphone_name']=Smartphone_name\n",
    "data['Colour']=Colour\n",
    "data['RAM_ROM']=RAM_ROM\n",
    "data['Primary_Camera']=Primary_Camera\n",
    "data['Secondary_Camera']=Secondary_Camera\n",
    "data['Display_Size']=Display_Size\n",
    "data['Battery_Capacity']=Battery_Capacity\n",
    "data['Price']=Price\n",
    "data['Product_URL']=Product_URL\n",
    "\n",
    "data"
   ]
  },
  {
   "cell_type": "code",
   "execution_count": 143,
   "id": "218b9358",
   "metadata": {},
   "outputs": [],
   "source": [
    "data.to_csv('file1.csv')"
   ]
  },
  {
   "cell_type": "markdown",
   "id": "247b5b58",
   "metadata": {},
   "source": [
    "QUESTION 5"
   ]
  },
  {
   "cell_type": "code",
   "execution_count": 144,
   "id": "e3b4186c",
   "metadata": {},
   "outputs": [],
   "source": [
    "import selenium\n",
    "import pandas as pd\n",
    "from selenium import webdriver\n",
    "import warnings\n",
    "warnings.filterwarnings('ignore')\n",
    "from selenium.webdriver.common.by import By\n",
    "from selenium.webdriver.support.ui import WebDriverWait\n",
    "from selenium.webdriver.support import expected_conditions as EC"
   ]
  },
  {
   "cell_type": "code",
   "execution_count": 145,
   "id": "a91d84b3",
   "metadata": {},
   "outputs": [],
   "source": [
    "driver = webdriver.Chrome()    "
   ]
  },
  {
   "cell_type": "code",
   "execution_count": 146,
   "id": "4b1367ad",
   "metadata": {},
   "outputs": [],
   "source": [
    "driver.get(\"https://www.google.com/maps/@23.3668608,85.2918272,12z?entry=ttu\")"
   ]
  },
  {
   "cell_type": "code",
   "execution_count": 148,
   "id": "9beaeb0d",
   "metadata": {},
   "outputs": [],
   "source": [
    "typing=driver.find_element(By.XPATH, \"/html/body/div[1]/div[3]/div[8]/div[3]/div[1]/div[1]/div/div[2]/form/input \")\n",
    "typing.send_keys('New Delhi')"
   ]
  },
  {
   "cell_type": "code",
   "execution_count": 149,
   "id": "76e94dbe",
   "metadata": {},
   "outputs": [],
   "source": [
    "press=driver.find_element(By.XPATH, \"/html/body/div[1]/div[3]/div[8]/div[3]/div[1]/div[1]/div/div[2]/div[1]/button/span\")\n",
    "press.click()"
   ]
  },
  {
   "cell_type": "code",
   "execution_count": 154,
   "id": "2de6fbd2",
   "metadata": {},
   "outputs": [
    {
     "name": "stdout",
     "output_type": "stream",
     "text": [
      "Latitude: 28.5273522, Longitude: 77.2089851\n"
     ]
    }
   ],
   "source": [
    "try:\n",
    "        url = driver.current_url\n",
    "        coordinates = url.split('@')[1].split(',')[0:2]\n",
    "        latitude = coordinates[0]\n",
    "        longitude = coordinates[1]\n",
    "        print(f\"Latitude: {latitude}, Longitude: {longitude}\")\n",
    "except Exception as e:\n",
    "        print(\"Error:\", e)"
   ]
  },
  {
   "cell_type": "markdown",
   "id": "6bd66f10",
   "metadata": {},
   "source": [
    "QUESTION 6"
   ]
  },
  {
   "cell_type": "code",
   "execution_count": 6,
   "id": "04ecf275",
   "metadata": {},
   "outputs": [],
   "source": [
    "import selenium\n",
    "import pandas as pd\n",
    "from selenium import webdriver\n",
    "import warnings\n",
    "warnings.filterwarnings('ignore')\n",
    "from selenium.webdriver.common.by import By\n",
    "from selenium.webdriver.support.ui import WebDriverWait\n",
    "from selenium.webdriver.support import expected_conditions as EC"
   ]
  },
  {
   "cell_type": "code",
   "execution_count": 20,
   "id": "4ccf8b3d",
   "metadata": {},
   "outputs": [],
   "source": [
    "driver = webdriver.Chrome()"
   ]
  },
  {
   "cell_type": "code",
   "execution_count": 21,
   "id": "37e2a98b",
   "metadata": {},
   "outputs": [],
   "source": [
    "driver.get(\"https://www.digit.in/\")              "
   ]
  },
  {
   "cell_type": "code",
   "execution_count": 23,
   "id": "b55e85bf",
   "metadata": {},
   "outputs": [],
   "source": [
    "press=driver.find_element(By.XPATH, \"/html/body/div[1]/header/div/div[2]/div/nav/ul/li[2]\")\n",
    "press.click()"
   ]
  },
  {
   "cell_type": "code",
   "execution_count": 24,
   "id": "3ad443f9",
   "metadata": {},
   "outputs": [],
   "source": [
    "press=driver.find_element(By.XPATH, \"/html/body/div[1]/header/div/div[2]/div/nav/ul/li[2]/ul/li[3]/ul/li[1]/a\")\n",
    "press.click()"
   ]
  },
  {
   "cell_type": "code",
   "execution_count": 64,
   "id": "723185e4",
   "metadata": {},
   "outputs": [],
   "source": [
    "Names = []\n",
    "Operating_System = []\n",
    "Specs = []"
   ]
  },
  {
   "cell_type": "code",
   "execution_count": 81,
   "id": "fe6b0795",
   "metadata": {},
   "outputs": [],
   "source": [
    "naame=driver.find_elements(By.XPATH,'//h3[@class=\"font130 mt0 mb10 mobilesblockdisplay \"]')\n",
    "for i in naame:\n",
    "    Names.append(i.text)"
   ]
  },
  {
   "cell_type": "code",
   "execution_count": 82,
   "id": "f5ba47b8",
   "metadata": {},
   "outputs": [
    {
     "data": {
      "text/plain": [
       "['Lenovo IdeaPad Gaming 3 82K200X3IN Ryzen 7-5800H (2022)',\n",
       " 'Dell New G15-5515 D560805WIN9W Ryzen 5-5600H (2022)',\n",
       " 'HP Pavilion Gaming 15-ec2145AX Ryzen 5-5600H (2022)',\n",
       " 'Lenovo IdeaPad Gaming 3 15ACH6 Ryzen 5-5600H (2021)']"
      ]
     },
     "execution_count": 82,
     "metadata": {},
     "output_type": "execute_result"
    }
   ],
   "source": [
    "Names "
   ]
  },
  {
   "cell_type": "code",
   "execution_count": 71,
   "id": "d2137817",
   "metadata": {},
   "outputs": [],
   "source": [
    "zoom=driver.find_elements(By.XPATH,'//span[@class=\"meta_v_value\"]')\n",
    "for i in zoom:\n",
    "    Specs.append(i.text)\n",
    "\n",
    "grouped_specs = [Specs[i:i+4] for i in range(0, len(Specs), 4)]"
   ]
  },
  {
   "cell_type": "code",
   "execution_count": 76,
   "id": "8593e1f4",
   "metadata": {
    "scrolled": true
   },
   "outputs": [],
   "source": [
    "specss = grouped_specs[:4]"
   ]
  },
  {
   "cell_type": "code",
   "execution_count": 85,
   "id": "16335c51",
   "metadata": {},
   "outputs": [
    {
     "data": {
      "text/html": [
       "<div>\n",
       "<style scoped>\n",
       "    .dataframe tbody tr th:only-of-type {\n",
       "        vertical-align: middle;\n",
       "    }\n",
       "\n",
       "    .dataframe tbody tr th {\n",
       "        vertical-align: top;\n",
       "    }\n",
       "\n",
       "    .dataframe thead th {\n",
       "        text-align: right;\n",
       "    }\n",
       "</style>\n",
       "<table border=\"1\" class=\"dataframe\">\n",
       "  <thead>\n",
       "    <tr style=\"text-align: right;\">\n",
       "      <th></th>\n",
       "      <th>Names</th>\n",
       "      <th>Specifications</th>\n",
       "    </tr>\n",
       "  </thead>\n",
       "  <tbody>\n",
       "    <tr>\n",
       "      <th>0</th>\n",
       "      <td>Lenovo IdeaPad Gaming 3 82K200X3IN Ryzen 7-580...</td>\n",
       "      <td>[Windows 11 Home, 15.6, 1920 x 1080, 5th Gen A...</td>\n",
       "    </tr>\n",
       "    <tr>\n",
       "      <th>1</th>\n",
       "      <td>Dell New G15-5515 D560805WIN9W Ryzen 5-5600H (...</td>\n",
       "      <td>[Windows 10, 15.6, 1920 x 1080, AMD Ryzen 5-56...</td>\n",
       "    </tr>\n",
       "    <tr>\n",
       "      <th>2</th>\n",
       "      <td>HP Pavilion Gaming 15-ec2145AX Ryzen 5-5600H (...</td>\n",
       "      <td>[Windows 11 Home, 15.6, 1920 x 1080, AMD Ryzen...</td>\n",
       "    </tr>\n",
       "    <tr>\n",
       "      <th>3</th>\n",
       "      <td>Lenovo IdeaPad Gaming 3 15ACH6 Ryzen 5-5600H (...</td>\n",
       "      <td>[Windows 11 Home, 15.6, 1920 x 1080, AMD Ryzen...</td>\n",
       "    </tr>\n",
       "  </tbody>\n",
       "</table>\n",
       "</div>"
      ],
      "text/plain": [
       "                                               Names  \\\n",
       "0  Lenovo IdeaPad Gaming 3 82K200X3IN Ryzen 7-580...   \n",
       "1  Dell New G15-5515 D560805WIN9W Ryzen 5-5600H (...   \n",
       "2  HP Pavilion Gaming 15-ec2145AX Ryzen 5-5600H (...   \n",
       "3  Lenovo IdeaPad Gaming 3 15ACH6 Ryzen 5-5600H (...   \n",
       "\n",
       "                                      Specifications  \n",
       "0  [Windows 11 Home, 15.6, 1920 x 1080, 5th Gen A...  \n",
       "1  [Windows 10, 15.6, 1920 x 1080, AMD Ryzen 5-56...  \n",
       "2  [Windows 11 Home, 15.6, 1920 x 1080, AMD Ryzen...  \n",
       "3  [Windows 11 Home, 15.6, 1920 x 1080, AMD Ryzen...  "
      ]
     },
     "execution_count": 85,
     "metadata": {},
     "output_type": "execute_result"
    }
   ],
   "source": [
    "datas=pd.DataFrame([])\n",
    "datas['Names'] = Names\n",
    "datas['Specifications'] = specss\n",
    "datas"
   ]
  },
  {
   "cell_type": "markdown",
   "id": "efde836b",
   "metadata": {},
   "source": [
    "QUESTION 7"
   ]
  },
  {
   "cell_type": "code",
   "execution_count": 1,
   "id": "674f8e59",
   "metadata": {},
   "outputs": [],
   "source": [
    "import selenium\n",
    "import pandas as pd\n",
    "from selenium import webdriver\n",
    "import warnings\n",
    "warnings.filterwarnings('ignore')\n",
    "from selenium.webdriver.common.by import By\n",
    "from selenium.webdriver.support.ui import WebDriverWait\n",
    "from selenium.webdriver.support import expected_conditions as EC"
   ]
  },
  {
   "cell_type": "code",
   "execution_count": 2,
   "id": "34d2ae10",
   "metadata": {},
   "outputs": [],
   "source": [
    "driver = webdriver.Chrome()"
   ]
  },
  {
   "cell_type": "code",
   "execution_count": 3,
   "id": "a5b63c5f",
   "metadata": {},
   "outputs": [],
   "source": [
    "driver.get(\"https://www.forbes.com/?sh=6cb281e72254\")"
   ]
  },
  {
   "cell_type": "code",
   "execution_count": 40,
   "id": "3c84a5a4",
   "metadata": {},
   "outputs": [],
   "source": [
    "press=driver.find_element(By.XPATH, \"/html/body/div[1]/div/div[1]/header/div[1]/div[1]/div\")\n",
    "press.click()"
   ]
  },
  {
   "cell_type": "code",
   "execution_count": 43,
   "id": "f54e1548",
   "metadata": {},
   "outputs": [],
   "source": [
    "press=driver.find_element(By.XPATH, \"/html/body/div[1]/div/div[1]/header/div[1]/div[1]/div[2]/ul/li[2]/div[1]\")\n",
    "press.click()"
   ]
  },
  {
   "cell_type": "code",
   "execution_count": 44,
   "id": "9fd80bc6",
   "metadata": {},
   "outputs": [],
   "source": [
    "press=driver.find_element(By.XPATH, \"/html/body/div[1]/div/div[1]/header/div[1]/div[1]/div[2]/ul/li[2]/div[2]/div[3]/ul/li[1]/a\")\n",
    "press.click()    "
   ]
  },
  {
   "cell_type": "code",
   "execution_count": 46,
   "id": "09e4b285",
   "metadata": {},
   "outputs": [],
   "source": [
    "kamikazes= []"
   ]
  },
  {
   "cell_type": "code",
   "execution_count": 47,
   "id": "465e1781",
   "metadata": {},
   "outputs": [],
   "source": [
    "hhh=driver.find_elements(By.XPATH,'//div[@class=\"Table_dataCell__2QCve\"]')\n",
    "for i in hhh:\n",
    "    kamikazes.append(i.text)"
   ]
  },
  {
   "cell_type": "code",
   "execution_count": 49,
   "id": "ab180025",
   "metadata": {
    "scrolled": true
   },
   "outputs": [
    {
     "data": {
      "text/plain": [
       "['Bernard Arnault & family',\n",
       " '74',\n",
       " 'LVMH',\n",
       " 'Fashion & Retail',\n",
       " 'Elon Musk',\n",
       " '51',\n",
       " 'Tesla, SpaceX',\n",
       " 'Automotive',\n",
       " 'Jeff Bezos',\n",
       " '59']"
      ]
     },
     "execution_count": 49,
     "metadata": {},
     "output_type": "execute_result"
    }
   ],
   "source": [
    "kamikazes[:10]"
   ]
  },
  {
   "cell_type": "code",
   "execution_count": 54,
   "id": "1d0f4cf3",
   "metadata": {},
   "outputs": [
    {
     "name": "stdout",
     "output_type": "stream",
     "text": [
      "['Bernard Arnault & family', '74', 'LVMH', 'Fashion & Retail']\n",
      "['Elon Musk', '51', 'Tesla, SpaceX', 'Automotive']\n",
      "['Jeff Bezos', '59', 'Amazon', 'Technology']\n",
      "['Larry Ellison', '78', 'Oracle', 'Technology']\n",
      "['Warren Buffett', '92', 'Berkshire Hathaway', 'Finance & Investments']\n",
      "['Bill Gates', '67', 'Microsoft', 'Technology']\n",
      "['Michael Bloomberg', '81', 'Bloomberg LP', 'Media & Entertainment']\n",
      "['Carlos Slim Helu & family', '83', 'Telecom', 'Telecom']\n",
      "['Mukesh Ambani', '65', 'Diversified', 'Diversified']\n",
      "['Steve Ballmer', '67', 'Microsoft', 'Technology']\n",
      "['Francoise Bettencourt Meyers & family', '69', \"L'Oréal\", 'Fashion & Retail']\n",
      "['Larry Page', '50', 'Google', 'Technology']\n",
      "['Amancio Ortega', '87', 'Zara', 'Fashion & Retail']\n",
      "['Sergey Brin', '49', 'Google', 'Technology']\n",
      "['Zhong Shanshan', '68', 'Beverages, pharmaceuticals', 'Food & Beverage']\n",
      "['Mark Zuckerberg', '38', 'Facebook', 'Technology']\n",
      "['Charles Koch & family', '87', 'Koch Industries', 'Diversified']\n",
      "['Julia Koch & family', '60', 'Koch Industries', 'Diversified']\n",
      "['Jim Walton', '74', 'Walmart', 'Fashion & Retail']\n",
      "['Rob Walton & family', '78', 'Walmart', 'Fashion & Retail']\n",
      "['Alice Walton', '73', 'Walmart', 'Fashion & Retail']\n",
      "['David Thomson & family', '65', 'Media', 'Media & Entertainment']\n",
      "['Michael Dell', '58', 'Dell Technologies', 'Technology']\n",
      "['Gautam Adani', '60', 'Infrastructure, commodities', 'Diversified']\n",
      "['Phil Knight & family', '85', 'Nike', 'Fashion & Retail']\n",
      "['Zhang Yiming', '39', 'TikTok', 'Technology']\n",
      "['Dieter Schwarz', '83', 'Retail', 'Fashion & Retail']\n",
      "['François Pinault & family', '86', 'Luxury goods', 'Fashion & Retail']\n",
      "['Klaus-Michael Kuehne', '85', 'Shipping', 'Logistics']\n",
      "['Giovanni Ferrero', '58', 'Nutella, chocolates', 'Food & Beverage']\n",
      "['Jacqueline Mars', '83', 'Candy, pet food', 'Food & Beverage']\n",
      "['John Mars', '87', 'Candy, pet food', 'Food & Beverage']\n",
      "['Li Ka-shing', '94', 'Diversified', 'Diversified']\n",
      "['Ma Huateng', '51', 'Internet media', 'Technology']\n",
      "['Miriam Adelson & family', '77', 'Casinos', 'Gambling & Casinos']\n",
      "['Ken Griffin', '54', 'Hedge funds', 'Finance & Investments']\n",
      "['Mark Mateschitz', '30', 'Red Bull', 'Food & Beverage']\n",
      "['Robin Zeng', '54', 'Batteries', 'Automotive']\n",
      "['Tadashi Yanai & family', '74', 'Fashion retail', 'Fashion & Retail']\n",
      "['Len Blavatnik', '65', 'Music, chemicals', 'Diversified']\n",
      "['Alain Wertheimer', '74', 'Chanel', 'Fashion & Retail']\n",
      "['Gerard Wertheimer', '72', 'Chanel', 'Fashion & Retail']\n",
      "['Gianluigi Aponte', '82', 'Shipping', 'Logistics']\n",
      "['Rafaela Aponte-Diamant', '78', 'Shipping', 'Logistics']\n",
      "['Colin Huang', '43', 'E-commerce', 'Technology']\n",
      "['Reinhold Wuerth & family', '87', 'Fasteners', 'Manufacturing']\n",
      "['Lee Shau Kee', '95', 'Real estate', 'Real Estate']\n",
      "['Jeff Yass', '64', 'Trading, investments', 'Finance & Investments']\n",
      "['Jim Simons', '84', 'Hedge funds', 'Finance & Investments']\n",
      "['Stephen Schwarzman', '76', 'Investments', 'Finance & Investments']\n",
      "['Susanne Klatten', '60', 'BMW, pharmaceuticals', 'Automotive']\n",
      "['Gina Rinehart', '69', 'Mining', 'Metals & Mining']\n",
      "['William Ding', '51', 'Online games', 'Technology']\n",
      "['Germán Larrea Mota Velasco & family', '69', 'Mining', 'Metals & Mining']\n",
      "['Shiv Nadar', '77', 'software services', 'Technology']\n",
      "['Low Tuck Kwong', '74', 'Coal', 'Energy']\n",
      "['Thomas Peterffy', '78', 'Discount brokerage', 'Finance & Investments']\n",
      "['Andrey Melnichenko & family', '51', 'Fertilizers, coal', 'Metals & Mining']\n",
      "['Stefan Quandt', '56', 'BMW', 'Automotive']\n",
      "['MacKenzie Scott', '52', 'Amazon', 'Technology']\n",
      "['R. Budi Hartono', '82', 'Banking, tobacco', 'Finance & Investments']\n",
      "['Vladimir Potanin', '62', 'Metals', 'Metals & Mining']\n",
      "['Jack Ma', '58', 'E-commerce', 'Technology']\n",
      "['He Xiangjian & family', '80', 'Home appliances', 'Manufacturing']\n",
      "['Iris Fontbona & family', '80', 'Mining', 'Metals & Mining']\n",
      "['Michael Hartono', '83', 'Banking, tobacco', 'Manufacturing']\n",
      "['James Ratcliffe', '70', 'Chemicals', 'Manufacturing']\n",
      "['Cyrus Poonawalla', '81', 'Vaccines', 'Healthcare']\n",
      "['Masayoshi Son', '65', 'Internet, telecom', 'Telecom']\n",
      "['Vladimir Lisin', '66', 'Steel, transport', 'Metals & Mining']\n",
      "['Emmanuel Besnier', '52', 'Cheese', 'Food & Beverage']\n",
      "['Abigail Johnson', '61', 'Fidelity', 'Finance & Investments']\n",
      "['Leonid Mikhelson & family', '67', 'Gas, chemicals', 'Energy']\n",
      "['Lukas Walton', '36', 'Walmart', 'Fashion & Retail']\n",
      "['Wang Wei', '52', 'Package delivery', 'Service']\n",
      "['Jensen Huang', '60', 'Semiconductors', 'Technology']\n",
      "['Leonard Lauder', '90', 'Estee Lauder', 'Fashion & Retail']\n",
      "['Takemitsu Takizaki', '77', 'Sensors', 'Manufacturing']\n",
      "['Alexey Mordashov & family', '57', 'Steel, investments', 'Metals & Mining']\n",
      "['Vagit Alekperov', '72', 'Oil', 'Energy']\n",
      "['Thomas Frist, Jr. & family', '84', 'Hospitals', 'Healthcare']\n",
      "['Andrew Forrest & family', '61', 'Mining', 'Metals & Mining']\n",
      "['Ray Dalio', '73', 'Hedge funds', 'Finance & Investments']\n",
      "['Eric Li', '59', 'Automobiles', 'Automotive']\n",
      "['Wang Wenyin', '55', 'Mining, copper products', 'Metals & Mining']\n",
      "['Eyal Ofer', '72', 'Real estate, shipping', 'Diversified']\n",
      "['Qin Yinglin', '57', 'Pig breeding', 'Food & Beverage']\n",
      "['Wang Chuanfu', '57', 'Batteries, automobiles', 'Automotive']\n",
      "['Harold Hamm & family', '77', 'Oil & gas', 'Energy']\n",
      "['David Tepper', '65', 'Hedge funds', 'Finance & Investments']\n",
      "['Gennady Timchenko', '70', 'Oil, gas', 'Energy']\n",
      "['Daniel Gilbert', '61', 'Quicken Loans', 'Finance & Investments']\n",
      "['Lakshmi Mittal', '72', 'Steel', 'Metals & Mining']\n",
      "['Steve Cohen', '66', 'Hedge funds', 'Finance & Investments']\n",
      "['Carl Icahn', '87', 'Investments', 'Finance & Investments']\n",
      "['Savitri Jindal & family', '73', 'Steel', 'Metals & Mining']\n",
      "['Donald Bren', '90', 'Real estate', 'Real Estate']\n",
      "['John Menard, Jr.', '83', 'Home improvement stores', 'Fashion & Retail']\n",
      "['Rupert Murdoch & family', '92', 'Newspapers, TV network', 'Media & Entertainment']\n",
      "['Vicky Safra & family', '70', 'Banking', 'Finance & Investments']\n",
      "['Theo Albrecht, Jr. & family', '72', \"Aldi, Trader Joe's\", 'Fashion & Retail']\n",
      "['Renata Kellnerova & family', '55', 'Finance, telecommunications', 'Finance & Investments']\n",
      "['Li Xiting', '72', 'medical devices', 'Healthcare']\n",
      "['Stefan Persson', '75', 'H&M', 'Fashion & Retail']\n",
      "['Eric Schmidt', '67', 'Google', 'Technology']\n",
      "['Michael Platt', '55', 'Hedge funds', 'Finance & Investments']\n",
      "['Pang Kang', '67', 'Soy sauce', 'Food & Beverage']\n",
      "['Karl Albrecht Jr. & family', 'N/A', 'Supermarkets', 'Fashion & Retail']\n",
      "['Beate Heister', 'N/A', 'Supermarkets', 'Fashion & Retail']\n",
      "['Jorge Paulo Lemann & family', '83', 'Beer', 'Food & Beverage']\n",
      "['Peter Woo', '76', 'Real estate', 'Real Estate']\n",
      "['Dilip Shanghvi', '67', 'Pharmaceuticals', 'Healthcare']\n",
      "['Robert Pera', '45', 'Wireless networking', 'Technology']\n",
      "['Radhakishan Damani', '68', 'Retail, investments', 'Fashion & Retail']\n",
      "['Huang Shilin', '56', 'Batteries', 'Automotive']\n",
      "['Dhanin Chearavanont', '83', 'Diversified', 'Diversified']\n",
      "['David Green & family', '81', 'Retail', 'Fashion & Retail']\n",
      "['Charoen Sirivadhanabhakdi', '78', 'Alcohol, real estate', 'Food & Beverage']\n",
      "['Charlene de Carvalho-Heineken & family', '68', 'Heineken', 'Food & Beverage']\n",
      "['Xu Hang', '60', 'Medical devices', 'Healthcare']\n",
      "['Wei Jianjun & family', '59', 'Automobiles', 'Automotive']\n",
      "['Alisher Usmanov', '69', 'Steel, telecom, investments', 'Metals & Mining']\n",
      "['Goh Cheng Liang', '95', 'Paints', 'Manufacturing']\n",
      "['Kumar Birla', '55', 'Commodities', 'Diversified']\n",
      "['Aliko Dangote', '65', 'Cement, sugar', 'Manufacturing']\n",
      "['Kwong Siu-hing', '93', 'Real estate', 'Real Estate']\n",
      "['Idan Ofer', '67', 'Shipping', 'Diversified']\n",
      "['Chen Bang', '57', 'Hospitals', 'Healthcare']\n",
      "['Lui Che Woo', '94', 'Casinos/hotels', 'Gambling & Casinos']\n",
      "['John Fredriksen', '78', 'Shipping', 'Logistics']\n",
      "['Diane Hendricks', '76', 'Building supplies', 'Construction & Engineering']\n",
      "['Jan Koum', '47', 'WhatsApp', 'Technology']\n",
      "['Jerry Jones', '80', 'Dallas Cowboys', 'Sports']\n",
      "['George Kaiser', '80', 'Oil & gas, banking', 'Energy']\n",
      "['Joseph Lau', '71', 'Real estate', 'Real Estate']\n",
      "['Lu Xiangyang', '60', 'Automobiles, batteries', 'Automotive']\n",
      "['Harry Triguboff', '90', 'Real estate', 'Real Estate']\n",
      "['Uday Kotak', '64', 'Banking', 'Finance & Investments']\n",
      "['Stanley Kroenke', '75', 'Sports, real estate', 'Sports']\n",
      "['Mikhail Fridman', '58', 'Oil, banking, telecom', 'Energy']\n",
      "['Sarath Ratanavadi', '57', 'Energy', 'Energy']\n",
      "['Dang Yanbao', '50', 'Coal', 'Metals & Mining']\n",
      "['Jiang Rensheng & family', '69', 'Vaccines', 'Healthcare']\n",
      "['Shahid Khan', '72', 'Auto parts', 'Automotive']\n",
      "['Laurene Powell Jobs & family', '59', 'Apple, Disney', 'Technology']\n",
      "['Robert Kuok', '99', 'Palm oil, shipping, property', 'Diversified']\n",
      "['Stephen Ross', '82', 'Real estate', 'Real Estate']\n",
      "['Pavel Durov', '38', 'Messaging app', 'Technology']\n",
      "['Andreas Struengmann & family', '73', 'Pharmaceuticals', 'Healthcare']\n",
      "['Thomas Struengmann & family', '73', 'Pharmaceuticals', 'Healthcare']\n",
      "['Liu Hanyuan', '59', 'Agribusiness', 'Food & Beverage']\n",
      "['Michael Rubin', '50', 'Online retail', 'Fashion & Retail']\n",
      "['Israel Englander', '74', 'Hedge funds', 'Finance & Investments']\n",
      "['Viatcheslav Kantor', '69', 'Fertilizer, real estate', 'Manufacturing']\n",
      "['Anthony Pratt', '62', 'Manufacturing', 'Manufacturing']\n",
      "['Mikhail Prokhorov', '57', 'Investments', 'Finance & Investments']\n",
      "['Giorgio Armani', '88', 'Luxury goods', 'Fashion & Retail']\n",
      "['Johann Rupert & family', '72', 'Luxury goods', 'Fashion & Retail']\n",
      "['Gong Hongjia & family', '58', 'Video surveillance', 'Finance & Investments']\n",
      "['Zhang Zhidong', '51', 'Internet media', 'Technology']\n",
      "['Philip Anschutz', '83', 'Energy, sports, entertainment', 'Finance & Investments']\n",
      "['Judy Love & family', '85', 'Gas stations', 'Fashion & Retail']\n",
      "['Ricardo Salinas Pliego & family', '67', 'Retail, media', 'Fashion & Retail']\n",
      "['Donald Newhouse', '93', 'Media', 'Media & Entertainment']\n",
      "['Robert Kraft', '81', 'Manufacturing, New England Patriots', 'Sports']\n",
      "['Marcel Herrmann Telles & family', '73', 'Beer', 'Food & Beverage']\n",
      "['Suleiman Kerimov & family', '57', 'Gold', 'Finance & Investments']\n",
      "['Sky Xu', '39', 'E-commerce', 'Fashion & Retail']\n",
      "['Changpeng Zhao', '45', 'Cryptocurrency exchange', 'Finance & Investments']\n",
      "['Andrew Beal', '70', 'Banks, real estate', 'Finance & Investments']\n",
      "['Mike Cannon-Brookes', '43', 'Software', 'Technology']\n",
      "['Carl Cook', '60', 'Medical devices', 'Healthcare']\n",
      "['David Duffield', '82', 'Business software', 'Technology']\n",
      "['Jeffery Hildebrand', '64', 'Oil', 'Energy']\n",
      "['Viktor Rashnikov', '74', 'Steel', 'Manufacturing']\n",
      "['Eduardo Saverin', '41', 'Facebook', 'Technology']\n",
      "['Georg Schaeffler', '58', 'Auto parts', 'Automotive']\n",
      "['Christy Walton', '74', 'Walmart', 'Fashion & Retail']\n",
      "['Scott Farquhar', '43', 'Software', 'Technology']\n",
      "['Quek Leng Chan', '81', 'Banking, property', 'Diversified']\n",
      "['Wu Yajun', '59', 'Real estate', 'Real Estate']\n",
      "['Autry Stephens', '85', 'Oil', 'Energy']\n",
      "['Liu Yongxing', '74', 'Diversified', 'Service']\n",
      "['Vinod Adani', '74', 'Infrastructure, commodities', 'Diversified']\n",
      "['Nicolas Puech', '80', 'Hermes', 'Fashion & Retail']\n",
      "['Jacques Saadé, Jr.', '51', 'Shipping', 'Logistics']\n",
      "['Rodolphe Saadé', '53', 'Shipping', 'Logistics']\n",
      "['Tanya Saadé Zeenny', '55', 'Shipping', 'Logistics']\n",
      "['Melker Schorling & family', '75', 'Investments', 'Finance & Investments']\n",
      "['Andrei Guryev & family', '63', 'Fertilizers', 'Manufacturing']\n",
      "['Michael Kim', '59', 'Private equity', 'Finance & Investments']\n",
      "['Lei Jun', '53', 'Smartphones', 'Technology']\n",
      "['Friedhelm Loh', '76', 'Manufacturing', 'Manufacturing']\n",
      "['Sun Piaoyang', '64', 'Pharmaceuticals', 'Healthcare']\n",
      "['Rick Cohen & family', '70', 'Warehouse automation', 'Technology']\n",
      "['Jin Baofang', '70', 'Solar panels', 'Energy']\n",
      "['Luo Liguo & family', '67', 'Chemicals', 'Manufacturing']\n",
      "['Marijke Mars', '58', 'Candy, pet food', 'Food & Beverage']\n",
      "['Pamela Mars', '62', 'Candy, pet food', 'Food & Beverage']\n",
      "['Valerie Mars', '64', 'Candy, pet food', 'Food & Beverage']\n"
     ]
    }
   ],
   "source": [
    "sublists = []\n",
    "\n",
    "for i in range(0, len(kamikazes), 4):\n",
    "    sublist = kamikazes[i:i+4]\n",
    "\n",
    "    sublists.append(sublist)\n",
    "\n",
    "for sublist in sublists:\n",
    "    print(sublist)"
   ]
  },
  {
   "cell_type": "markdown",
   "id": "abd3e8e9",
   "metadata": {},
   "source": [
    "QUESTION 8"
   ]
  },
  {
   "cell_type": "code",
   "execution_count": 61,
   "id": "bd3f7d47",
   "metadata": {},
   "outputs": [],
   "source": [
    "import selenium\n",
    "import pandas as pd\n",
    "from selenium import webdriver\n",
    "import warnings\n",
    "warnings.filterwarnings('ignore')\n",
    "from selenium.webdriver.common.by import By\n",
    "from selenium.webdriver.support.ui import WebDriverWait\n",
    "from selenium.webdriver.support import expected_conditions as EC\n",
    "import time"
   ]
  },
  {
   "cell_type": "code",
   "execution_count": 67,
   "id": "0023e4d9",
   "metadata": {},
   "outputs": [],
   "source": [
    "driver = webdriver.Chrome()"
   ]
  },
  {
   "cell_type": "code",
   "execution_count": 69,
   "id": "22e1dc77",
   "metadata": {},
   "outputs": [],
   "source": [
    "driver.get(\"https://www.youtube.com/watch?v=-FTNbqxCfhA\")"
   ]
  },
  {
   "cell_type": "code",
   "execution_count": 78,
   "id": "23c9f9dd",
   "metadata": {},
   "outputs": [],
   "source": [
    "scroll_pause_time = 1\n",
    "scrolls = 2\n",
    "\n",
    "for _ in range(scrolls):\n",
    "    scroll_pause_time = 1  \n",
    "    scrolls = 2 \n",
    "    \n",
    "for _ in range(scrolls):\n",
    "  driver.execute_script(\"window.scrollTo(0, document.documentElement.scrollHeight);\")\n",
    "  time.sleep(scroll_pause_time)"
   ]
  },
  {
   "cell_type": "code",
   "execution_count": 79,
   "id": "fa595839",
   "metadata": {},
   "outputs": [],
   "source": [
    "comments = driver.find_elements(By.XPATH,'//yt-formatted-string[@id=\"content-text\"]')\n",
    "upvotes = driver.find_elements(By.XPATH,'//span[@id=\"vote-count-middle\"]')\n",
    "times = driver.find_elements(By.XPATH,'//a[@class=\"yt-simple-endpoint style-scope yt-formatted-string\"]')"
   ]
  },
  {
   "cell_type": "code",
   "execution_count": 80,
   "id": "7b86221f",
   "metadata": {},
   "outputs": [],
   "source": [
    "extracted_data = []\n",
    "for comment, upvote, time in zip(comments, upvotes, times):\n",
    "  extracted_data.append({\n",
    "  'comment': comment.text,\n",
    "  'upvote': upvote.text,\n",
    "  'time': time.text\n",
    "  })"
   ]
  },
  {
   "cell_type": "code",
   "execution_count": 82,
   "id": "1ba3d33a",
   "metadata": {},
   "outputs": [
    {
     "name": "stdout",
     "output_type": "stream",
     "text": [
      "{'comment': 'To learn about this video, check out my explanation here: https://www.youtube.com/watch?v=kk5qdxDtcDM \\nOR if you have already seen it, follow my Twitter: https://twitter.com/TimeworksYT :)', 'upvote': '2.1K', 'time': 'Timeworks'}\n",
      "{'comment': 'Mom: Go to bed\\nKid: Just one more video?\\nMom: Ok let me choose\\nMom:', 'upvote': '6K', 'time': ''}\n",
      "{'comment': 'You got the record most fully watched video.', 'upvote': '614', 'time': ''}\n",
      "{'comment': 'I can literally make music if I just keep replaying it', 'upvote': '616', 'time': ''}\n",
      "{'comment': '0:00 intro\\n0:00 back story\\n0:00 main charcter to side charcs introduction\\n0:00 an tragic thing happend', 'upvote': '215', 'time': '3 years ago'}\n",
      "{'comment': 'Why would anyone dislike this, they litterly got what they clicked', 'upvote': '728', 'time': 'https://www.youtube.com/watch?v=kk5qdxDtcDM'}\n",
      "{'comment': '0:00 honestly changed my life.I’ve never seen something more wholesome I almost cried.this guy is so kind.he deserves a Oscar.this is the best video any human being have saw in there life.', 'upvote': '23', 'time': 'https://twitter.com/TimeworksYT'}\n",
      "{'comment': 'YouTube: \"You played copyrighted music in your video for way too long!\"\\n\\nThe part with the copyrighted music:', 'upvote': '942', 'time': '3 years ago'}\n",
      "{'comment': 'It’s even quicker if you set the playback speed to 2x', 'upvote': '837', 'time': '3 years ago'}\n",
      "{'comment': 'English teachers: this video is full of emotion, relatable moments, morals, and peace.', 'upvote': '467', 'time': '2 years ago'}\n",
      "{'comment': 'This video was so emotional and thought-out, and it almost made me cry.\\nSeriously, 0:00 was when the most epic cutscene played and I cannot describe how I felt that in words.', 'upvote': '118', 'time': '5 months ago'}\n",
      "{'comment': 'Art teachers be like: List ten things that express the elements and principles of design in this inspiring clip', 'upvote': '203', 'time': '0:00'}\n",
      "{'comment': 'How parents expect when we said \"Ok, let me watch 1 more short video before sleep \":', 'upvote': '2', 'time': '0:00'}\n",
      "{'comment': 'Imagine watching two unskippable ads just to hear “DUN”.', 'upvote': '611', 'time': '0:00'}\n",
      "{'comment': \"Its so fast that even the Red Dot couldn't keep up and glitched out\", 'upvote': '67', 'time': '0:00'}\n",
      "{'comment': 'Parents: “Okay you can have friends over.  Just don’t be too loud”\\nMe and my friends:\\nParents: Okay, that’s enough', 'upvote': '332', 'time': ''}\n",
      "{'comment': 'the videos less than second\\n\\nI got a 30 second unskipible ad', 'upvote': '2', 'time': ''}\n",
      "{'comment': '\"Shortest video on youtube\"\\nMylo the cat : Finally, a worthy opponents', 'upvote': '117', 'time': ''}\n",
      "{'comment': \"The fact that when I clicked in the video it didn't play anything and just showed the replay button makes this a masterpiece\", 'upvote': '1', 'time': '3 years ago'}\n",
      "{'comment': 'Even the bar at the bottom doesn’t like this', 'upvote': '309', 'time': '3 months ago (edited)'}\n",
      "{'comment': \"The 1 dislike is from Timeworks' humiliated uncle\", 'upvote': '83', 'time': '0:00'}\n",
      "{'comment': 'Normal person: So can someone dance for a very small amount of time but still dance like a god?\\nUncle Neil: So you challenge me...', 'upvote': '58', 'time': '3 years ago'}\n",
      "{'comment': \"i watched a 30 second ad for this, don't regret it at all\", 'upvote': '', 'time': '3 years ago'}\n",
      "{'comment': 'So epic\\nThe lyrics\\nThe quality\\nThe audio', 'upvote': '82', 'time': '3 years ago'}\n",
      "{'comment': 'I’ll just watch the rest tommorow', 'upvote': '2', 'time': '1 year ago'}\n",
      "{'comment': 'I wish YouTube ads were like this :(', 'upvote': '418', 'time': '0:00'}\n",
      "{'comment': 'Make a Long Version of this please.', 'upvote': '38', 'time': '3 years ago'}\n",
      "{'comment': \"I love how there's a delay before it reaches 1 second in mobile.\", 'upvote': '14', 'time': '3 months ago'}\n",
      "{'comment': 'I had watched ¼ of the video today, I will watch the rest by tommorow', 'upvote': '1', 'time': '3 years ago'}\n",
      "{'comment': 'I’m sorry, but I’ve got a busy schedule this week. Tests can be pretty stressful.\\nI’ll watch 1 frame today, and I’ll be sure to watch another frame next Wednesday.', 'upvote': '50', 'time': '3 years ago'}\n",
      "{'comment': 'Incredible work, i cant believe the quality of this video', 'upvote': '', 'time': '3 years ago'}\n",
      "{'comment': 'When there are still ads on a 1sec video\\n\\nDont worry its unlisted', 'upvote': '228', 'time': '2 months ago (edited)'}\n",
      "{'comment': 'This man’s watch time is admirable', 'upvote': '72', 'time': '2 years ago'}\n",
      "{'comment': 'Timeworks: Uploading the shortest video on YouTube\\nMe(intellectual): Thinking \"I AM GOING TO END THIS MAN\\'S WHOLE CAREER\" by doubling the speed', 'upvote': '131', 'time': '8 months ago'}\n",
      "{'comment': 'Ad: prepare for trouble ', 'upvote': '', 'time': '3 years ago'}\n",
      "{'comment': 'The best dancing performance of 2020 goes to......\\n\\n\\nOf course uncle Neill', 'upvote': '3', 'time': '3 years ago'}\n",
      "{'comment': 'I turned on loop so I get to watch this like a 1000 times, got yourself a 1000 views :D', 'upvote': '1', 'time': '3 years ago'}\n",
      "{'comment': 'WhO cAmE hErE fRoM tImEwoRks? \\nLol everyone did', 'upvote': '1.5K', 'time': '19 hours ago'}\n",
      "{'comment': 'It took me quite a while, but I managed to make a reaction video to this.', 'upvote': '8', 'time': '3 years ago'}\n",
      "{'comment': 'Wow, this is the one video on YouTube that people actually didn’t skip to the end on!', 'upvote': '19', 'time': '6 months ago'}\n",
      "{'comment': '\"Alright I\\'ll watch the rest tomorrow\"', 'upvote': '1', 'time': '3 years ago'}\n",
      "{'comment': 'fun fact:mylo the cat attempted this and it’s still a legend to this day', 'upvote': '12', 'time': '2 years ago'}\n",
      "{'comment': \"i looped it and now it looks like he's dancing to a song\", 'upvote': '1', 'time': '3 years ago (edited)'}\n",
      "{'comment': 'I wish YouTube ads were this short', 'upvote': '1.7K', 'time': '1 year ago'}\n",
      "{'comment': \"This is gonna get recommended randomly to people in 5 years and no one is gonna question it because it's less than 30 seconds.\", 'upvote': '6', 'time': '2 years ago'}\n",
      "{'comment': 'For reference, this is less than 1/3rd of a second long. He tried multiple times with varying numbers of frames the video lasted, and he got 9 frames as the lowest that YouTube could handle, or 9/30s of a second.', 'upvote': '36', 'time': '2 months ago'}\n",
      "{'comment': 'i put this on loop for no reason', 'upvote': '1', 'time': '3 years ago'}\n",
      "{'comment': 'This is the kind of video that will get recommended to everyone in a few years. If this video were a stock I would put all my money on it.', 'upvote': '40', 'time': '2 years ago'}\n",
      "{'comment': \"I love the start at 0:00, it introduces me to the epic story of this masterpiece, I also liked the 0:00, it has such epic emotions and the story continues. But the best part, at 0:00 is so good, i like the persons hand, and sun glasses were epic. It's masterpiece. But the ending at 0:00 is maybe even better. It ends this masterp8ece to emotional ending\", 'upvote': '2', 'time': '3 years ago'}\n",
      "{'comment': 'Imagine having a thirty second ad while watching this', 'upvote': '485', 'time': '3 months ago'}\n",
      "{'comment': 'this on 2x speed IS A MONEY MAKING MACHINE FOR TIMEWORKS', 'upvote': '8', 'time': '3 years ago'}\n",
      "{'comment': 'This video is still longer than my love life...', 'upvote': '24', 'time': '1 year ago'}\n",
      "{'comment': 'Ill watch the rest tomorrow.', 'upvote': '1', 'time': '3 years ago'}\n",
      "{'comment': 'I go back to this video every day to remind myself of how genius this heartwarming and wholesome video is.', 'upvote': '14', 'time': '3 years ago'}\n",
      "{'comment': 'Ah yes, a 30 second unskippable ad for a 0.30 second video.', 'upvote': '1', 'time': '3 years ago'}\n",
      "{'comment': 'This video: 30% of a second long\\nMy internet: This takes 30 secs', 'upvote': '247', 'time': '6 months ago'}\n",
      "{'comment': 'what a masterpiece exemtrelly underrated your getting a sub and like from me', 'upvote': '12', 'time': '2 years ago'}\n",
      "{'comment': 'If you go to 2x speed and keep on replaying it, he looks like he’s slapping the air', 'upvote': '3', 'time': '1 year ago'}\n",
      "{'comment': 'This was worth the 30 second unskipable ad', 'upvote': '', 'time': '3 years ago'}\n",
      "{'comment': 'It’s kind of satisfying when you play of and over again', 'upvote': '2', 'time': '3 years ago'}\n",
      "{'comment': 'Mom: time for bed\\nMe: one more video plssss\\nMom: okay but let me choose the video \\nThe video:', 'upvote': '1', 'time': '3 years ago'}\n",
      "{'comment': 'Lyrics:\\n\\n“DUN”', 'upvote': '231', 'time': '7 months ago'}\n",
      "{'comment': \"I'm shedding a tear, this is so inspirational and heart warming\", 'upvote': '3', 'time': '3 years ago'}\n",
      "{'comment': 'I enjoyed every second of it', 'upvote': '3', 'time': '6 months ago'}\n",
      "{'comment': 'If u can pause this video before it ends, u have mastered the art of living.....', 'upvote': '1', 'time': '0:00'}\n",
      "{'comment': 'so many emotions in such a short amount of time', 'upvote': '1', 'time': '0:00'}\n",
      "{'comment': 'imagine getting a 30 sec add which cannot be skipped for this video ', 'upvote': '1', 'time': '0:00'}\n",
      "{'comment': \"Parents: you can have a party.\\nParents 30% of a second later: aight party's over.\\n\\nEdit: you can change the worlds speed and put it at 0.25\", 'upvote': '550', 'time': '0:00'}\n",
      "{'comment': 'i was finally able to get this on loop', 'upvote': '1', 'time': '3 years ago'}\n",
      "{'comment': 'This video is the compilation of the amount of times skeppy won against technoblade', 'upvote': '4', 'time': '2 years ago'}\n",
      "{'comment': 'This was definitely worth the 15 sec unskipable ad', 'upvote': '', 'time': '3 years ago'}\n",
      "{'comment': 'finally a video I can watch without blinking', 'upvote': '1', 'time': '6 months ago'}\n",
      "{'comment': 'I got tired halfway through so I’ll pause it and watch the rest tomorrow', 'upvote': '', 'time': '2 years ago'}\n",
      "{'comment': '“Roses are red”\\n“Violets are blue” \\n“It’s less than a second”\\n“I’ll give it a view”', 'upvote': '506', 'time': '2 months ago'}\n",
      "{'comment': \"I love how Youtube's system doesn't technically let the video end until it hits one second. The majority of that second is legit just Youtube's system rounding up any extra fraction if a second\", 'upvote': '6', 'time': '3 years ago'}\n",
      "{'comment': 'Keep up the good work this is quality content', 'upvote': '1', 'time': '3 years ago'}\n",
      "{'comment': 'Guiness World Records: \\n\"The shortest Video on YouTube ever\".\\n\\nI just can do that all day lmao', 'upvote': '', 'time': '3 years ago'}\n",
      "{'comment': 'this video represents how long we want school to be... but it cant ever be this short :(', 'upvote': '6', 'time': '7 months ago'}\n",
      "{'comment': 'i just turned on loop', 'upvote': '1', 'time': '3 years ago'}\n",
      "{'comment': 'Me: goes to the bathroom while the commercials go.\\nThe commercials:', 'upvote': '329', 'time': '1 year ago'}\n",
      "{'comment': \"I'm using this to play my song on loop\\n.....\\nTHANK YOU.\", 'upvote': '1', 'time': '3 years ago'}\n",
      "{'comment': 'im rewatching this 24/7 on loop', 'upvote': '1', 'time': '3 years ago'}\n",
      "{'comment': 'I’ll watch the rest tomorrow.', 'upvote': '1', 'time': '2 years ago'}\n",
      "{'comment': 'He had us in the first half ngl', 'upvote': '1', 'time': '1 year ago'}\n",
      "{'comment': 'Fun fact: Even though this video is 30% of a sec, you spent more than 30 sec here', 'upvote': '2.1K', 'time': '3 years ago'}\n",
      "{'comment': 'that moment of happiness after rewatching it many times and you pause it', 'upvote': '', 'time': '1 year ago'}\n",
      "{'comment': \"Best vid I've ever seen and with so much hard work keep up the good work\", 'upvote': '', 'time': '3 years ago (edited)'}\n",
      "{'comment': \"put it on loop, I'm vibing\", 'upvote': '', 'time': '3 years ago'}\n",
      "{'comment': 'This is best video ever no adds and literally nothing.', 'upvote': '1', 'time': '2 years ago'}\n",
      "{'comment': \"Had to pause half way through, I'll finish this later.\", 'upvote': '', 'time': '11 months ago'}\n",
      "{'comment': 'Don’t lie, you’ve watched this more than one time :)', 'upvote': '360', 'time': '2 years ago'}\n",
      "{'comment': 'Keep on the good work and good videos like this one ', 'upvote': '1', 'time': '3 months ago'}\n",
      "{'comment': 'This would also hold the record for the most replayed video on youtube', 'upvote': '3', 'time': '3 years ago'}\n",
      "{'comment': 'That was totally worth the simply piano ad ', 'upvote': '1', 'time': '3 years ago'}\n",
      "{'comment': 'Uncle got moves', 'upvote': '1', 'time': '3 years ago'}\n",
      "{'comment': 'And i have watched two unskipable ads for this video ', 'upvote': '2', 'time': '7 months ago'}\n",
      "{'comment': 'Is that a challenge?', 'upvote': '3.2K', 'time': '3 years ago'}\n",
      "{'comment': 'This is the best, most good quality ever! You kept me watching the entire time.', 'upvote': '', 'time': '6 months ago'}\n",
      "{'comment': 'This is a certified hood classic', 'upvote': '1', 'time': '3 years ago'}\n",
      "{'comment': 'The loop effect is perfect at this one', 'upvote': '', 'time': '3 years ago'}\n",
      "{'comment': 'Such a powerful statement ', 'upvote': '1', 'time': '3 years ago'}\n",
      "{'comment': 'i reccomend putting this on loop', 'upvote': '', 'time': '8 months ago'}\n",
      "{'comment': 'The red line doesn’t even go all the way to the end', 'upvote': '400', 'time': '2 years ago'}\n",
      "{'comment': '@Timeworks keep up the great videos', 'upvote': '', 'time': '3 years ago'}\n",
      "{'comment': \"This is so good. I've listened to it a thousand times\", 'upvote': '', 'time': '3 years ago'}\n",
      "{'comment': 'I’ll watch the rest tomorrow', 'upvote': '1', 'time': '3 years ago'}\n",
      "{'comment': 'Never expected this to be the shortest video now to see him repeat this for longest video', 'upvote': '1', 'time': '2 months ago'}\n",
      "{'comment': 'I’ll probably watch the rest tomorrow', 'upvote': '1', 'time': '2 years ago'}\n",
      "{'comment': '“Don’t blink guys or it will end”', 'upvote': '511', 'time': '1 month ago'}\n",
      "{'comment': 'You come up with the most interesting stuff', 'upvote': '1', 'time': '3 years ago'}\n",
      "{'comment': 'Amazing content, deserves a sponsor', 'upvote': '', 'time': '3 years ago'}\n",
      "{'comment': 'Loop + 2x speed: bro is gonna become rush e', 'upvote': '1', 'time': '3 years ago'}\n",
      "{'comment': 'Now this is the content I subscribed for.', 'upvote': '', 'time': '1 year ago'}\n",
      "{'comment': 'The 1 hour ad was worth it', 'upvote': '', 'time': '3 years ago'}\n",
      "{'comment': 'See you in 5 years when this will gonna be on everyone recommended', 'upvote': '399', 'time': '1 year ago'}\n",
      "{'comment': 'This is such a cool video my favorite part is when the guy is dancing for 30% of a second!!', 'upvote': '', 'time': '3 years ago'}\n",
      "{'comment': 'Save it to a playlist and have it on loop', 'upvote': '', 'time': '3 years ago'}\n",
      "{'comment': 'Thw Video ended even faster than my dad vanishing from the house for the milk ', 'upvote': '1', 'time': '3 years ago'}\n",
      "{'comment': 'i put it on loop. \\n\\nits a bop', 'upvote': '', 'time': '1 year ago'}\n",
      "{'comment': 'I’ll watch the rest of it tomorrow.', 'upvote': '', 'time': '3 years ago'}\n"
     ]
    }
   ],
   "source": [
    "for x in extracted_data:\n",
    "  print(x)"
   ]
  },
  {
   "cell_type": "markdown",
   "id": "3beae0e3",
   "metadata": {},
   "source": [
    "QUESTION 9"
   ]
  },
  {
   "cell_type": "code",
   "execution_count": 88,
   "id": "5531c44c",
   "metadata": {},
   "outputs": [],
   "source": [
    "import selenium\n",
    "import pandas as pd\n",
    "from selenium import webdriver\n",
    "import warnings\n",
    "warnings.filterwarnings('ignore')\n",
    "from selenium.webdriver.common.by import By\n",
    "from selenium.webdriver.support.ui import WebDriverWait\n",
    "from selenium.webdriver.support import expected_conditions as EC\n",
    "import time"
   ]
  },
  {
   "cell_type": "code",
   "execution_count": 109,
   "id": "9a06246e",
   "metadata": {},
   "outputs": [],
   "source": [
    "driver = webdriver.Chrome()"
   ]
  },
  {
   "cell_type": "code",
   "execution_count": 110,
   "id": "64a61a74",
   "metadata": {},
   "outputs": [],
   "source": [
    "driver.get(\"https://www.hostelworld.com/hostels/London\")   "
   ]
  },
  {
   "cell_type": "code",
   "execution_count": 116,
   "id": "38d18bd3",
   "metadata": {},
   "outputs": [],
   "source": [
    "press=driver.find_element(By.XPATH, \"/html/body/div[3]/div/div/div[3]/header/div[2]/div[2]/div[1]/div[2]/div/div[2]/div/div[5]/button[1]\")\n",
    "press.click()"
   ]
  },
  {
   "cell_type": "code",
   "execution_count": 120,
   "id": "5e3ca548",
   "metadata": {},
   "outputs": [],
   "source": [
    "extracted_data=[]"
   ]
  },
  {
   "cell_type": "code",
   "execution_count": 121,
   "id": "df8e5627",
   "metadata": {},
   "outputs": [],
   "source": [
    "black=driver.find_elements(By.XPATH,'//span[@data-v-774cba8c]')\n",
    "for i in black:\n",
    "    extracted_data.append(i.text)"
   ]
  },
  {
   "cell_type": "code",
   "execution_count": 122,
   "id": "6efbc297",
   "metadata": {},
   "outputs": [
    {
     "data": {
      "text/plain": [
       "[\"Wombat's City Hostel London\",\n",
       " 'Hostel',\n",
       " '- 3.6km from city centre',\n",
       " '',\n",
       " '₹16,555',\n",
       " '₹3,361',\n",
       " 'Palmers Lodge - Swiss Cottage',\n",
       " 'Hostel',\n",
       " '- 6.5km from city centre',\n",
       " '',\n",
       " '₹2,987',\n",
       " \"St Christopher's Village\",\n",
       " 'Hostel',\n",
       " '- 1.8km from city centre',\n",
       " '',\n",
       " '₹1,617',\n",
       " 'NX London Hostel',\n",
       " 'Hostel',\n",
       " '- 6.1km from city centre',\n",
       " '',\n",
       " '',\n",
       " '₹8,363',\n",
       " '₹1,939',\n",
       " 'Urbany Hostel London',\n",
       " 'Hostel',\n",
       " '- 5.4km from city centre',\n",
       " '',\n",
       " 'Onefam Notting Hill',\n",
       " 'Hostel',\n",
       " '- 5.5km from city centre',\n",
       " '',\n",
       " 'Generator London',\n",
       " 'Hostel',\n",
       " '- 3km from city centre',\n",
       " '',\n",
       " 'Onefam Waterloo',\n",
       " 'Hostel',\n",
       " '- 0.7km from city centre',\n",
       " '',\n",
       " 'Astor Hyde Park',\n",
       " 'Hostel',\n",
       " '- 4.3km from city centre',\n",
       " '',\n",
       " '₹2,459',\n",
       " 'Safestay London Elephant & Castle',\n",
       " 'Hostel',\n",
       " '- 1.7km from city centre',\n",
       " '',\n",
       " 'Astor Museum Inn',\n",
       " 'Hostel',\n",
       " '- 2.2km from city centre',\n",
       " '',\n",
       " 'No.8 Seven Sisters',\n",
       " 'Hostel',\n",
       " '- 9km from city centre',\n",
       " '',\n",
       " 'No.8 Willesden Hostel London',\n",
       " 'Hostel',\n",
       " '- 10km from city centre',\n",
       " '',\n",
       " 'Clink261',\n",
       " 'Hostel',\n",
       " '- 3.2km from city centre',\n",
       " '',\n",
       " 'Smart Russell Square Hostel',\n",
       " 'Hostel',\n",
       " '- 2.6km from city centre',\n",
       " '',\n",
       " 'Safestay London Kensington Holland Park',\n",
       " 'Hostel',\n",
       " '- 5.8km from city centre',\n",
       " '',\n",
       " 'Smart Hyde Park Inn Hostel',\n",
       " 'Hostel',\n",
       " '- 5km from city centre',\n",
       " '',\n",
       " 'Destinations Hostels @ The Gallery',\n",
       " 'Hostel',\n",
       " '- 1.7km from city centre',\n",
       " '',\n",
       " '',\n",
       " 'Queen Elizabeth Chelsea',\n",
       " 'Hostel',\n",
       " '- 5.7km from city centre',\n",
       " '',\n",
       " 'Hostelle - women only hostel London',\n",
       " 'Hostel',\n",
       " '- 5.1km from city centre',\n",
       " '',\n",
       " 'Prime Backpackers Angel',\n",
       " 'Hostel',\n",
       " '- 3.6km from city centre',\n",
       " '',\n",
       " 'Kabannas London St Pancras',\n",
       " 'Hostel',\n",
       " '- 3.3km from city centre',\n",
       " '',\n",
       " '₹13,868',\n",
       " '₹2,934',\n",
       " 'London Backpackers',\n",
       " 'Hostel',\n",
       " '- 11.9km from city centre',\n",
       " '',\n",
       " 'Astor Kensington',\n",
       " 'Hostel',\n",
       " '- 4.9km from city centre',\n",
       " '',\n",
       " '₹1,258',\n",
       " \"St Christopher's Hammersmith\",\n",
       " 'Hostel',\n",
       " '- 7.5km from city centre',\n",
       " '',\n",
       " '₹1,338',\n",
       " 'Astor Victoria',\n",
       " 'Hostel',\n",
       " '- 1.8km from city centre',\n",
       " '',\n",
       " 'Phoenix Hostel',\n",
       " 'Hostel',\n",
       " '- 4.2km from city centre',\n",
       " '',\n",
       " '₹1,277',\n",
       " \"St Christopher's Camden\",\n",
       " 'Hostel',\n",
       " '- 4.3km from city centre',\n",
       " '',\n",
       " '₹1,617',\n",
       " \"St Christopher's Shepherds Bush\",\n",
       " 'Hostel',\n",
       " '- 7km from city centre',\n",
       " '',\n",
       " '₹1,462',\n",
       " 'YHA London St Pauls',\n",
       " 'Hostel',\n",
       " '- 1.9km from city centre',\n",
       " '']"
      ]
     },
     "execution_count": 122,
     "metadata": {},
     "output_type": "execute_result"
    }
   ],
   "source": [
    "extracted_data"
   ]
  },
  {
   "cell_type": "code",
   "execution_count": 123,
   "id": "51646661",
   "metadata": {},
   "outputs": [],
   "source": [
    "ratings=[]"
   ]
  },
  {
   "cell_type": "code",
   "execution_count": 124,
   "id": "e2d888a2",
   "metadata": {},
   "outputs": [],
   "source": [
    "rate=driver.find_elements(By.XPATH,'//span[@data-v-698ad76a]')\n",
    "for i in rate:\n",
    "    ratings.append(i.text)"
   ]
  },
  {
   "cell_type": "code",
   "execution_count": 125,
   "id": "5a8416cd",
   "metadata": {},
   "outputs": [
    {
     "data": {
      "text/plain": [
       "['9.1',\n",
       " 'Superb',\n",
       " '8.8',\n",
       " 'Fabulous',\n",
       " '7.8',\n",
       " 'Very Good',\n",
       " '9.1',\n",
       " 'Superb',\n",
       " '(15905)',\n",
       " '8.8',\n",
       " 'Fabulous',\n",
       " '(15977)',\n",
       " '7.8',\n",
       " 'Very Good',\n",
       " '(12873)',\n",
       " '8.9',\n",
       " 'Fabulous',\n",
       " '(2150)',\n",
       " '9.5',\n",
       " 'Superb',\n",
       " '(1125)',\n",
       " '9.6',\n",
       " 'Superb',\n",
       " '(2594)',\n",
       " '7.5',\n",
       " 'Very Good',\n",
       " '(8082)',\n",
       " '9.6',\n",
       " 'Superb',\n",
       " '(138)',\n",
       " '8.2',\n",
       " 'Fabulous',\n",
       " '(12327)',\n",
       " '7.2',\n",
       " 'Very Good',\n",
       " '(5279)',\n",
       " '8.3',\n",
       " 'Fabulous',\n",
       " '(9455)',\n",
       " '7.7',\n",
       " 'Very Good',\n",
       " '(4179)',\n",
       " '7.2',\n",
       " 'Very Good',\n",
       " '(5201)',\n",
       " '7.9',\n",
       " 'Very Good',\n",
       " '(515)',\n",
       " '7.6',\n",
       " 'Very Good',\n",
       " '(10210)',\n",
       " '7.0',\n",
       " 'Very Good',\n",
       " '(1783)',\n",
       " '7.8',\n",
       " 'Very Good',\n",
       " '(6801)',\n",
       " '9.1',\n",
       " 'Superb',\n",
       " '(318)',\n",
       " '7.5',\n",
       " 'Very Good',\n",
       " '(3687)',\n",
       " '8.8',\n",
       " 'Fabulous',\n",
       " '(116)',\n",
       " '8.5',\n",
       " 'Fabulous',\n",
       " '(871)',\n",
       " '8.2',\n",
       " 'Fabulous',\n",
       " '(2977)',\n",
       " '8.1',\n",
       " 'Fabulous',\n",
       " '(4568)',\n",
       " '8.6',\n",
       " 'Fabulous',\n",
       " '(6595)',\n",
       " '7.6',\n",
       " 'Very Good',\n",
       " '(4389)',\n",
       " '7.2',\n",
       " 'Very Good',\n",
       " '(15099)',\n",
       " '6.3',\n",
       " 'Good',\n",
       " '(4624)',\n",
       " '7.3',\n",
       " 'Very Good',\n",
       " '(4135)',\n",
       " '7.5',\n",
       " 'Very Good',\n",
       " '(835)',\n",
       " '8.9',\n",
       " 'Fabulous',\n",
       " '(2115)']"
      ]
     },
     "execution_count": 125,
     "metadata": {},
     "output_type": "execute_result"
    }
   ],
   "source": [
    "ratings"
   ]
  },
  {
   "cell_type": "code",
   "execution_count": null,
   "id": "40703810",
   "metadata": {},
   "outputs": [],
   "source": []
  },
  {
   "cell_type": "code",
   "execution_count": null,
   "id": "18891d5d",
   "metadata": {},
   "outputs": [],
   "source": []
  }
 ],
 "metadata": {
  "kernelspec": {
   "display_name": "Python 3 (ipykernel)",
   "language": "python",
   "name": "python3"
  },
  "language_info": {
   "codemirror_mode": {
    "name": "ipython",
    "version": 3
   },
   "file_extension": ".py",
   "mimetype": "text/x-python",
   "name": "python",
   "nbconvert_exporter": "python",
   "pygments_lexer": "ipython3",
   "version": "3.11.3"
  }
 },
 "nbformat": 4,
 "nbformat_minor": 5
}

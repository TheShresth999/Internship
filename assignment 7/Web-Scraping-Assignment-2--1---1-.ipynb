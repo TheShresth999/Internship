{
 "cells": [
  {
   "cell_type": "code",
   "execution_count": 2,
   "id": "1a098be9",
   "metadata": {},
   "outputs": [
    {
     "name": "stdout",
     "output_type": "stream",
     "text": [
      "Requirement already satisfied: selenium in c:\\users\\hp\\anaconda3\\lib\\site-packages (4.16.0)\n",
      "Requirement already satisfied: urllib3[socks]<3,>=1.26 in c:\\users\\hp\\anaconda3\\lib\\site-packages (from selenium) (1.26.16)\n",
      "Requirement already satisfied: trio~=0.17 in c:\\users\\hp\\anaconda3\\lib\\site-packages (from selenium) (0.24.0)\n",
      "Requirement already satisfied: trio-websocket~=0.9 in c:\\users\\hp\\anaconda3\\lib\\site-packages (from selenium) (0.11.1)\n",
      "Requirement already satisfied: certifi>=2021.10.8 in c:\\users\\hp\\anaconda3\\lib\\site-packages (from selenium) (2023.7.22)\n",
      "Requirement already satisfied: attrs>=20.1.0 in c:\\users\\hp\\anaconda3\\lib\\site-packages (from trio~=0.17->selenium) (22.1.0)\n",
      "Requirement already satisfied: sortedcontainers in c:\\users\\hp\\anaconda3\\lib\\site-packages (from trio~=0.17->selenium) (2.4.0)\n",
      "Requirement already satisfied: idna in c:\\users\\hp\\anaconda3\\lib\\site-packages (from trio~=0.17->selenium) (3.4)\n",
      "Requirement already satisfied: outcome in c:\\users\\hp\\anaconda3\\lib\\site-packages (from trio~=0.17->selenium) (1.3.0.post0)\n",
      "Requirement already satisfied: sniffio>=1.3.0 in c:\\users\\hp\\anaconda3\\lib\\site-packages (from trio~=0.17->selenium) (1.3.0)\n",
      "Requirement already satisfied: cffi>=1.14 in c:\\users\\hp\\anaconda3\\lib\\site-packages (from trio~=0.17->selenium) (1.15.1)\n",
      "Requirement already satisfied: wsproto>=0.14 in c:\\users\\hp\\anaconda3\\lib\\site-packages (from trio-websocket~=0.9->selenium) (1.2.0)\n",
      "Requirement already satisfied: PySocks!=1.5.7,<2.0,>=1.5.6 in c:\\users\\hp\\anaconda3\\lib\\site-packages (from urllib3[socks]<3,>=1.26->selenium) (1.7.1)\n",
      "Requirement already satisfied: pycparser in c:\\users\\hp\\anaconda3\\lib\\site-packages (from cffi>=1.14->trio~=0.17->selenium) (2.21)\n",
      "Requirement already satisfied: h11<1,>=0.9.0 in c:\\users\\hp\\anaconda3\\lib\\site-packages (from wsproto>=0.14->trio-websocket~=0.9->selenium) (0.14.0)\n"
     ]
    }
   ],
   "source": [
    "! pip install selenium"
   ]
  },
  {
   "cell_type": "code",
   "execution_count": 63,
   "id": "3711c763",
   "metadata": {},
   "outputs": [],
   "source": [
    "import selenium\n",
    "import pandas as pd\n",
    "from selenium import webdriver\n",
    "import warnings\n",
    "warnings.filterwarnings('ignore')\n",
    "from selenium.webdriver.common.by import By\n",
    "import time"
   ]
  },
  {
   "cell_type": "markdown",
   "id": "ac8c85e5",
   "metadata": {},
   "source": [
    "# QUESTION 1"
   ]
  },
  {
   "cell_type": "code",
   "execution_count": 4,
   "id": "1d7688e5",
   "metadata": {},
   "outputs": [],
   "source": [
    "driver = webdriver.Chrome()"
   ]
  },
  {
   "cell_type": "code",
   "execution_count": 5,
   "id": "4d61faf5",
   "metadata": {},
   "outputs": [],
   "source": [
    "driver.get(\"https://www.shine.com/\")"
   ]
  },
  {
   "cell_type": "code",
   "execution_count": 6,
   "id": "918a2a31",
   "metadata": {},
   "outputs": [],
   "source": [
    "search=driver.find_element(By.CLASS_NAME, \"input\")\n",
    "search.click()"
   ]
  },
  {
   "cell_type": "code",
   "execution_count": 7,
   "id": "04e5bfd8",
   "metadata": {},
   "outputs": [],
   "source": [
    "designation=driver.find_element(By.CLASS_NAME, \"form-control  \")\n",
    "designation.send_keys('Data Analyst')"
   ]
  },
  {
   "cell_type": "code",
   "execution_count": 8,
   "id": "ed4fc8ca",
   "metadata": {},
   "outputs": [],
   "source": [
    "location=driver.find_element(By.XPATH,\"/html/body/div/div[4]/div/div[2]/div[2]/div/form/div/div[1]/ul/li[2]/div/input\")\n",
    "location.send_keys('Bangalore')"
   ]
  },
  {
   "cell_type": "code",
   "execution_count": 9,
   "id": "04a0d164",
   "metadata": {},
   "outputs": [],
   "source": [
    "Click=driver.find_element(By.XPATH, \"/html/body/div/div[4]/div/div[2]/div[2]/div[1]/form/div/div[2]/div/button \")\n",
    "Click.click()"
   ]
  },
  {
   "cell_type": "code",
   "execution_count": 48,
   "id": "09f6b0d6",
   "metadata": {},
   "outputs": [],
   "source": [
    "job_title=[]\n",
    "Orgs=[]\n",
    "exp_req=[]\n",
    "job_location=[]"
   ]
  },
  {
   "cell_type": "code",
   "execution_count": 49,
   "id": "ebf470bc",
   "metadata": {},
   "outputs": [],
   "source": [
    "title_tags=driver.find_elements(By.XPATH,'//h2[@itemprop=\"name\"]')\n",
    "for i in title_tags:\n",
    "    title=i.text\n",
    "    job_title.append(title)\n",
    "\n",
    "jobs=job_title[:10]"
   ]
  },
  {
   "cell_type": "code",
   "execution_count": 50,
   "id": "c7e82359",
   "metadata": {},
   "outputs": [
    {
     "data": {
      "text/plain": [
       "['Lead Data Analyst',\n",
       " 'Data Analyst',\n",
       " 'Vacancy For Data Analyst',\n",
       " 'Clinical Data Analyst',\n",
       " 'Data Modeler data',\n",
       " 'Data Modeller',\n",
       " 'Data Modeler Bangalore',\n",
       " 'Data Modeler',\n",
       " 'Clinical Data Analyst',\n",
       " 'Data Analyst Hiring Fresher and Experience']"
      ]
     },
     "execution_count": 50,
     "metadata": {},
     "output_type": "execute_result"
    }
   ],
   "source": [
    "jobs          #top 10 job offers"
   ]
  },
  {
   "cell_type": "code",
   "execution_count": 51,
   "id": "85a35a33",
   "metadata": {},
   "outputs": [],
   "source": [
    "org_tags=driver.find_elements(By.XPATH,'//div[@class=\"jobCard_jobCard_cName__mYnow\"]')\n",
    "for i in org_tags:\n",
    "    org=i.text\n",
    "    Orgs.append(org)\n",
    "    \n",
    "company=Orgs[:10]"
   ]
  },
  {
   "cell_type": "code",
   "execution_count": 52,
   "id": "9bee05cb",
   "metadata": {},
   "outputs": [
    {
     "data": {
      "text/plain": [
       "['ara resources private limited',\n",
       " 'diraa hr services hiring for mncs',\n",
       " 'yogita staffing solution',\n",
       " 'techno endura',\n",
       " 'boyen haddin consulting and technol...',\n",
       " 'boyen haddin consulting and technol...',\n",
       " 'boyen haddin consulting and technol...',\n",
       " 'boyen haddin consulting and technol...',\n",
       " 'quiscon biotech',\n",
       " 'kavya interprises']"
      ]
     },
     "execution_count": 52,
     "metadata": {},
     "output_type": "execute_result"
    }
   ],
   "source": [
    "company      #top 10 companies offering"
   ]
  },
  {
   "cell_type": "code",
   "execution_count": 54,
   "id": "21e0b124",
   "metadata": {},
   "outputs": [],
   "source": [
    "xp_tags=driver.find_elements(By.XPATH,'//div[@class=\" jobCard_jobCard_lists_item__YxRkV jobCard_jobIcon__3FB1t\"]')\n",
    "for i in xp_tags:\n",
    "    a=i.text\n",
    "    exp_req.append(a)\n",
    "\n",
    "experience=exp_req[:10]"
   ]
  },
  {
   "cell_type": "code",
   "execution_count": 56,
   "id": "c14a2f24",
   "metadata": {},
   "outputs": [
    {
     "data": {
      "text/plain": [
       "['4 to 9 Yrs',\n",
       " '0 to 1 Yr',\n",
       " '0 to 3 Yrs',\n",
       " '0 to 1 Yr',\n",
       " '3 to 6 Yrs',\n",
       " '3 to 6 Yrs',\n",
       " '3 to 6 Yrs',\n",
       " '3 to 6 Yrs',\n",
       " '0 to 2 Yrs',\n",
       " '0 to 4 Yrs']"
      ]
     },
     "execution_count": 56,
     "metadata": {},
     "output_type": "execute_result"
    }
   ],
   "source": [
    "experience         #experience required"
   ]
  },
  {
   "cell_type": "code",
   "execution_count": 58,
   "id": "a364ae5e",
   "metadata": {},
   "outputs": [],
   "source": [
    "loc=driver.find_elements(By.XPATH,'//div[@class=\" jobCard_jobCard_lists_item__YxRkV jobCard_locationIcon__zrWt2\"]')\n",
    "for i in loc:\n",
    "    b=i.text\n",
    "    job_location.append(b)\n",
    "\n",
    "location=job_location[:10]"
   ]
  },
  {
   "cell_type": "code",
   "execution_count": 60,
   "id": "9c079150",
   "metadata": {},
   "outputs": [
    {
     "data": {
      "text/plain": [
       "['Bangalore',\n",
       " 'Bangalore\\n+3',\n",
       " 'Bangalore\\n+14',\n",
       " 'Bangalore\\n+6',\n",
       " 'Bangalore',\n",
       " 'Bangalore',\n",
       " 'Bangalore',\n",
       " 'Bangalore',\n",
       " 'Bangalore\\n+4',\n",
       " 'Bangalore\\n+13']"
      ]
     },
     "execution_count": 60,
     "metadata": {},
     "output_type": "execute_result"
    }
   ],
   "source": [
    "location           # top 10 locations"
   ]
  },
  {
   "cell_type": "code",
   "execution_count": 62,
   "id": "cae72e50",
   "metadata": {},
   "outputs": [
    {
     "data": {
      "text/html": [
       "<div>\n",
       "<style scoped>\n",
       "    .dataframe tbody tr th:only-of-type {\n",
       "        vertical-align: middle;\n",
       "    }\n",
       "\n",
       "    .dataframe tbody tr th {\n",
       "        vertical-align: top;\n",
       "    }\n",
       "\n",
       "    .dataframe thead th {\n",
       "        text-align: right;\n",
       "    }\n",
       "</style>\n",
       "<table border=\"1\" class=\"dataframe\">\n",
       "  <thead>\n",
       "    <tr style=\"text-align: right;\">\n",
       "      <th></th>\n",
       "      <th>Title</th>\n",
       "      <th>Organisation</th>\n",
       "      <th>Experience_req</th>\n",
       "      <th>Location</th>\n",
       "    </tr>\n",
       "  </thead>\n",
       "  <tbody>\n",
       "    <tr>\n",
       "      <th>0</th>\n",
       "      <td>Lead Data Analyst</td>\n",
       "      <td>ara resources private limited</td>\n",
       "      <td>4 to 9 Yrs</td>\n",
       "      <td>Bangalore</td>\n",
       "    </tr>\n",
       "    <tr>\n",
       "      <th>1</th>\n",
       "      <td>Data Analyst</td>\n",
       "      <td>diraa hr services hiring for mncs</td>\n",
       "      <td>0 to 1 Yr</td>\n",
       "      <td>Bangalore\\n+3</td>\n",
       "    </tr>\n",
       "    <tr>\n",
       "      <th>2</th>\n",
       "      <td>Vacancy For Data Analyst</td>\n",
       "      <td>yogita staffing solution</td>\n",
       "      <td>0 to 3 Yrs</td>\n",
       "      <td>Bangalore\\n+14</td>\n",
       "    </tr>\n",
       "    <tr>\n",
       "      <th>3</th>\n",
       "      <td>Clinical Data Analyst</td>\n",
       "      <td>techno endura</td>\n",
       "      <td>0 to 1 Yr</td>\n",
       "      <td>Bangalore\\n+6</td>\n",
       "    </tr>\n",
       "    <tr>\n",
       "      <th>4</th>\n",
       "      <td>Data Modeler data</td>\n",
       "      <td>boyen haddin consulting and technol...</td>\n",
       "      <td>3 to 6 Yrs</td>\n",
       "      <td>Bangalore</td>\n",
       "    </tr>\n",
       "    <tr>\n",
       "      <th>5</th>\n",
       "      <td>Data Modeller</td>\n",
       "      <td>boyen haddin consulting and technol...</td>\n",
       "      <td>3 to 6 Yrs</td>\n",
       "      <td>Bangalore</td>\n",
       "    </tr>\n",
       "    <tr>\n",
       "      <th>6</th>\n",
       "      <td>Data Modeler Bangalore</td>\n",
       "      <td>boyen haddin consulting and technol...</td>\n",
       "      <td>3 to 6 Yrs</td>\n",
       "      <td>Bangalore</td>\n",
       "    </tr>\n",
       "    <tr>\n",
       "      <th>7</th>\n",
       "      <td>Data Modeler</td>\n",
       "      <td>boyen haddin consulting and technol...</td>\n",
       "      <td>3 to 6 Yrs</td>\n",
       "      <td>Bangalore</td>\n",
       "    </tr>\n",
       "    <tr>\n",
       "      <th>8</th>\n",
       "      <td>Clinical Data Analyst</td>\n",
       "      <td>quiscon biotech</td>\n",
       "      <td>0 to 2 Yrs</td>\n",
       "      <td>Bangalore\\n+4</td>\n",
       "    </tr>\n",
       "    <tr>\n",
       "      <th>9</th>\n",
       "      <td>Data Analyst Hiring Fresher and Experience</td>\n",
       "      <td>kavya interprises</td>\n",
       "      <td>0 to 4 Yrs</td>\n",
       "      <td>Bangalore\\n+13</td>\n",
       "    </tr>\n",
       "  </tbody>\n",
       "</table>\n",
       "</div>"
      ],
      "text/plain": [
       "                                        Title  \\\n",
       "0                           Lead Data Analyst   \n",
       "1                                Data Analyst   \n",
       "2                    Vacancy For Data Analyst   \n",
       "3                       Clinical Data Analyst   \n",
       "4                           Data Modeler data   \n",
       "5                               Data Modeller   \n",
       "6                      Data Modeler Bangalore   \n",
       "7                                Data Modeler   \n",
       "8                       Clinical Data Analyst   \n",
       "9  Data Analyst Hiring Fresher and Experience   \n",
       "\n",
       "                             Organisation Experience_req        Location  \n",
       "0           ara resources private limited     4 to 9 Yrs       Bangalore  \n",
       "1       diraa hr services hiring for mncs      0 to 1 Yr   Bangalore\\n+3  \n",
       "2                yogita staffing solution     0 to 3 Yrs  Bangalore\\n+14  \n",
       "3                           techno endura      0 to 1 Yr   Bangalore\\n+6  \n",
       "4  boyen haddin consulting and technol...     3 to 6 Yrs       Bangalore  \n",
       "5  boyen haddin consulting and technol...     3 to 6 Yrs       Bangalore  \n",
       "6  boyen haddin consulting and technol...     3 to 6 Yrs       Bangalore  \n",
       "7  boyen haddin consulting and technol...     3 to 6 Yrs       Bangalore  \n",
       "8                         quiscon biotech     0 to 2 Yrs   Bangalore\\n+4  \n",
       "9                       kavya interprises     0 to 4 Yrs  Bangalore\\n+13  "
      ]
     },
     "execution_count": 62,
     "metadata": {},
     "output_type": "execute_result"
    }
   ],
   "source": [
    "job_data=pd.DataFrame({})\n",
    "job_data['Title']=jobs\n",
    "job_data['Organisation']=company\n",
    "job_data['Experience_req']=experience\n",
    "job_data['Location']=location\n",
    "job_data"
   ]
  },
  {
   "cell_type": "markdown",
   "id": "b3b4a4b7",
   "metadata": {},
   "source": [
    "# QUESTION 2"
   ]
  },
  {
   "cell_type": "code",
   "execution_count": 85,
   "id": "b9e10aa9",
   "metadata": {},
   "outputs": [],
   "source": [
    "import selenium\n",
    "import pandas as pd\n",
    "from selenium import webdriver\n",
    "import warnings\n",
    "warnings.filterwarnings('ignore')\n",
    "from selenium.webdriver.common.by import By\n",
    "import time"
   ]
  },
  {
   "cell_type": "code",
   "execution_count": 115,
   "id": "0809140e",
   "metadata": {},
   "outputs": [],
   "source": [
    "driver = webdriver.Chrome()"
   ]
  },
  {
   "cell_type": "code",
   "execution_count": 116,
   "id": "4f3cdbe8",
   "metadata": {},
   "outputs": [],
   "source": [
    "driver.get(\"https://www.shine.com/\")"
   ]
  },
  {
   "cell_type": "code",
   "execution_count": 118,
   "id": "d1ee24f6",
   "metadata": {},
   "outputs": [],
   "source": [
    "search=driver.find_element(By.CLASS_NAME, \"input\")\n",
    "search.click()"
   ]
  },
  {
   "cell_type": "code",
   "execution_count": 119,
   "id": "fe999b4e",
   "metadata": {},
   "outputs": [],
   "source": [
    "designation=driver.find_element(By.CLASS_NAME, \"form-control  \")\n",
    "designation.send_keys('Data Scientist')"
   ]
  },
  {
   "cell_type": "code",
   "execution_count": 95,
   "id": "fd438ccd",
   "metadata": {},
   "outputs": [],
   "source": [
    "location=driver.find_element(By.XPATH,\"/html/body/div/div[4]/div/div[2]/div[2]/div/form/div/div[1]/ul/li[2]/div/input\")\n",
    "location.send_keys('Bangalore')"
   ]
  },
  {
   "cell_type": "code",
   "execution_count": 96,
   "id": "2e5d8016",
   "metadata": {},
   "outputs": [],
   "source": [
    "press=driver.find_element(By.XPATH, \"/html/body/div/div[4]/div/div[2]/div[2]/div[1]/form/div/div[2]/div/button \")\n",
    "press.click()"
   ]
  },
  {
   "cell_type": "code",
   "execution_count": 100,
   "id": "0f7b0915",
   "metadata": {},
   "outputs": [],
   "source": [
    "job_title=[]\n",
    "company=[]\n",
    "job_location=[]"
   ]
  },
  {
   "cell_type": "code",
   "execution_count": 110,
   "id": "8bbe5226",
   "metadata": {},
   "outputs": [],
   "source": [
    "titles=driver.find_elements(By.XPATH,'//h2[@itemprop=\"name\"]')\n",
    "for i in titles:\n",
    "    title=i.text\n",
    "    job_title.append(title)\n",
    "jobs_=job_title[:10]"
   ]
  },
  {
   "cell_type": "code",
   "execution_count": 111,
   "id": "22aa1e20",
   "metadata": {},
   "outputs": [],
   "source": [
    "org_name=driver.find_elements(By.XPATH,'//div[@class=\"jobCard_jobCard_cName__mYnow\"]')\n",
    "for i in org_name:\n",
    "    org=i.text\n",
    "    Orgs.append(org)\n",
    "    \n",
    "company=Orgs[:10]"
   ]
  },
  {
   "cell_type": "code",
   "execution_count": 112,
   "id": "397a6eb2",
   "metadata": {},
   "outputs": [],
   "source": [
    "loc=driver.find_elements(By.XPATH,'//div[@class=\" jobCard_jobCard_lists_item__YxRkV jobCard_locationIcon__zrWt2\"]')\n",
    "for i in loc:\n",
    "    a=i.text\n",
    "    job_location.append(a)\n",
    "\n",
    "location=job_location[:10]"
   ]
  },
  {
   "cell_type": "code",
   "execution_count": 113,
   "id": "384f23ee",
   "metadata": {},
   "outputs": [
    {
     "data": {
      "text/html": [
       "<div>\n",
       "<style scoped>\n",
       "    .dataframe tbody tr th:only-of-type {\n",
       "        vertical-align: middle;\n",
       "    }\n",
       "\n",
       "    .dataframe tbody tr th {\n",
       "        vertical-align: top;\n",
       "    }\n",
       "\n",
       "    .dataframe thead th {\n",
       "        text-align: right;\n",
       "    }\n",
       "</style>\n",
       "<table border=\"1\" class=\"dataframe\">\n",
       "  <thead>\n",
       "    <tr style=\"text-align: right;\">\n",
       "      <th></th>\n",
       "      <th>job_title</th>\n",
       "      <th>Location</th>\n",
       "      <th>Company_name</th>\n",
       "    </tr>\n",
       "  </thead>\n",
       "  <tbody>\n",
       "    <tr>\n",
       "      <th>0</th>\n",
       "      <td>Data Scientist</td>\n",
       "      <td>Bangalore\\n+4</td>\n",
       "      <td>ara resources private limited</td>\n",
       "    </tr>\n",
       "    <tr>\n",
       "      <th>1</th>\n",
       "      <td>Data Scientist</td>\n",
       "      <td>Bangalore</td>\n",
       "      <td>diraa hr services hiring for mncs</td>\n",
       "    </tr>\n",
       "    <tr>\n",
       "      <th>2</th>\n",
       "      <td>Lead Data Scientist/ Principal Data Scientist</td>\n",
       "      <td>Bangalore\\n+1</td>\n",
       "      <td>yogita staffing solution</td>\n",
       "    </tr>\n",
       "    <tr>\n",
       "      <th>3</th>\n",
       "      <td>Senior Data Scientist</td>\n",
       "      <td>Bangalore\\n+1</td>\n",
       "      <td>techno endura</td>\n",
       "    </tr>\n",
       "    <tr>\n",
       "      <th>4</th>\n",
       "      <td>Vacancy For Data Scientist Fresher and Experience</td>\n",
       "      <td>Bangalore\\n+14</td>\n",
       "      <td>boyen haddin consulting and technol...</td>\n",
       "    </tr>\n",
       "    <tr>\n",
       "      <th>5</th>\n",
       "      <td>Lead Data Scientist</td>\n",
       "      <td>Bangalore\\n+1</td>\n",
       "      <td>boyen haddin consulting and technol...</td>\n",
       "    </tr>\n",
       "    <tr>\n",
       "      <th>6</th>\n",
       "      <td>Data Scientist</td>\n",
       "      <td>Bangalore\\n+7</td>\n",
       "      <td>boyen haddin consulting and technol...</td>\n",
       "    </tr>\n",
       "    <tr>\n",
       "      <th>7</th>\n",
       "      <td>Data Scientist Urgent Vacancy</td>\n",
       "      <td>Bangalore\\n+14</td>\n",
       "      <td>boyen haddin consulting and technol...</td>\n",
       "    </tr>\n",
       "    <tr>\n",
       "      <th>8</th>\n",
       "      <td>Data Scientist</td>\n",
       "      <td>Bangalore\\n+2</td>\n",
       "      <td>quiscon biotech</td>\n",
       "    </tr>\n",
       "    <tr>\n",
       "      <th>9</th>\n",
       "      <td>Pharma Data Scientist</td>\n",
       "      <td>Bangalore\\n+4</td>\n",
       "      <td>kavya interprises</td>\n",
       "    </tr>\n",
       "  </tbody>\n",
       "</table>\n",
       "</div>"
      ],
      "text/plain": [
       "                                           job_title        Location  \\\n",
       "0                                     Data Scientist   Bangalore\\n+4   \n",
       "1                                     Data Scientist       Bangalore   \n",
       "2      Lead Data Scientist/ Principal Data Scientist   Bangalore\\n+1   \n",
       "3                              Senior Data Scientist   Bangalore\\n+1   \n",
       "4  Vacancy For Data Scientist Fresher and Experience  Bangalore\\n+14   \n",
       "5                                Lead Data Scientist   Bangalore\\n+1   \n",
       "6                                     Data Scientist   Bangalore\\n+7   \n",
       "7                      Data Scientist Urgent Vacancy  Bangalore\\n+14   \n",
       "8                                     Data Scientist   Bangalore\\n+2   \n",
       "9                              Pharma Data Scientist   Bangalore\\n+4   \n",
       "\n",
       "                             Company_name  \n",
       "0           ara resources private limited  \n",
       "1       diraa hr services hiring for mncs  \n",
       "2                yogita staffing solution  \n",
       "3                           techno endura  \n",
       "4  boyen haddin consulting and technol...  \n",
       "5  boyen haddin consulting and technol...  \n",
       "6  boyen haddin consulting and technol...  \n",
       "7  boyen haddin consulting and technol...  \n",
       "8                         quiscon biotech  \n",
       "9                       kavya interprises  "
      ]
     },
     "execution_count": 113,
     "metadata": {},
     "output_type": "execute_result"
    }
   ],
   "source": [
    "job=pd.DataFrame({})\n",
    "job['job_title']=jobs_\n",
    "job['Location']=location\n",
    "job['Company_name']=company\n",
    "job"
   ]
  },
  {
   "cell_type": "markdown",
   "id": "adfa46d9",
   "metadata": {},
   "source": [
    "# QUESTION 3"
   ]
  },
  {
   "cell_type": "code",
   "execution_count": 1,
   "id": "e0c7a72b",
   "metadata": {},
   "outputs": [],
   "source": [
    "import selenium\n",
    "import pandas as pd\n",
    "from selenium import webdriver\n",
    "import warnings\n",
    "warnings.filterwarnings('ignore')\n",
    "from selenium.webdriver.common.by import By\n",
    "from selenium.webdriver.support.ui import WebDriverWait\n",
    "from selenium.webdriver.support import expected_conditions as EC"
   ]
  },
  {
   "cell_type": "code",
   "execution_count": 67,
   "id": "ecd87eb1",
   "metadata": {},
   "outputs": [],
   "source": [
    "driver = webdriver.Chrome()"
   ]
  },
  {
   "cell_type": "code",
   "execution_count": 68,
   "id": "737152b7",
   "metadata": {},
   "outputs": [],
   "source": [
    "driver.get(\"https://www.shine.com/\")"
   ]
  },
  {
   "cell_type": "code",
   "execution_count": 69,
   "id": "d38a5bb9",
   "metadata": {},
   "outputs": [],
   "source": [
    "search=driver.find_element(By.CLASS_NAME, \"input\")\n",
    "search.click()"
   ]
  },
  {
   "cell_type": "code",
   "execution_count": 71,
   "id": "6eaf66e3",
   "metadata": {},
   "outputs": [],
   "source": [
    "designation=driver.find_element(By.CLASS_NAME, \"form-control  \")\n",
    "designation.send_keys('Data Scientist')"
   ]
  },
  {
   "cell_type": "code",
   "execution_count": 72,
   "id": "65976413",
   "metadata": {},
   "outputs": [],
   "source": [
    "press=driver.find_element(By.XPATH, \"/html/body/div/div[4]/div/div[2]/div[2]/div[1]/form/div/div[2]/div/button \")\n",
    "press.click()"
   ]
  },
  {
   "cell_type": "code",
   "execution_count": 77,
   "id": "d3416c22",
   "metadata": {},
   "outputs": [],
   "source": [
    "press=driver.find_element(By.XPATH, \"/html/body/div[1]/div[1]/div[3]/div/div[1]/div/div[2]/div/ul/li[3]/button \")\n",
    "press.click()"
   ]
  },
  {
   "cell_type": "code",
   "execution_count": 79,
   "id": "9a0609bd",
   "metadata": {},
   "outputs": [],
   "source": [
    "search=driver.find_element(By.XPATH, \"/html/body/div[3]/div/div/div/div[3]/div/div/div/ul/li[3]/span/label\")\n",
    "search.click()"
   ]
  },
  {
   "cell_type": "code",
   "execution_count": 80,
   "id": "53f34571",
   "metadata": {},
   "outputs": [],
   "source": [
    "search=driver.find_element(By.XPATH, \"/html/body/div[3]/div/div/div/div[3]/div/ul/li[1]\")\n",
    "search.click()"
   ]
  },
  {
   "cell_type": "code",
   "execution_count": 81,
   "id": "d71cfd07",
   "metadata": {},
   "outputs": [],
   "source": [
    "search=driver.find_element(By.XPATH, \"/html/body/div[3]/div/div/div/div[3]/div/div/div/ul/li[13]/span/label\")\n",
    "search.click()"
   ]
  },
  {
   "cell_type": "code",
   "execution_count": 82,
   "id": "426fbc94",
   "metadata": {},
   "outputs": [],
   "source": [
    "search=driver.find_element(By.XPATH, \"/html/body/div[3]/div/div/div/div[4]/button[2]\")\n",
    "search.click()"
   ]
  },
  {
   "cell_type": "code",
   "execution_count": 83,
   "id": "24913532",
   "metadata": {},
   "outputs": [],
   "source": [
    "job_title=[]\n",
    "company=[]\n",
    "experience_req=[]\n",
    "job_location=[]"
   ]
  },
  {
   "cell_type": "code",
   "execution_count": 84,
   "id": "fa95200c",
   "metadata": {},
   "outputs": [],
   "source": [
    "title_tags=driver.find_elements(By.XPATH,'//h2[@itemprop=\"name\"]')\n",
    "for i in title_tags:\n",
    "    title=i.text\n",
    "    job_title.append(title)\n",
    "\n",
    "jobs=job_title[:10]"
   ]
  },
  {
   "cell_type": "code",
   "execution_count": 87,
   "id": "63e3f4d4",
   "metadata": {},
   "outputs": [],
   "source": [
    "org_name=driver.find_elements(By.XPATH,'//div[@class=\"jobCard_jobCard_cName__mYnow\"]')\n",
    "for i in org_name:\n",
    "    org=i.text\n",
    "    company.append(org)\n",
    "    \n",
    "organisations=company[:10]"
   ]
  },
  {
   "cell_type": "code",
   "execution_count": 88,
   "id": "ddaf4275",
   "metadata": {},
   "outputs": [],
   "source": [
    "xp_tags=driver.find_elements(By.XPATH,'//div[@class=\" jobCard_jobCard_lists_item__YxRkV jobCard_jobIcon__3FB1t\"]')\n",
    "for i in xp_tags:\n",
    "    a=i.text\n",
    "    experience_req.append(a)\n",
    "\n",
    "experience=experience_req[:10]"
   ]
  },
  {
   "cell_type": "code",
   "execution_count": 89,
   "id": "6863cb2c",
   "metadata": {},
   "outputs": [],
   "source": [
    "loc=driver.find_elements(By.XPATH,'//div[@class=\" jobCard_jobCard_lists_item__YxRkV jobCard_locationIcon__zrWt2\"]')\n",
    "for i in loc:\n",
    "    a=i.text\n",
    "    job_location.append(a)\n",
    "\n",
    "location=job_location[:10]"
   ]
  },
  {
   "cell_type": "code",
   "execution_count": 90,
   "id": "27bbe1b8",
   "metadata": {},
   "outputs": [
    {
     "data": {
      "text/html": [
       "<div>\n",
       "<style scoped>\n",
       "    .dataframe tbody tr th:only-of-type {\n",
       "        vertical-align: middle;\n",
       "    }\n",
       "\n",
       "    .dataframe tbody tr th {\n",
       "        vertical-align: top;\n",
       "    }\n",
       "\n",
       "    .dataframe thead th {\n",
       "        text-align: right;\n",
       "    }\n",
       "</style>\n",
       "<table border=\"1\" class=\"dataframe\">\n",
       "  <thead>\n",
       "    <tr style=\"text-align: right;\">\n",
       "      <th></th>\n",
       "      <th>Title</th>\n",
       "      <th>Organisation</th>\n",
       "      <th>Experience_req</th>\n",
       "      <th>Location</th>\n",
       "    </tr>\n",
       "  </thead>\n",
       "  <tbody>\n",
       "    <tr>\n",
       "      <th>0</th>\n",
       "      <td>Data Scientist</td>\n",
       "      <td>acme services private limited</td>\n",
       "      <td>3 to 5 Yrs</td>\n",
       "      <td>Delhi\\n+4</td>\n",
       "    </tr>\n",
       "    <tr>\n",
       "      <th>1</th>\n",
       "      <td>Clinical Data Analyst</td>\n",
       "      <td>techno endura</td>\n",
       "      <td>0 to 1 Yr</td>\n",
       "      <td>Delhi\\n+6</td>\n",
       "    </tr>\n",
       "    <tr>\n",
       "      <th>2</th>\n",
       "      <td>Bioanalytical Research</td>\n",
       "      <td>techno endura</td>\n",
       "      <td>0 to 1 Yr</td>\n",
       "      <td>Delhi\\n+6</td>\n",
       "    </tr>\n",
       "    <tr>\n",
       "      <th>3</th>\n",
       "      <td>Bioanalytical Research Associates</td>\n",
       "      <td>techno endura</td>\n",
       "      <td>0 to 1 Yr</td>\n",
       "      <td>Delhi\\n+6</td>\n",
       "    </tr>\n",
       "    <tr>\n",
       "      <th>4</th>\n",
       "      <td>Clinical Data Management</td>\n",
       "      <td>techno endura</td>\n",
       "      <td>0 to 1 Yr</td>\n",
       "      <td>Delhi\\n+6</td>\n",
       "    </tr>\n",
       "    <tr>\n",
       "      <th>5</th>\n",
       "      <td>Clinical Analyst Fresher</td>\n",
       "      <td>techno endura</td>\n",
       "      <td>0 to 1 Yr</td>\n",
       "      <td>Delhi\\n+6</td>\n",
       "    </tr>\n",
       "    <tr>\n",
       "      <th>6</th>\n",
       "      <td>Junior Clinical Data Management</td>\n",
       "      <td>techno endura</td>\n",
       "      <td>0 to 1 Yr</td>\n",
       "      <td>Delhi\\n+6</td>\n",
       "    </tr>\n",
       "    <tr>\n",
       "      <th>7</th>\n",
       "      <td>Data Engineer</td>\n",
       "      <td>future solution centre</td>\n",
       "      <td>10 to 20 Yrs</td>\n",
       "      <td>Delhi\\n+9</td>\n",
       "    </tr>\n",
       "    <tr>\n",
       "      <th>8</th>\n",
       "      <td>Biostatistician</td>\n",
       "      <td>national seeds corporation limited</td>\n",
       "      <td>2 to 7 Yrs</td>\n",
       "      <td>Delhi\\n+17</td>\n",
       "    </tr>\n",
       "    <tr>\n",
       "      <th>9</th>\n",
       "      <td>Clinical Document Specialist</td>\n",
       "      <td>techno endura</td>\n",
       "      <td>0 to 1 Yr</td>\n",
       "      <td>Delhi\\n+6</td>\n",
       "    </tr>\n",
       "  </tbody>\n",
       "</table>\n",
       "</div>"
      ],
      "text/plain": [
       "                               Title                        Organisation  \\\n",
       "0                     Data Scientist       acme services private limited   \n",
       "1              Clinical Data Analyst                       techno endura   \n",
       "2             Bioanalytical Research                       techno endura   \n",
       "3  Bioanalytical Research Associates                       techno endura   \n",
       "4           Clinical Data Management                       techno endura   \n",
       "5           Clinical Analyst Fresher                       techno endura   \n",
       "6    Junior Clinical Data Management                       techno endura   \n",
       "7                      Data Engineer              future solution centre   \n",
       "8                    Biostatistician  national seeds corporation limited   \n",
       "9       Clinical Document Specialist                       techno endura   \n",
       "\n",
       "  Experience_req    Location  \n",
       "0     3 to 5 Yrs   Delhi\\n+4  \n",
       "1      0 to 1 Yr   Delhi\\n+6  \n",
       "2      0 to 1 Yr   Delhi\\n+6  \n",
       "3      0 to 1 Yr   Delhi\\n+6  \n",
       "4      0 to 1 Yr   Delhi\\n+6  \n",
       "5      0 to 1 Yr   Delhi\\n+6  \n",
       "6      0 to 1 Yr   Delhi\\n+6  \n",
       "7   10 to 20 Yrs   Delhi\\n+9  \n",
       "8     2 to 7 Yrs  Delhi\\n+17  \n",
       "9      0 to 1 Yr   Delhi\\n+6  "
      ]
     },
     "execution_count": 90,
     "metadata": {},
     "output_type": "execute_result"
    }
   ],
   "source": [
    "job_data=pd.DataFrame({})\n",
    "job_data['Title']=jobs\n",
    "job_data['Organisation']=organisations\n",
    "job_data['Experience_req']=experience\n",
    "job_data['Location']=location\n",
    "job_data"
   ]
  },
  {
   "cell_type": "markdown",
   "id": "22509729",
   "metadata": {},
   "source": [
    "# QUESTION 4"
   ]
  },
  {
   "cell_type": "code",
   "execution_count": 91,
   "id": "cd403d63",
   "metadata": {},
   "outputs": [],
   "source": [
    "driver = webdriver.Chrome()"
   ]
  },
  {
   "cell_type": "code",
   "execution_count": 92,
   "id": "a029a7b4",
   "metadata": {},
   "outputs": [],
   "source": [
    "driver.get(\"https://www.flipkart.com/\")"
   ]
  },
  {
   "cell_type": "code",
   "execution_count": 95,
   "id": "a193ded1",
   "metadata": {},
   "outputs": [],
   "source": [
    "typing=driver.find_element(By.CLASS_NAME, \"Pke_EE \")\n",
    "typing.send_keys('sunglasses')"
   ]
  },
  {
   "cell_type": "code",
   "execution_count": 97,
   "id": "59dd0cf0",
   "metadata": {},
   "outputs": [],
   "source": [
    "press=driver.find_element(By.CLASS_NAME, \"_2iLD__\")\n",
    "press.click()"
   ]
  },
  {
   "cell_type": "code",
   "execution_count": 182,
   "id": "ac0e11e8",
   "metadata": {},
   "outputs": [],
   "source": [
    "brands=[]\n",
    "productdescriptions=[]\n",
    "prices_=[]\n",
    "discount_percs=[]"
   ]
  },
  {
   "cell_type": "code",
   "execution_count": 175,
   "id": "3a00d4a0",
   "metadata": {},
   "outputs": [],
   "source": [
    "brand_tag=driver.find_elements(By.XPATH,'//div[@class=\"_2WkVRV\"]')\n",
    "for i in brand_tag:\n",
    "    title=i.text\n",
    "    brands.append(title)        #first 40 brands"
   ]
  },
  {
   "cell_type": "code",
   "execution_count": 176,
   "id": "8604de63",
   "metadata": {},
   "outputs": [],
   "source": [
    "productd=driver.find_elements(By.XPATH,'//a[@class=\"IRpwTa\"]')\n",
    "for i in productd:\n",
    "    title=i.text\n",
    "    productdescriptions.append(title)     #first 40 product description"
   ]
  },
  {
   "cell_type": "code",
   "execution_count": 183,
   "id": "3904e964",
   "metadata": {},
   "outputs": [],
   "source": [
    "prices1=driver.find_elements(By.XPATH, '//div[@class=\"_30jeq3\"]')\n",
    "for i in prices1:\n",
    "    title=i.text\n",
    "    prices_.append(title)     #first 40 price "
   ]
  },
  {
   "cell_type": "code",
   "execution_count": 184,
   "id": "38418055",
   "metadata": {},
   "outputs": [],
   "source": [
    "disc=driver.find_elements(By.XPATH, '//div[@class=\"_3Ay6Sb\"]')\n",
    "for i in disc:\n",
    "    disc=i.text\n",
    "    discount_percs.append(disc)    #first 40 discount percentage"
   ]
  },
  {
   "cell_type": "code",
   "execution_count": 185,
   "id": "687a53e8",
   "metadata": {},
   "outputs": [],
   "source": [
    "page2=driver.find_element(By.XPATH, \"/html/body/div/div/div[3]/div[1]/div[2]/div[12]/div/div/nav/a[2]\")\n",
    "page2.click()"
   ]
  },
  {
   "cell_type": "code",
   "execution_count": 186,
   "id": "3054d2ed",
   "metadata": {},
   "outputs": [],
   "source": [
    "brand_tag2=driver.find_elements(By.XPATH,'//div[@class=\"_2WkVRV\"]')\n",
    "for i in brand_tag2:\n",
    "    title=i.text\n",
    "    brands.append(title)        #second 40 brands = 80"
   ]
  },
  {
   "cell_type": "code",
   "execution_count": 187,
   "id": "6df7e1de",
   "metadata": {},
   "outputs": [],
   "source": [
    "productd2=driver.find_elements(By.XPATH,'//a[@class=\"IRpwTa\"]')\n",
    "for i in productd2:\n",
    "    title=i.text\n",
    "    productdescriptions.append(title)    #second 40 product des.. = 80"
   ]
  },
  {
   "cell_type": "code",
   "execution_count": 188,
   "id": "11ca9de4",
   "metadata": {},
   "outputs": [],
   "source": [
    "prices2=driver.find_elements(By.XPATH, '//div[@class=\"_30jeq3\"]')\n",
    "for i in prices2:\n",
    "    title=i.text\n",
    "    prices_.append(title)     # second 40 prices = 80"
   ]
  },
  {
   "cell_type": "code",
   "execution_count": 189,
   "id": "082fd716",
   "metadata": {},
   "outputs": [],
   "source": [
    "disc2=driver.find_elements(By.XPATH, '//div[@class=\"_3Ay6Sb\"]')\n",
    "for i in disc2:\n",
    "    disc=i.text\n",
    "    discount_percs.append(disc)    # second 40 disc percentage = 80"
   ]
  },
  {
   "cell_type": "code",
   "execution_count": 191,
   "id": "5dd631a9",
   "metadata": {},
   "outputs": [],
   "source": [
    "page3=driver.find_element(By.XPATH, \"/html/body/div/div/div[3]/div[1]/div[2]/div[12]/div/div/nav/a[4]\")\n",
    "page3.click()"
   ]
  },
  {
   "cell_type": "code",
   "execution_count": 194,
   "id": "7b4fd500",
   "metadata": {},
   "outputs": [],
   "source": [
    "brand_tag3=driver.find_elements(By.XPATH,'//div[@class=\"_2WkVRV\"]')\n",
    "for i in brand_tag3:\n",
    "    title=i.text\n",
    "    brands.append(title)     #last 40 brands"
   ]
  },
  {
   "cell_type": "code",
   "execution_count": 196,
   "id": "217b4fd5",
   "metadata": {},
   "outputs": [],
   "source": [
    "productd=driver.find_elements(By.XPATH,'//a[@class=\"IRpwTa\"]')\n",
    "for i in productd:\n",
    "    title=i.text\n",
    "    productdescriptions.append(title)                #last 40 description"
   ]
  },
  {
   "cell_type": "code",
   "execution_count": 197,
   "id": "fb543a20",
   "metadata": {},
   "outputs": [],
   "source": [
    "prices=driver.find_elements(By.XPATH, '//div[@class=\"_30jeq3\"]')\n",
    "for i in prices:\n",
    "    title=i.text\n",
    "    prices_.append(title)           #last 40 prices "
   ]
  },
  {
   "cell_type": "code",
   "execution_count": 200,
   "id": "7a629736",
   "metadata": {},
   "outputs": [],
   "source": [
    "disc=driver.find_elements(By.XPATH, '//div[@class=\"_3Ay6Sb\"]')\n",
    "for i in disc:\n",
    "    title=i.text\n",
    "    discount_percs.append(title)        #last 40 discount percntage"
   ]
  },
  {
   "cell_type": "code",
   "execution_count": 204,
   "id": "fe8a02d1",
   "metadata": {},
   "outputs": [],
   "source": [
    "brands_data=brands[:100]\n",
    "products_data=productdescriptions[:100]\n",
    "price_data=prices_[:100]\n",
    "discount_data=discount_percs[:100]"
   ]
  },
  {
   "cell_type": "markdown",
   "id": "565bdeb8",
   "metadata": {},
   "source": [
    "# QUESTION 5"
   ]
  },
  {
   "cell_type": "code",
   "execution_count": 217,
   "id": "2e045685",
   "metadata": {},
   "outputs": [],
   "source": [
    "from selenium import webdriver\n",
    "from selenium.webdriver.common.by import By\n",
    "from selenium.webdriver.support.ui import WebDriverWait\n",
    "from selenium.webdriver.support import expected_conditions as EC"
   ]
  },
  {
   "cell_type": "code",
   "execution_count": 206,
   "id": "42a62902",
   "metadata": {},
   "outputs": [],
   "source": [
    "driver = webdriver.Chrome()"
   ]
  },
  {
   "cell_type": "code",
   "execution_count": 207,
   "id": "9b0ebdc6",
   "metadata": {},
   "outputs": [],
   "source": [
    "driver.get(\"https://www.flipkart.com/apple-iphone-11-black-64-gb/product-reviews/itm4e5041ba101fd?pid=MOBFWQ6BXGJCEYNY&lid=LSTMOBFWQ6BXGJCEYNYZXSHRJ&market\")"
   ]
  },
  {
   "cell_type": "code",
   "execution_count": 248,
   "id": "be2709ab",
   "metadata": {},
   "outputs": [],
   "source": [
    "ratings_=[]\n",
    "review_sums=[]\n",
    "full_reviews=[]"
   ]
  },
  {
   "cell_type": "code",
   "execution_count": 249,
   "id": "5cd1c86c",
   "metadata": {},
   "outputs": [],
   "source": [
    "start = 0\n",
    "end = 10\n",
    "for page in range(start,end):\n",
    "    rating=driver.find_elements(By.XPATH, '//div[@class=\"_3LWZlK _1BLPMq\"]')\n",
    "    for i in rating:\n",
    "        ratings_.append(i.text)\n",
    "        \n",
    "    review=driver.find_elements(By.XPATH, '//p[@class=\"_2-N8zT\"]')\n",
    "    for b in review:\n",
    "        review_sums.append(b.text)\n",
    "        \n",
    "    full_r=driver.find_elements(By.XPATH, '//div[@class=\"t-ZTKy\"]')\n",
    "    for d in full_r:\n",
    "        full_reviews.append(d.text)\n",
    "        \n",
    "next_button = WebDriverWait(driver, 10).until(\n",
    "EC.element_to_be_clickable((By.XPATH, '/html/body/div/div/div[3]/div/div/div[2]/div[13]/div/div/nav/a[11]'))\n",
    ")\n",
    "next_button.click()"
   ]
  },
  {
   "cell_type": "code",
   "execution_count": 251,
   "id": "45bfa59a",
   "metadata": {},
   "outputs": [
    {
     "name": "stdout",
     "output_type": "stream",
     "text": [
      "100 100 100\n"
     ]
    }
   ],
   "source": [
    "print(len(ratings_), len(review_sums), len(full_reviews))"
   ]
  },
  {
   "cell_type": "markdown",
   "id": "55a7cdd5",
   "metadata": {},
   "source": [
    "# QUESTION 6"
   ]
  },
  {
   "cell_type": "code",
   "execution_count": 2,
   "id": "5d613e9e",
   "metadata": {},
   "outputs": [],
   "source": [
    "from selenium import webdriver\n",
    "from selenium.webdriver.common.by import By\n",
    "from selenium.webdriver.support.ui import WebDriverWait\n",
    "from selenium.webdriver.support import expected_conditions as EC"
   ]
  },
  {
   "cell_type": "code",
   "execution_count": 252,
   "id": "57cdf6fc",
   "metadata": {},
   "outputs": [],
   "source": [
    "driver = webdriver.Chrome()"
   ]
  },
  {
   "cell_type": "code",
   "execution_count": 253,
   "id": "3b961eee",
   "metadata": {},
   "outputs": [],
   "source": [
    "driver.get(\"https://www.flipkart.com/\")"
   ]
  },
  {
   "cell_type": "code",
   "execution_count": 254,
   "id": "20238d72",
   "metadata": {},
   "outputs": [],
   "source": [
    "typing=driver.find_element(By.CLASS_NAME, \"Pke_EE \")\n",
    "typing.send_keys('sneakers')"
   ]
  },
  {
   "cell_type": "code",
   "execution_count": 255,
   "id": "9807cd9f",
   "metadata": {},
   "outputs": [],
   "source": [
    "press=driver.find_element(By.CLASS_NAME, \"_2iLD__\")\n",
    "press.click()"
   ]
  },
  {
   "cell_type": "code",
   "execution_count": 285,
   "id": "752bcaaf",
   "metadata": {},
   "outputs": [],
   "source": [
    "brands_=[]\n",
    "product_dis=[]\n",
    "prices_=[]"
   ]
  },
  {
   "cell_type": "code",
   "execution_count": 286,
   "id": "b289fd2c",
   "metadata": {},
   "outputs": [],
   "source": [
    "start = 0\n",
    "end = 3\n",
    "for page in range(start,end):\n",
    "    brands_name=driver.find_elements(By.XPATH,'//div[@class=\"_2WkVRV\"]')\n",
    "    for i in brands_name:\n",
    "        title1=i.text\n",
    "        brands_.append(title1)\n",
    "next_button = WebDriverWait(driver, 10).until(\n",
    "EC.element_to_be_clickable((By.XPATH, '/html/body/div/div/div[3]/div[1]/div[2]/div[12]/div/div/nav/a[11]'))\n",
    ")\n",
    "next_button.click()"
   ]
  },
  {
   "cell_type": "code",
   "execution_count": 290,
   "id": "6f3d9ce4",
   "metadata": {},
   "outputs": [],
   "source": [
    "start = 0\n",
    "end = 3\n",
    "for page in range(start,end):\n",
    "    products=driver.find_elements(By.XPATH,'//a[@class=\"IRpwTa\"]')\n",
    "    for i in products:\n",
    "        title2=i.text\n",
    "        product_dis.append(title2)\n",
    "        \n",
    "    products2=driver.find_elements(By.XPATH, '//a[@class=\"IRpwTa _2-ICcC\"]')\n",
    "    for i in products2:\n",
    "            title=i.text\n",
    "            product_dis.append(products2)\n",
    "next_button = WebDriverWait(driver, 10).until(\n",
    "EC.element_to_be_clickable((By.XPATH, '/html/body/div/div/div[3]/div[1]/div[2]/div[12]/div/div/nav/a[11]'))\n",
    ")\n",
    "next_button.click()"
   ]
  },
  {
   "cell_type": "code",
   "execution_count": 289,
   "id": "0c2b7e9d",
   "metadata": {},
   "outputs": [],
   "source": [
    "start = 0\n",
    "end = 3\n",
    "for page in range(start,end):\n",
    "    prices=driver.find_elements(By.XPATH, '//div[@class=\"_30jeq3\"]')\n",
    "    for i in prices:\n",
    "        title3=i.text\n",
    "        prices_.append(title3)\n",
    "next_button = WebDriverWait(driver, 10).until(\n",
    "EC.element_to_be_clickable((By.XPATH, '/html/body/div/div/div[3]/div[1]/div[2]/div[12]/div/div/nav/a[11]'))\n",
    ")\n",
    "next_button.click()"
   ]
  },
  {
   "cell_type": "code",
   "execution_count": 292,
   "id": "f7db14bd",
   "metadata": {},
   "outputs": [],
   "source": [
    "brands=brands_[:100]\n",
    "product_discription=product_dis[:100]\n",
    "prices=prices_[:100]"
   ]
  },
  {
   "cell_type": "code",
   "execution_count": 293,
   "id": "e3260366",
   "metadata": {},
   "outputs": [
    {
     "name": "stdout",
     "output_type": "stream",
     "text": [
      "100 100 100\n"
     ]
    }
   ],
   "source": [
    "print(len(brands),len(product_discription),len(prices))"
   ]
  },
  {
   "cell_type": "markdown",
   "id": "98f8d0d8",
   "metadata": {},
   "source": [
    "# QUESTION 7"
   ]
  },
  {
   "cell_type": "code",
   "execution_count": 3,
   "id": "39b465f5",
   "metadata": {},
   "outputs": [],
   "source": [
    "from selenium import webdriver\n",
    "from selenium.webdriver.common.by import By\n",
    "from selenium.webdriver.support.ui import WebDriverWait\n",
    "from selenium.webdriver.support import expected_conditions as EC"
   ]
  },
  {
   "cell_type": "code",
   "execution_count": 19,
   "id": "a3e6d5a5",
   "metadata": {},
   "outputs": [],
   "source": [
    "driver = webdriver.Chrome()"
   ]
  },
  {
   "cell_type": "code",
   "execution_count": 20,
   "id": "96669936",
   "metadata": {},
   "outputs": [],
   "source": [
    "driver.get(\"https://www.amazon.com/\")"
   ]
  },
  {
   "cell_type": "code",
   "execution_count": 21,
   "id": "61250ade",
   "metadata": {},
   "outputs": [],
   "source": [
    "typing=driver.find_element(By.XPATH, \"/html/body/div[1]/header/div/div[1]/div[2]/div/form/div[2]/div[1]/input \")\n",
    "typing.send_keys('laptop')"
   ]
  },
  {
   "cell_type": "code",
   "execution_count": 22,
   "id": "d66e47a4",
   "metadata": {},
   "outputs": [],
   "source": [
    "press=driver.find_element(By.XPATH, \"/html/body/div[1]/header/div/div[1]/div[2]/div/form/div[3]/div/span/input\")\n",
    "press.click()"
   ]
  },
  {
   "cell_type": "code",
   "execution_count": 25,
   "id": "098a1b30",
   "metadata": {},
   "outputs": [],
   "source": [
    "press=driver.find_element(By.XPATH, \"/html/body/div[1]/div[1]/div[1]/div[2]/div/div[3]/span/div[1]/div/div/div[6]/ul[7]/span/li/span/div/a\")\n",
    "press.click()"
   ]
  },
  {
   "cell_type": "code",
   "execution_count": 27,
   "id": "769c8ea5",
   "metadata": {},
   "outputs": [],
   "source": [
    "press=driver.find_element(By.XPATH, \"/html/body/div[1]/div[1]/div[1]/div[2]/div/div[3]/span/div[1]/div/div/div[6]/ul[7]/span/li/span/div/div/ul/span[15]/li/span/a/div\")\n",
    "press.click()"
   ]
  },
  {
   "cell_type": "code",
   "execution_count": 62,
   "id": "aa8b0889",
   "metadata": {},
   "outputs": [],
   "source": [
    "Title=[]\n",
    "Ratings__=[]\n",
    "Prices__=[]"
   ]
  },
  {
   "cell_type": "code",
   "execution_count": 29,
   "id": "58472eda",
   "metadata": {},
   "outputs": [],
   "source": [
    "title_tag=driver.find_elements(By.XPATH,'//H2[@class=\"a-size-mini a-spacing-none a-color-base s-line-clamp-2\"]')\n",
    "for i in title_tag:\n",
    "    titles=i.text\n",
    "    Title.append(titles)\n",
    "\n",
    "Titles_=Title[:10]"
   ]
  },
  {
   "cell_type": "code",
   "execution_count": 54,
   "id": "128e1580",
   "metadata": {},
   "outputs": [],
   "source": [
    "ratings_tag=driver.find_elements(By.XPATH,'//i[@class=\"a-icon a-icon-star-small a-star-small-4-5 aok-align-bottom\"]')\n",
    "for i in ratings_tag:\n",
    "    titles=i.text\n",
    "    Ratings__.append(titles)\n",
    "\n",
    "Rate=Ratings__[:10]"
   ]
  },
  {
   "cell_type": "code",
   "execution_count": 63,
   "id": "cba0c9ed",
   "metadata": {},
   "outputs": [],
   "source": [
    "prices_tag=driver.find_elements(By.XPATH,'//span[@class=\"a-price-whole\"]')\n",
    "for i in prices_tag:\n",
    "    title=i.text\n",
    "    Prices__.append(title)\n",
    "\n",
    "PriceS=Prices__[:10]"
   ]
  },
  {
   "cell_type": "code",
   "execution_count": 65,
   "id": "7a0f4b6a",
   "metadata": {},
   "outputs": [
    {
     "name": "stdout",
     "output_type": "stream",
     "text": [
      "10 10 10\n"
     ]
    }
   ],
   "source": [
    "print(len(Titles_),len(Rate),len(PriceS))"
   ]
  },
  {
   "cell_type": "markdown",
   "id": "7c4b8ecf",
   "metadata": {},
   "source": [
    "# QUESTION 8"
   ]
  },
  {
   "cell_type": "code",
   "execution_count": 83,
   "id": "7d45f4c4",
   "metadata": {},
   "outputs": [],
   "source": [
    "import selenium\n",
    "import pandas as pd\n",
    "from selenium import webdriver\n",
    "import warnings\n",
    "warnings.filterwarnings('ignore')\n",
    "from selenium.webdriver.common.by import By\n",
    "import time"
   ]
  },
  {
   "cell_type": "code",
   "execution_count": 67,
   "id": "941c3a42",
   "metadata": {},
   "outputs": [],
   "source": [
    "driver = webdriver.Chrome()"
   ]
  },
  {
   "cell_type": "code",
   "execution_count": 68,
   "id": "74223596",
   "metadata": {},
   "outputs": [],
   "source": [
    "driver.get(\"https://www.azquotes.com/\")"
   ]
  },
  {
   "cell_type": "code",
   "execution_count": 70,
   "id": "51de7308",
   "metadata": {},
   "outputs": [],
   "source": [
    "press=driver.find_element(By.XPATH, \"/html/body/div[1]/div[1]/div[1]/div/div[3]/ul/li[5]/a\")\n",
    "press.click()"
   ]
  },
  {
   "cell_type": "code",
   "execution_count": 72,
   "id": "239fd076",
   "metadata": {},
   "outputs": [],
   "source": [
    "Quotes1=[]\n",
    "author1=[]\n",
    "type_of1=[]"
   ]
  },
  {
   "cell_type": "code",
   "execution_count": null,
   "id": "f2fa0b66",
   "metadata": {},
   "outputs": [],
   "source": [
    "Quotes_tag=driver.find_elements(By.XPATH,'//a[@class=\"title\"]')\n",
    "for i in title_tag:\n",
    "    titles=i.text\n",
    "    Title.append(titles)\n"
   ]
  },
  {
   "cell_type": "code",
   "execution_count": 73,
   "id": "207ec84d",
   "metadata": {},
   "outputs": [],
   "source": [
    "start = 0\n",
    "end = 10\n",
    "for page in range(start,end):\n",
    "    quotes=driver.find_elements(By.XPATH,'//a[@class=\"title\"]')\n",
    "    for i in quotes:\n",
    "        title=i.text\n",
    "        Quotes1.append(title)\n",
    "next_button = WebDriverWait(driver, 10).until(\n",
    "EC.element_to_be_clickable((By.XPATH, \"/html/body/div[1]/div[2]/div/div/div/div[1]/div/div[4]/li[12]/a\"))\n",
    ")\n",
    "next_button.click()"
   ]
  },
  {
   "cell_type": "code",
   "execution_count": 78,
   "id": "79d9f43a",
   "metadata": {},
   "outputs": [],
   "source": [
    "start = 0\n",
    "end = 10\n",
    "for page in range(start,end):\n",
    "    authors=driver.find_elements(By.XPATH,'//div[@class=\"author\"]')\n",
    "    for i in authors:\n",
    "        title=i.text\n",
    "        author1.append(title)\n",
    "next_button = WebDriverWait(driver, 10).until(\n",
    "EC.element_to_be_clickable((By.XPATH, \"/html/body/div[1]/div[2]/div/div/div/div[1]/div/div[4]/li[12]/a\"))\n",
    ")\n",
    "next_button.click()"
   ]
  },
  {
   "cell_type": "code",
   "execution_count": 81,
   "id": "b5a776c2",
   "metadata": {},
   "outputs": [],
   "source": [
    "start = 0\n",
    "end = 10\n",
    "for page in range(start,end):\n",
    "    type_=driver.find_elements(By.XPATH,'//div[@class=\"tags\"]')\n",
    "    for i in type_:\n",
    "        title=i.text\n",
    "        type_of1.append(title)\n",
    "next_button = WebDriverWait(driver, 10).until(\n",
    "EC.element_to_be_clickable((By.XPATH, \"/html/body/div[1]/div[2]/div/div/div/div[1]/div/div[4]/li[12]/a\"))\n",
    ")\n",
    "next_button.click()"
   ]
  },
  {
   "cell_type": "code",
   "execution_count": 86,
   "id": "737953df",
   "metadata": {},
   "outputs": [
    {
     "data": {
      "text/html": [
       "<div>\n",
       "<style scoped>\n",
       "    .dataframe tbody tr th:only-of-type {\n",
       "        vertical-align: middle;\n",
       "    }\n",
       "\n",
       "    .dataframe tbody tr th {\n",
       "        vertical-align: top;\n",
       "    }\n",
       "\n",
       "    .dataframe thead th {\n",
       "        text-align: right;\n",
       "    }\n",
       "</style>\n",
       "<table border=\"1\" class=\"dataframe\">\n",
       "  <thead>\n",
       "    <tr style=\"text-align: right;\">\n",
       "      <th></th>\n",
       "      <th>quotes</th>\n",
       "      <th>author</th>\n",
       "      <th>type of</th>\n",
       "    </tr>\n",
       "  </thead>\n",
       "  <tbody>\n",
       "    <tr>\n",
       "      <th>0</th>\n",
       "      <td>The essence of strategy is choosing what not t...</td>\n",
       "      <td>Michael Porter</td>\n",
       "      <td>Essence, Deep Thought, Transcendentalism</td>\n",
       "    </tr>\n",
       "    <tr>\n",
       "      <th>1</th>\n",
       "      <td>One cannot and must not try to erase the past ...</td>\n",
       "      <td>Golda Meir</td>\n",
       "      <td>Inspiration, Past, Trying</td>\n",
       "    </tr>\n",
       "    <tr>\n",
       "      <th>2</th>\n",
       "      <td>Patriotism means to stand by the country. It d...</td>\n",
       "      <td>Theodore Roosevelt</td>\n",
       "      <td>Country, Peace, War</td>\n",
       "    </tr>\n",
       "    <tr>\n",
       "      <th>3</th>\n",
       "      <td>Death is something inevitable. When a man has ...</td>\n",
       "      <td>Nelson Mandela</td>\n",
       "      <td>Inspirational, Motivational, Death</td>\n",
       "    </tr>\n",
       "    <tr>\n",
       "      <th>4</th>\n",
       "      <td>You have to love a nation that celebrates its ...</td>\n",
       "      <td>Erma Bombeck</td>\n",
       "      <td>4th Of July, Food, Patriotic</td>\n",
       "    </tr>\n",
       "    <tr>\n",
       "      <th>5</th>\n",
       "      <td>Be more concerned with your character than you...</td>\n",
       "      <td>John Wooden</td>\n",
       "      <td>Inspirational, Success, Basketball</td>\n",
       "    </tr>\n",
       "    <tr>\n",
       "      <th>6</th>\n",
       "      <td>Weak people revenge. Strong people forgive. In...</td>\n",
       "      <td>Albert Einstein</td>\n",
       "      <td>Strong, Revenge, Intelligent</td>\n",
       "    </tr>\n",
       "    <tr>\n",
       "      <th>7</th>\n",
       "      <td>A mind is like a parachute. It doesn't work if...</td>\n",
       "      <td>Frank Zappa</td>\n",
       "      <td>Inspirational, Teacher, Religious</td>\n",
       "    </tr>\n",
       "    <tr>\n",
       "      <th>8</th>\n",
       "      <td>Never be afraid to raise your voice for honest...</td>\n",
       "      <td>William Faulkner</td>\n",
       "      <td>Truth, Honesty, Lying</td>\n",
       "    </tr>\n",
       "    <tr>\n",
       "      <th>9</th>\n",
       "      <td>There are three kinds of men. The one that lea...</td>\n",
       "      <td>Will Rogers</td>\n",
       "      <td>Funny, Reading, Learning</td>\n",
       "    </tr>\n",
       "  </tbody>\n",
       "</table>\n",
       "</div>"
      ],
      "text/plain": [
       "                                              quotes              author  \\\n",
       "0  The essence of strategy is choosing what not t...      Michael Porter   \n",
       "1  One cannot and must not try to erase the past ...          Golda Meir   \n",
       "2  Patriotism means to stand by the country. It d...  Theodore Roosevelt   \n",
       "3  Death is something inevitable. When a man has ...      Nelson Mandela   \n",
       "4  You have to love a nation that celebrates its ...        Erma Bombeck   \n",
       "5  Be more concerned with your character than you...         John Wooden   \n",
       "6  Weak people revenge. Strong people forgive. In...     Albert Einstein   \n",
       "7  A mind is like a parachute. It doesn't work if...         Frank Zappa   \n",
       "8  Never be afraid to raise your voice for honest...    William Faulkner   \n",
       "9  There are three kinds of men. The one that lea...         Will Rogers   \n",
       "\n",
       "                                    type of  \n",
       "0  Essence, Deep Thought, Transcendentalism  \n",
       "1                 Inspiration, Past, Trying  \n",
       "2                       Country, Peace, War  \n",
       "3        Inspirational, Motivational, Death  \n",
       "4              4th Of July, Food, Patriotic  \n",
       "5        Inspirational, Success, Basketball  \n",
       "6              Strong, Revenge, Intelligent  \n",
       "7         Inspirational, Teacher, Religious  \n",
       "8                     Truth, Honesty, Lying  \n",
       "9                  Funny, Reading, Learning  "
      ]
     },
     "execution_count": 86,
     "metadata": {},
     "output_type": "execute_result"
    }
   ],
   "source": [
    "data=pd.DataFrame({})\n",
    "data['quotes']=Quotes1[:10]\n",
    "data['author']=author1[:10]\n",
    "data['type of']=type_of1[:10]\n",
    "data"
   ]
  },
  {
   "cell_type": "code",
   "execution_count": 87,
   "id": "34f1ed15",
   "metadata": {},
   "outputs": [
    {
     "name": "stdout",
     "output_type": "stream",
     "text": [
      "1000 1000 1000\n"
     ]
    }
   ],
   "source": [
    "print(len(Quotes1),len(author1),len(type_of1))"
   ]
  },
  {
   "cell_type": "markdown",
   "id": "e24ee45c",
   "metadata": {},
   "source": [
    "# QUESTION 9 "
   ]
  },
  {
   "cell_type": "code",
   "execution_count": 88,
   "id": "9776fbb0",
   "metadata": {},
   "outputs": [],
   "source": [
    "import selenium\n",
    "import pandas as pd\n",
    "from selenium import webdriver\n",
    "import warnings\n",
    "warnings.filterwarnings('ignore')\n",
    "from selenium.webdriver.common.by import By"
   ]
  },
  {
   "cell_type": "code",
   "execution_count": 164,
   "id": "5622dd8c",
   "metadata": {},
   "outputs": [],
   "source": [
    "driver = webdriver.Chrome() "
   ]
  },
  {
   "cell_type": "code",
   "execution_count": 165,
   "id": "f1c3b6c0",
   "metadata": {},
   "outputs": [],
   "source": [
    "driver.get(\"https://www.jagranjosh.com/\")"
   ]
  },
  {
   "cell_type": "code",
   "execution_count": 170,
   "id": "16622455",
   "metadata": {},
   "outputs": [],
   "source": [
    "press=driver.find_element(By.XPATH, \"/html/body/div/header/nav/div/div/div[3]/ul/li[3]/a\")\n",
    "press.click()"
   ]
  },
  {
   "cell_type": "code",
   "execution_count": 176,
   "id": "e6da84c0",
   "metadata": {},
   "outputs": [],
   "source": [
    "press=driver.find_element(By.XPATH, \"/html/body/div[1]/div[8]/section[5]/div[1]/span/a\")\n",
    "press.click()"
   ]
  },
  {
   "cell_type": "code",
   "execution_count": 177,
   "id": "9b59c47f",
   "metadata": {},
   "outputs": [],
   "source": [
    "press=driver.find_element(By.XPATH, \"/html/body/div[1]/main/div[1]/div[1]/section[2]/div/ul/li[9]/article/h3/a\")\n",
    "press.click()"
   ]
  },
  {
   "cell_type": "code",
   "execution_count": 179,
   "id": "72b8a9ab",
   "metadata": {},
   "outputs": [],
   "source": [
    "All=[]\n",
    "Born_Dead=[]\n",
    "Term_of_office=[] \n",
    "Remarks=[]"
   ]
  },
  {
   "cell_type": "code",
   "execution_count": 180,
   "id": "8e96c2eb",
   "metadata": {},
   "outputs": [],
   "source": [
    "data=driver.find_elements(By.XPATH,'//td[@valign=\"top\"]')\n",
    "for i in data:\n",
    "    titles=i.text\n",
    "    All.append(titles)"
   ]
  },
  {
   "cell_type": "code",
   "execution_count": 181,
   "id": "9a731abf",
   "metadata": {
    "scrolled": true
   },
   "outputs": [
    {
     "data": {
      "text/plain": [
       "['1.',\n",
       " 'Jawahar Lal Nehru',\n",
       " '(1889–1964)',\n",
       " '15 August 1947 to 27 May 1964\\n16 years, 286 days',\n",
       " 'The first prime minister of India and the longest-serving PM of India, the first to die in office.',\n",
       " '2.',\n",
       " 'Gulzarilal Nanda (Acting)',\n",
       " '(1898-1998)',\n",
       " '27 May 1964 to 9 June 1964,\\n13 days',\n",
       " 'First acting PM of India',\n",
       " '3.',\n",
       " 'Lal Bahadur Shastri',\n",
       " '(1904–1966)',\n",
       " '9 June 1964 to 11 January 1966\\n1 year, 216 days',\n",
       " \"He has given the slogan of 'Jai Jawan Jai Kisan' during the Indo-Pak war of 1965\",\n",
       " '5.',\n",
       " 'Indira Gandhi',\n",
       " '(1917–1984)',\n",
       " '24 January 1966 to 24 March 1977\\n11 years, 59 days',\n",
       " 'First female Prime Minister of India',\n",
       " '6.',\n",
       " 'Morarji Desai',\n",
       " '(1896–1995)',\n",
       " '24 March 1977 to  28 July 1979 \\n2 year, 126 days',\n",
       " 'Oldest to become PM (81 years old) and first to resign from office',\n",
       " '7.',\n",
       " 'Charan Singh',\n",
       " '(1902–1987)',\n",
       " '28 July 1979 to 14 January 1980\\n170 days',\n",
       " 'Only PM who did not face the Parliament',\n",
       " '8.',\n",
       " 'Indira Gandhi',\n",
       " '(1917–1984)',\n",
       " '14 January 1980 to 31 October 1984\\n4 years, 291 days',\n",
       " 'The first lady who served as PM for the second term',\n",
       " '9.',\n",
       " 'Rajiv Gandhi',\n",
       " '(1944–1991)',\n",
       " '31 October 1984 to 2 December 1989\\n5 years, 32 days',\n",
       " 'Youngest to become PM (40 years old)',\n",
       " '10.',\n",
       " 'V. P. Singh',\n",
       " '(1931–2008)',\n",
       " '2 December 1989 to 10 November 1990\\n343 days',\n",
       " 'First PM to step down after a vote of no confidence',\n",
       " '11.',\n",
       " 'Chandra Shekhar',\n",
       " '(1927–2007)',\n",
       " '10 November 1990 to 21 June 1991\\n223 days',\n",
       " 'He belongs to  Samajwadi Janata Party',\n",
       " '12.',\n",
       " 'P. V. Narasimha Rao',\n",
       " '(1921–2004)',\n",
       " '21 June 1991 to 16 May 1996\\n4 years, 330 days',\n",
       " 'First PM from South India',\n",
       " '13.',\n",
       " 'Atal Bihari Vajpayee',\n",
       " '(1924- 2018)',\n",
       " '16 May 1996 to 1 June 1996\\n16 days',\n",
       " 'PM for shortest tenure',\n",
       " '14.',\n",
       " 'H. D. Deve Gowda',\n",
       " '(born 1933)',\n",
       " '1 June 1996 to 21 April 1997\\n324 days',\n",
       " 'He belongs to  Janata Dal',\n",
       " '15.',\n",
       " 'Inder Kumar Gujral',\n",
       " '(1919–2012)',\n",
       " '21 April 1997 to 19 March 1998 \\n332 days',\n",
       " '------',\n",
       " '16.',\n",
       " 'Atal Bihari Vajpayee',\n",
       " '(1924-2018)',\n",
       " '19 March 1998 to 22 May 2004 \\n6 years, 64 days',\n",
       " ' The first non-congress PM who completed a full term as PM',\n",
       " '17.',\n",
       " 'Manmohan Singh',\n",
       " '(born 1932)',\n",
       " '22 May 2004 to 26 May 2014   \\n10 years, 4 days',\n",
       " ' First Sikh PM',\n",
       " '18.',\n",
       " 'Narendra Modi',\n",
       " '(born 1950)',\n",
       " '26 May 2014 - 2019',\n",
       " '4th Prime Minister of India who served two consecutive tenures']"
      ]
     },
     "execution_count": 181,
     "metadata": {},
     "output_type": "execute_result"
    }
   ],
   "source": [
    "All"
   ]
  },
  {
   "cell_type": "code",
   "execution_count": 195,
   "id": "5f9c24ef",
   "metadata": {},
   "outputs": [
    {
     "name": "stdout",
     "output_type": "stream",
     "text": [
      "   Number                       Name         Years  \\\n",
      "0      1.          Jawahar Lal Nehru   (1889–1964)   \n",
      "1      2.  Gulzarilal Nanda (Acting)   (1898-1998)   \n",
      "2      3.        Lal Bahadur Shastri   (1904–1966)   \n",
      "3      5.              Indira Gandhi   (1917–1984)   \n",
      "4      6.              Morarji Desai   (1896–1995)   \n",
      "5      7.               Charan Singh   (1902–1987)   \n",
      "6      8.              Indira Gandhi   (1917–1984)   \n",
      "7      9.               Rajiv Gandhi   (1944–1991)   \n",
      "8     10.                V. P. Singh   (1931–2008)   \n",
      "9     11.            Chandra Shekhar   (1927–2007)   \n",
      "10    12.        P. V. Narasimha Rao   (1921–2004)   \n",
      "11    13.       Atal Bihari Vajpayee  (1924- 2018)   \n",
      "12    14.           H. D. Deve Gowda   (born 1933)   \n",
      "13    15.         Inder Kumar Gujral   (1919–2012)   \n",
      "14    16.       Atal Bihari Vajpayee   (1924-2018)   \n",
      "15    17.             Manmohan Singh   (born 1932)   \n",
      "16    18.              Narendra Modi   (born 1950)   \n",
      "\n",
      "                                                 Term  \\\n",
      "0   15 August 1947 to 27 May 1964\\n16 years, 286 days   \n",
      "1                27 May 1964 to 9 June 1964,\\n13 days   \n",
      "2    9 June 1964 to 11 January 1966\\n1 year, 216 days   \n",
      "3   24 January 1966 to 24 March 1977\\n11 years, 59...   \n",
      "4   24 March 1977 to  28 July 1979 \\n2 year, 126 days   \n",
      "5           28 July 1979 to 14 January 1980\\n170 days   \n",
      "6   14 January 1980 to 31 October 1984\\n4 years, 2...   \n",
      "7   31 October 1984 to 2 December 1989\\n5 years, 3...   \n",
      "8       2 December 1989 to 10 November 1990\\n343 days   \n",
      "9          10 November 1990 to 21 June 1991\\n223 days   \n",
      "10     21 June 1991 to 16 May 1996\\n4 years, 330 days   \n",
      "11                16 May 1996 to 1 June 1996\\n16 days   \n",
      "12             1 June 1996 to 21 April 1997\\n324 days   \n",
      "13          21 April 1997 to 19 March 1998 \\n332 days   \n",
      "14    19 March 1998 to 22 May 2004 \\n6 years, 64 days   \n",
      "15    22 May 2004 to 26 May 2014   \\n10 years, 4 days   \n",
      "16                                 26 May 2014 - 2019   \n",
      "\n",
      "                                              Details  \n",
      "0   The first prime minister of India and the long...  \n",
      "1                            First acting PM of India  \n",
      "2   He has given the slogan of 'Jai Jawan Jai Kisa...  \n",
      "3                First female Prime Minister of India  \n",
      "4   Oldest to become PM (81 years old) and first t...  \n",
      "5             Only PM who did not face the Parliament  \n",
      "6   The first lady who served as PM for the second...  \n",
      "7                Youngest to become PM (40 years old)  \n",
      "8   First PM to step down after a vote of no confi...  \n",
      "9               He belongs to  Samajwadi Janata Party  \n",
      "10                          First PM from South India  \n",
      "11                             PM for shortest tenure  \n",
      "12                          He belongs to  Janata Dal  \n",
      "13                                             ------  \n",
      "14   The first non-congress PM who completed a ful...  \n",
      "15                                      First Sikh PM  \n",
      "16  4th Prime Minister of India who served two con...  \n"
     ]
    }
   ],
   "source": [
    "data_string = [\n",
    " '1.',\n",
    " 'Jawahar Lal Nehru', '(1889–1964)',\n",
    " '15 August 1947 to 27 May 1964\\n16 years, 286 days',\n",
    "  'The first prime minister of India and the longest-serving PM of India, the first to die in office.',\n",
    "    \n",
    " '2.',\n",
    " 'Gulzarilal Nanda (Acting)',\n",
    " '(1898-1998)',\n",
    " '27 May 1964 to 9 June 1964,\\n13 days',\n",
    " 'First acting PM of India',\n",
    "    \n",
    " '3.',\n",
    " 'Lal Bahadur Shastri',\n",
    " '(1904–1966)',\n",
    " '9 June 1964 to 11 January 1966\\n1 year, 216 days',\n",
    " \"He has given the slogan of 'Jai Jawan Jai Kisan' during the Indo-Pak war of 1965\",\n",
    "    \n",
    " '5.',\n",
    " 'Indira Gandhi',\n",
    " '(1917–1984)',\n",
    " '24 January 1966 to 24 March 1977\\n11 years, 59 days',\n",
    " 'First female Prime Minister of India',\n",
    "    \n",
    " '6.',\n",
    " 'Morarji Desai',\n",
    " '(1896–1995)',\n",
    " '24 March 1977 to  28 July 1979 \\n2 year, 126 days',\n",
    " 'Oldest to become PM (81 years old) and first to resign from office',\n",
    "    \n",
    " '7.',\n",
    " 'Charan Singh',\n",
    " '(1902–1987)',\n",
    " '28 July 1979 to 14 January 1980\\n170 days',\n",
    " 'Only PM who did not face the Parliament',\n",
    "    \n",
    " '8.',\n",
    " 'Indira Gandhi',\n",
    " '(1917–1984)',\n",
    " '14 January 1980 to 31 October 1984\\n4 years, 291 days',\n",
    " 'The first lady who served as PM for the second term',\n",
    "    \n",
    " '9.',\n",
    " 'Rajiv Gandhi',\n",
    " '(1944–1991)',\n",
    " '31 October 1984 to 2 December 1989\\n5 years, 32 days',\n",
    " 'Youngest to become PM (40 years old)',\n",
    "    \n",
    " '10.',\n",
    " 'V. P. Singh',\n",
    " '(1931–2008)',\n",
    " '2 December 1989 to 10 November 1990\\n343 days',\n",
    " 'First PM to step down after a vote of no confidence',\n",
    "    \n",
    " '11.',\n",
    " 'Chandra Shekhar',\n",
    " '(1927–2007)',\n",
    " '10 November 1990 to 21 June 1991\\n223 days',\n",
    " 'He belongs to  Samajwadi Janata Party',\n",
    "    \n",
    " '12.',\n",
    " 'P. V. Narasimha Rao',\n",
    " '(1921–2004)',\n",
    " '21 June 1991 to 16 May 1996\\n4 years, 330 days',\n",
    " 'First PM from South India',\n",
    "    \n",
    " '13.',\n",
    " 'Atal Bihari Vajpayee',\n",
    " '(1924- 2018)',\n",
    " '16 May 1996 to 1 June 1996\\n16 days',\n",
    " 'PM for shortest tenure',\n",
    "    \n",
    " '14.',\n",
    " 'H. D. Deve Gowda',\n",
    " '(born 1933)',\n",
    " '1 June 1996 to 21 April 1997\\n324 days',\n",
    " 'He belongs to  Janata Dal',\n",
    "    \n",
    " '15.',\n",
    " 'Inder Kumar Gujral',\n",
    " '(1919–2012)',\n",
    " '21 April 1997 to 19 March 1998 \\n332 days',\n",
    " '------',\n",
    "    \n",
    " '16.',\n",
    " 'Atal Bihari Vajpayee',\n",
    " '(1924-2018)',\n",
    " '19 March 1998 to 22 May 2004 \\n6 years, 64 days',\n",
    " ' The first non-congress PM who completed a full term as PM',\n",
    "    \n",
    " '17.',\n",
    " 'Manmohan Singh',\n",
    " '(born 1932)',\n",
    " '22 May 2004 to 26 May 2014   \\n10 years, 4 days',\n",
    " ' First Sikh PM',\n",
    "    \n",
    " '18.',\n",
    " 'Narendra Modi',\n",
    " '(born 1950)',\n",
    " '26 May 2014 - 2019',\n",
    " '4th Prime Minister of India who served two consecutive tenures']\n",
    "\n",
    "data_groups = [data_string[i:i + 5] for i in range(0, len(data_string), 5)]\n",
    "\n",
    "df = pd.DataFrame(data_groups, columns=['Number', 'Name', 'Years', 'Term', 'Details'])\n",
    "\n",
    "print(df)"
   ]
  },
  {
   "cell_type": "code",
   "execution_count": null,
   "id": "55babc5f",
   "metadata": {},
   "outputs": [],
   "source": []
  },
  {
   "cell_type": "markdown",
   "id": "3b40b0f7",
   "metadata": {},
   "source": [
    "# QUESTION 10"
   ]
  },
  {
   "cell_type": "code",
   "execution_count": 113,
   "id": "58f2b29e",
   "metadata": {},
   "outputs": [],
   "source": [
    "import selenium\n",
    "import pandas as pd\n",
    "from selenium import webdriver\n",
    "import warnings\n",
    "warnings.filterwarnings('ignore')\n",
    "from selenium.webdriver.common.by import By"
   ]
  },
  {
   "cell_type": "code",
   "execution_count": 114,
   "id": "34080500",
   "metadata": {},
   "outputs": [],
   "source": [
    "driver = webdriver.Chrome() "
   ]
  },
  {
   "cell_type": "code",
   "execution_count": 115,
   "id": "e056bb36",
   "metadata": {},
   "outputs": [],
   "source": [
    "driver.get(\"https://www.motor1.com/\")"
   ]
  },
  {
   "cell_type": "code",
   "execution_count": 116,
   "id": "54359ba6",
   "metadata": {},
   "outputs": [],
   "source": [
    "typing=driver.find_element(By.XPATH, \"/html/body/div[10]/div[2]/div/div/div[3]/div/div/div/form/input \")\n",
    "typing.send_keys('50 most expensive cars')"
   ]
  },
  {
   "cell_type": "code",
   "execution_count": 117,
   "id": "8cf67e80",
   "metadata": {},
   "outputs": [],
   "source": [
    "press=driver.find_element(By.XPATH, \"/html/body/div[10]/div[2]/div/div/div[3]/div/div/div/form/button[1]\")\n",
    "press.click()"
   ]
  },
  {
   "cell_type": "code",
   "execution_count": 118,
   "id": "a74ab535",
   "metadata": {},
   "outputs": [],
   "source": [
    "press=driver.find_element(By.XPATH, \"/html/body/div[10]/div[9]/div/div[1]/div/div/div[2]/div/div[1]/h3/a\")\n",
    "press.click()"
   ]
  },
  {
   "cell_type": "code",
   "execution_count": 141,
   "id": "1033a604",
   "metadata": {},
   "outputs": [],
   "source": [
    "Car_name=[]\n",
    "Price11=[]    "
   ]
  },
  {
   "cell_type": "code",
   "execution_count": 148,
   "id": "b4666f2b",
   "metadata": {},
   "outputs": [],
   "source": [
    "car=driver.find_elements(By.XPATH,'//h3[@class=\"subheader\"]')\n",
    "for i in car:\n",
    "    title=i.text\n",
    "    Car_name.append(title)\n",
    "\n",
    "Carn=Car_name[:50]"
   ]
  },
  {
   "cell_type": "code",
   "execution_count": 144,
   "id": "074f9409",
   "metadata": {},
   "outputs": [],
   "source": [
    "price_element = driver.find_elements(By.XPATH, '//strong[contains(text(), \"Price\")]')\n",
    "for i in price_element:\n",
    "    title=i.text\n",
    "    Price11.append(title)"
   ]
  },
  {
   "cell_type": "code",
   "execution_count": 163,
   "id": "d591201a",
   "metadata": {},
   "outputs": [
    {
     "name": "stdout",
     "output_type": "stream",
     "text": [
      "                           car_name                        Price\n",
      "0               Aston Martin Valour          Price: $1.5 Million\n",
      "1                      McLaren Elva          Price: $1.7 Million\n",
      "2                       Czinger 21C          Price: $1.7 Million\n",
      "3                     Ferrari Monza          Price: $1.7 Million\n",
      "4                Gordon Murray T.33          Price: $1.7 Million\n",
      "5                 Koenigsegg Gemera          Price: $1.7 Million\n",
      "6                       Zenvo TSR-S          Price: $1.7 Million\n",
      "7                Hennessey Venom F5          Price: $1.8 Million\n",
      "8                   Bentley Bacalar          Price: $1.9 Million\n",
      "9     Hispano Suiza Carmen Boulogne          Price: $1.9 Million\n",
      "10           Bentley Mulliner Batur          Price: $2.0 Million\n",
      "11                     Deus Vayanne          Price: $2.0 Million\n",
      "12                      SSC Tuatara          Price: $2.0 Million\n",
      "13                      Lotus Evija          Price: $2.1 Million\n",
      "14              Aston Martin Vulcan          Price: $2.3 Million\n",
      "15                       Delage D12          Price: $2.3 Million\n",
      "16              Ferrari Daytona SP3          Price: $2.3 Million\n",
      "17                McLaren Speedtail          Price: $2.3 Million\n",
      "18                     Rimac Nevera          Price: $2.4 Million\n",
      "19                    Pagani Utopia          Price: $2.5 Million\n",
      "20             Pininfarina Battista          Price: $2.5 Million\n",
      "21               Gordon Murray T.50          Price: $2.6 Million\n",
      "22             Lamborghini Countach          Price: $2.6 Million\n",
      "23         Mercedes-AMG Project One          Price: $2.7 Million\n",
      "24                     Zenvo Aurora          Price: $2.8 Million\n",
      "25              Aston Martin Victor          Price: $3.0 Million\n",
      "26      Hennessey Venom F5 Roadster          Price: $3.0 Million\n",
      "27                 Koenigsegg Jesko          Price: $3.2 Million\n",
      "28            Aston Martin Valkyrie          Price: $3.4 Million\n",
      "29        W Motors Lykan Hypersport          Price: $3.6 million\n",
      "30                    McLaren Solus          Price: $3.7 Million\n",
      "31                 Lamborghini Sian          Price: $3.9 Million\n",
      "32                 Koenigsegg CC850          Price: $4.5 Million\n",
      "33  Bugatti Chiron Super Sport 300+          Price: $4.7 Million\n",
      "34               Lamborghini Veneno          Price: $4.8 Million\n",
      "35                   Bugatti Bolide          Price: $5.0 Million\n",
      "36        Pininfarina B95 Speedster          Price: $5.4 Million\n",
      "37                  Bugatti Mistral          Price: $5.8 Million\n",
      "38              Pagani Huayra Imola          Price: $6.4 Million\n",
      "39                     Bugatti Divo          Price: $7.4 Million\n",
      "40              SP Automotive Chaos          Price: $7.5 Million\n",
      "41                 Pagani Codalunga          Price: $8.0 Million\n",
      "42                     777 Hypercar          Price: $9.0 Million\n",
      "43         Mercedes-Maybach Exelero         Price: $10.8 Million\n",
      "44               Bugatti Centodieci         Price: $12.8 Million\n",
      "45          Bugatti Chiron Profilée         Price: $13.4 Million\n",
      "46             Rolls-Royce Sweptail  Price: $28.0 Million (est.)\n",
      "47         Bugatti La Voiture Noire    Price: $30 Million (est.)\n"
     ]
    }
   ],
   "source": [
    "min_length = min(len(Carn), len(Price11))\n",
    "\n",
    "data1 = pd.DataFrame({\n",
    "    'car_name': Carn[:min_length],\n",
    "    'Price': Price11[:min_length]\n",
    "})\n",
    "\n",
    "print(data1)"
   ]
  },
  {
   "cell_type": "code",
   "execution_count": null,
   "id": "8ab726a5",
   "metadata": {},
   "outputs": [],
   "source": []
  }
 ],
 "metadata": {
  "kernelspec": {
   "display_name": "Python 3 (ipykernel)",
   "language": "python",
   "name": "python3"
  },
  "language_info": {
   "codemirror_mode": {
    "name": "ipython",
    "version": 3
   },
   "file_extension": ".py",
   "mimetype": "text/x-python",
   "name": "python",
   "nbconvert_exporter": "python",
   "pygments_lexer": "ipython3",
   "version": "3.11.3"
  }
 },
 "nbformat": 4,
 "nbformat_minor": 5
}

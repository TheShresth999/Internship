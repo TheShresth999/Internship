{
 "cells": [
  {
   "cell_type": "markdown",
   "id": "12435298",
   "metadata": {},
   "source": [
    "1) Answer - C"
   ]
  },
  {
   "cell_type": "markdown",
   "id": "cd56e673",
   "metadata": {},
   "source": [
    "2. Answer - B"
   ]
  },
  {
   "cell_type": "markdown",
   "id": "3a3d95c8",
   "metadata": {},
   "source": [
    "3. Answer - C"
   ]
  },
  {
   "cell_type": "markdown",
   "id": "c10ce404",
   "metadata": {},
   "source": [
    "4. Answer - D"
   ]
  },
  {
   "cell_type": "markdown",
   "id": "5a9bc1e7",
   "metadata": {},
   "source": [
    "5. Answer - D"
   ]
  },
  {
   "cell_type": "markdown",
   "id": "c2a7b49b",
   "metadata": {},
   "source": [
    "6. Answer - C"
   ]
  },
  {
   "cell_type": "markdown",
   "id": "f49f9497",
   "metadata": {},
   "source": [
    "7. Answer - A"
   ]
  },
  {
   "cell_type": "markdown",
   "id": "17ad998c",
   "metadata": {},
   "source": [
    "8. Answer - C"
   ]
  },
  {
   "cell_type": "markdown",
   "id": "490842fa",
   "metadata": {},
   "source": [
    "9. Answer - A , C"
   ]
  },
  {
   "cell_type": "markdown",
   "id": "965fc002",
   "metadata": {},
   "source": [
    "10. Answer - A, B"
   ]
  },
  {
   "cell_type": "markdown",
   "id": "8dde9072",
   "metadata": {},
   "source": [
    "11. --"
   ]
  },
  {
   "cell_type": "code",
   "execution_count": 8,
   "id": "5b378eee",
   "metadata": {},
   "outputs": [
    {
     "name": "stdout",
     "output_type": "stream",
     "text": [
      "Kindly enter number: 8\n",
      "the factorial of 8 is: 40320\n"
     ]
    }
   ],
   "source": [
    "def factorial_ident(cls):\n",
    "    if cls == 0 or cls ==1:\n",
    "        return 1\n",
    "    else : \n",
    "        return cls * factorial_ident(cls - 1)\n",
    "    \n",
    "inpt = int(input(\"Kindly enter number: \"))\n",
    "\n",
    "if inpt < 0:\n",
    "    print(\"Factorial is not defined for negative numbers.\")\n",
    "else:\n",
    "    result = factorial_ident(inpt)\n",
    "    print(\"the factorial of\", inpt,  \"is:\", result)"
   ]
  },
  {
   "cell_type": "markdown",
   "id": "d52497b6",
   "metadata": {},
   "source": [
    "12. --"
   ]
  },
  {
   "cell_type": "code",
   "execution_count": 18,
   "id": "b3fa4256",
   "metadata": {},
   "outputs": [
    {
     "name": "stdout",
     "output_type": "stream",
     "text": [
      "Enter a number to check: 95\n",
      "The number is a composite number.\n"
     ]
    }
   ],
   "source": [
    "inpt=int(input(\"Enter a number to check: \"))\n",
    "count=0\n",
    "\n",
    "for num in range(1,inpt+1):\n",
    "    remain=inpt%num\n",
    "    if (remain==0):\n",
    "        count=count+1\n",
    "\n",
    "if (count==1):\n",
    "    print(\"The number is neither prime nor composite.\")\n",
    "        \n",
    "if(count==2):\n",
    "    print(\"The number is a prime number.\")\n",
    "\n",
    "elif(count>=3):\n",
    "    print(\"The number is a composite number.\")"
   ]
  },
  {
   "cell_type": "markdown",
   "id": "27b88b9a",
   "metadata": {},
   "source": [
    "13--"
   ]
  },
  {
   "cell_type": "code",
   "execution_count": 19,
   "id": "d8f62cc3",
   "metadata": {},
   "outputs": [
    {
     "name": "stdout",
     "output_type": "stream",
     "text": [
      "Enter string for palindrome check: mayam\n",
      "you got a palindrome!!\n"
     ]
    }
   ],
   "source": [
    "string = input(\"Enter string for palindrome check: \")\n",
    "string = string.casefold()\n",
    "reverse_str = reversed(string)\n",
    "\n",
    "if list(string) ==  list(reverse_str):\n",
    "    print(\"you got a palindrome!!\")\n",
    "else:\n",
    "    print(\"the string is not a palindrome.\")"
   ]
  },
  {
   "cell_type": "markdown",
   "id": "23996156",
   "metadata": {},
   "source": [
    "14. --"
   ]
  },
  {
   "cell_type": "code",
   "execution_count": 20,
   "id": "31708c5a",
   "metadata": {},
   "outputs": [],
   "source": [
    "import math"
   ]
  },
  {
   "cell_type": "code",
   "execution_count": 21,
   "id": "0db8ad98",
   "metadata": {},
   "outputs": [
    {
     "name": "stdout",
     "output_type": "stream",
     "text": [
      "Enter length of the first side:3\n",
      "enter length of the second side:4\n",
      "THe length of the third side is 5.0\n"
     ]
    }
   ],
   "source": [
    "def third_side(side1, side2):\n",
    "    thrd_side = (side1**2 + side2**2)**0.5\n",
    "    return thrd_side\n",
    "\n",
    "side1 = float(input(\"Enter length of the first side:\"))\n",
    "side2 = float(input(\"enter length of the second side:\"))\n",
    "\n",
    "thrd_side = third_side(side1, side2)\n",
    "print(\"THe length of the third side is\", thrd_side)"
   ]
  },
  {
   "cell_type": "markdown",
   "id": "b8ac9484",
   "metadata": {},
   "source": [
    "15--"
   ]
  },
  {
   "cell_type": "code",
   "execution_count": 29,
   "id": "0ce218e6",
   "metadata": {},
   "outputs": [
    {
     "name": "stdout",
     "output_type": "stream",
     "text": [
      "Enter a string: shresth\n",
      "The character s appears 2 times\n",
      "The character h appears 2 times\n",
      "The character r appears 1 times\n",
      "The character e appears 1 times\n",
      "The character t appears 1 times\n"
     ]
    }
   ],
   "source": [
    "def char_freq(inpt_str):\n",
    "    \n",
    "    frequency_dict = {}\n",
    "\n",
    "    for char in inpt_str:\n",
    "        if char in frequency_dict:\n",
    "            frequency_dict[char] += 1\n",
    "        else:\n",
    "            frequency_dict[char] = 1\n",
    "\n",
    "    for char, frequency in frequency_dict.items():\n",
    "        print(\"The character\", char, \"appears\" ,frequency, \"times\")\n",
    "\n",
    "user_input = input(\"Enter a string: \")\n",
    "char_freq(user_input)"
   ]
  },
  {
   "cell_type": "code",
   "execution_count": null,
   "id": "81fdca34",
   "metadata": {},
   "outputs": [],
   "source": []
  }
 ],
 "metadata": {
  "kernelspec": {
   "display_name": "Python 3 (ipykernel)",
   "language": "python",
   "name": "python3"
  },
  "language_info": {
   "codemirror_mode": {
    "name": "ipython",
    "version": 3
   },
   "file_extension": ".py",
   "mimetype": "text/x-python",
   "name": "python",
   "nbconvert_exporter": "python",
   "pygments_lexer": "ipython3",
   "version": "3.11.3"
  }
 },
 "nbformat": 4,
 "nbformat_minor": 5
}
